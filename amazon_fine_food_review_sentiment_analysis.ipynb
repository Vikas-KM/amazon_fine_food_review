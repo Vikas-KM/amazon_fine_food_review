{
  "nbformat": 4,
  "nbformat_minor": 0,
  "metadata": {
    "kernelspec": {
      "name": "python3",
      "display_name": "Python 3",
      "language": "python"
    },
    "language_info": {
      "name": "python",
      "version": "3.6.12-final",
      "mimetype": "text/x-python",
      "codemirror_mode": {
        "name": "ipython",
        "version": 3
      },
      "pygments_lexer": "ipython3",
      "nbconvert_exporter": "python",
      "file_extension": ".py"
    },
    "colab": {
      "name": "amazon-fine-food-review-sentiment-analysis.ipynb",
      "provenance": [],
      "include_colab_link": true
    },
    "accelerator": "GPU"
  },
  "cells": [
    {
      "cell_type": "code",
      "metadata": {
        "id": "Ahj3CqJlC708"
      },
      "source": [
        "import pandas as pd\r\n",
        "import numpy as np"
      ],
      "execution_count": 6,
      "outputs": []
    },
    {
      "cell_type": "code",
      "metadata": {
        "_uuid": "d629ff2d2480ee46fbb7e2d37f6b5fab8052498a",
        "_cell_guid": "79c7e3d0-c299-4dcb-8224-4455121ee9b0",
        "trusted": true,
        "colab": {
          "base_uri": "https://localhost:8080/",
          "height": 410
        },
        "id": "MU0lWNt8CMZ9",
        "outputId": "64808e73-3d61-4616-8ac9-168d384c5f24"
      },
      "source": [
        "df = pd.read_csv('reviews.csv')\n",
        "df.head()"
      ],
      "execution_count": 15,
      "outputs": [
        {
          "output_type": "execute_result",
          "data": {
            "text/plain": [
              "    ProductId          UserId                      ProfileName  \\\n",
              "0  B001E4KFG0  A3SGXH7AUHU8GW                       delmartian   \n",
              "1  B00813GRG4  A1D87F6ZCVE5NK                           dll pa   \n",
              "2  B000LQOCH0   ABXLMWJIXXAIN  Natalia Corres \"Natalia Corres\"   \n",
              "3  B000UA0QIQ  A395BORC6FGVXV                             Karl   \n",
              "4  B006K2ZZ7K  A1UQRSCLF8GW1T    Michael D. Bigham \"M. Wassir\"   \n",
              "\n",
              "   HelpfulnessNumerator  HelpfulnessDenominator  Score        Time  \\\n",
              "0                     1                       1      5  1303862400   \n",
              "1                     0                       0      1  1346976000   \n",
              "2                     1                       1      4  1219017600   \n",
              "3                     3                       3      2  1307923200   \n",
              "4                     0                       0      5  1350777600   \n",
              "\n",
              "                 Summary                                               Text  \n",
              "0  Good Quality Dog Food  I have bought several of the Vitality canned d...  \n",
              "1      Not as Advertised  Product arrived labeled as Jumbo Salted Peanut...  \n",
              "2  \"Delight\" says it all  This is a confection that has been around a fe...  \n",
              "3         Cough Medicine  If you are looking for the secret ingredient i...  \n",
              "4            Great taffy  Great taffy at a great price.  There was a wid...  "
            ],
            "text/html": "<div>\n<style scoped>\n    .dataframe tbody tr th:only-of-type {\n        vertical-align: middle;\n    }\n\n    .dataframe tbody tr th {\n        vertical-align: top;\n    }\n\n    .dataframe thead th {\n        text-align: right;\n    }\n</style>\n<table border=\"1\" class=\"dataframe\">\n  <thead>\n    <tr style=\"text-align: right;\">\n      <th></th>\n      <th>ProductId</th>\n      <th>UserId</th>\n      <th>ProfileName</th>\n      <th>HelpfulnessNumerator</th>\n      <th>HelpfulnessDenominator</th>\n      <th>Score</th>\n      <th>Time</th>\n      <th>Summary</th>\n      <th>Text</th>\n    </tr>\n  </thead>\n  <tbody>\n    <tr>\n      <th>0</th>\n      <td>B001E4KFG0</td>\n      <td>A3SGXH7AUHU8GW</td>\n      <td>delmartian</td>\n      <td>1</td>\n      <td>1</td>\n      <td>5</td>\n      <td>1303862400</td>\n      <td>Good Quality Dog Food</td>\n      <td>I have bought several of the Vitality canned d...</td>\n    </tr>\n    <tr>\n      <th>1</th>\n      <td>B00813GRG4</td>\n      <td>A1D87F6ZCVE5NK</td>\n      <td>dll pa</td>\n      <td>0</td>\n      <td>0</td>\n      <td>1</td>\n      <td>1346976000</td>\n      <td>Not as Advertised</td>\n      <td>Product arrived labeled as Jumbo Salted Peanut...</td>\n    </tr>\n    <tr>\n      <th>2</th>\n      <td>B000LQOCH0</td>\n      <td>ABXLMWJIXXAIN</td>\n      <td>Natalia Corres \"Natalia Corres\"</td>\n      <td>1</td>\n      <td>1</td>\n      <td>4</td>\n      <td>1219017600</td>\n      <td>\"Delight\" says it all</td>\n      <td>This is a confection that has been around a fe...</td>\n    </tr>\n    <tr>\n      <th>3</th>\n      <td>B000UA0QIQ</td>\n      <td>A395BORC6FGVXV</td>\n      <td>Karl</td>\n      <td>3</td>\n      <td>3</td>\n      <td>2</td>\n      <td>1307923200</td>\n      <td>Cough Medicine</td>\n      <td>If you are looking for the secret ingredient i...</td>\n    </tr>\n    <tr>\n      <th>4</th>\n      <td>B006K2ZZ7K</td>\n      <td>A1UQRSCLF8GW1T</td>\n      <td>Michael D. Bigham \"M. Wassir\"</td>\n      <td>0</td>\n      <td>0</td>\n      <td>5</td>\n      <td>1350777600</td>\n      <td>Great taffy</td>\n      <td>Great taffy at a great price.  There was a wid...</td>\n    </tr>\n  </tbody>\n</table>\n</div>"
          },
          "metadata": {},
          "execution_count": 15
        }
      ]
    },
    {
      "cell_type": "code",
      "execution_count": 16,
      "metadata": {},
      "outputs": [
        {
          "output_type": "stream",
          "name": "stdout",
          "text": [
            "<class 'pandas.core.frame.DataFrame'>\nRangeIndex: 10000 entries, 0 to 9999\nData columns (total 9 columns):\n #   Column                  Non-Null Count  Dtype \n---  ------                  --------------  ----- \n 0   ProductId               10000 non-null  object\n 1   UserId                  10000 non-null  object\n 2   ProfileName             10000 non-null  object\n 3   HelpfulnessNumerator    10000 non-null  int64 \n 4   HelpfulnessDenominator  10000 non-null  int64 \n 5   Score                   10000 non-null  int64 \n 6   Time                    10000 non-null  int64 \n 7   Summary                 10000 non-null  object\n 8   Text                    10000 non-null  object\ndtypes: int64(4), object(5)\nmemory usage: 703.2+ KB\n"
          ]
        }
      ],
      "source": [
        "df1.info()"
      ]
    },
    {
      "cell_type": "code",
      "metadata": {
        "trusted": true,
        "id": "b-4I63lOCMaA"
      },
      "source": [
        "import matplotlib.pyplot as plt\n",
        "import seaborn as sns\n",
        "%matplotlib inline"
      ],
      "execution_count": 17,
      "outputs": []
    },
    {
      "cell_type": "code",
      "metadata": {
        "trusted": true,
        "id": "EMxcfJ57CMaB"
      },
      "source": [
        "# NLP Packages\n",
        "from wordcloud import WordCloud\n",
        "import nltk\n",
        "from nltk import word_tokenize\n",
        "from sklearn.feature_extraction.text import CountVectorizer\n",
        "from sklearn.feature_extraction.text import TfidfVectorizer\n",
        "from collections import Counter\n",
        "from nltk.corpus import stopwords"
      ],
      "execution_count": 19,
      "outputs": []
    },
    {
      "cell_type": "code",
      "metadata": {
        "trusted": true,
        "id": "1-sDcYJhCMaB"
      },
      "source": [
        "import re\n",
        "from bs4 import BeautifulSoup\n",
        "import pickle"
      ],
      "execution_count": 160,
      "outputs": []
    },
    {
      "cell_type": "code",
      "execution_count": 68,
      "metadata": {},
      "outputs": [],
      "source": [
        "# Modeling packages\n",
        "from sklearn.model_selection import train_test_split\n",
        "from sklearn.linear_model import LogisticRegression\n",
        "from sklearn.ensemble import RandomForestClassifier\n",
        "from sklearn.metrics import accuracy_score\n",
        "from sklearn.metrics import f1_score"
      ]
    },
    {
      "cell_type": "code",
      "metadata": {
        "trusted": true,
        "colab": {
          "base_uri": "https://localhost:8080/"
        },
        "id": "OJs-o0wACMaB",
        "outputId": "33b68e87-96c3-48e3-fd79-1be93f81e4f4"
      },
      "source": [
        "# null values\n",
        "df.isna().sum()"
      ],
      "execution_count": 22,
      "outputs": [
        {
          "output_type": "execute_result",
          "data": {
            "text/plain": [
              "ProductId                 0\n",
              "UserId                    0\n",
              "ProfileName               0\n",
              "HelpfulnessNumerator      0\n",
              "HelpfulnessDenominator    0\n",
              "Score                     0\n",
              "Time                      0\n",
              "Summary                   0\n",
              "Text                      0\n",
              "dtype: int64"
            ]
          },
          "metadata": {},
          "execution_count": 22
        }
      ]
    },
    {
      "cell_type": "markdown",
      "metadata": {
        "id": "nLt_rAC9CMaC"
      },
      "source": [
        "## Basic EDA"
      ]
    },
    {
      "cell_type": "code",
      "metadata": {
        "trusted": true,
        "id": "czSsEG_mCMaD"
      },
      "source": [
        "# words per review\n",
        "words_per_review = df['Text'].apply(lambda x: len(x.split(' ')))"
      ],
      "execution_count": 23,
      "outputs": []
    },
    {
      "cell_type": "code",
      "metadata": {
        "trusted": true,
        "colab": {
          "base_uri": "https://localhost:8080/",
          "height": 279
        },
        "id": "ku_iZehSCMaD",
        "outputId": "1fdafb48-aa50-4ed1-8a57-65e41af39c4f"
      },
      "source": [
        "words_per_review.hist(bins=50)\n",
        "plt.xlabel('Length of the Reviews')\n",
        "plt.ylabel('Frequency')\n",
        "plt.show()"
      ],
      "execution_count": 26,
      "outputs": [
        {
          "output_type": "display_data",
          "data": {
            "text/plain": "<Figure size 432x288 with 1 Axes>",
            "image/svg+xml": "<?xml version=\"1.0\" encoding=\"utf-8\" standalone=\"no\"?>\r\n<!DOCTYPE svg PUBLIC \"-//W3C//DTD SVG 1.1//EN\"\r\n  \"http://www.w3.org/Graphics/SVG/1.1/DTD/svg11.dtd\">\r\n<!-- Created with matplotlib (https://matplotlib.org/) -->\r\n<svg height=\"262.19625pt\" version=\"1.1\" viewBox=\"0 0 395.328125 262.19625\" width=\"395.328125pt\" xmlns=\"http://www.w3.org/2000/svg\" xmlns:xlink=\"http://www.w3.org/1999/xlink\">\r\n <metadata>\r\n  <rdf:RDF xmlns:cc=\"http://creativecommons.org/ns#\" xmlns:dc=\"http://purl.org/dc/elements/1.1/\" xmlns:rdf=\"http://www.w3.org/1999/02/22-rdf-syntax-ns#\">\r\n   <cc:Work>\r\n    <dc:type rdf:resource=\"http://purl.org/dc/dcmitype/StillImage\"/>\r\n    <dc:date>2021-01-07T15:16:18.722023</dc:date>\r\n    <dc:format>image/svg+xml</dc:format>\r\n    <dc:creator>\r\n     <cc:Agent>\r\n      <dc:title>Matplotlib v3.3.2, https://matplotlib.org/</dc:title>\r\n     </cc:Agent>\r\n    </dc:creator>\r\n   </cc:Work>\r\n  </rdf:RDF>\r\n </metadata>\r\n <defs>\r\n  <style type=\"text/css\">*{stroke-linecap:butt;stroke-linejoin:round;}</style>\r\n </defs>\r\n <g id=\"figure_1\">\r\n  <g id=\"patch_1\">\r\n   <path d=\"M 0 262.19625 \r\nL 395.328125 262.19625 \r\nL 395.328125 0 \r\nL 0 0 \r\nz\r\n\" style=\"fill:none;\"/>\r\n  </g>\r\n  <g id=\"axes_1\">\r\n   <g id=\"patch_2\">\r\n    <path d=\"M 53.328125 224.64 \r\nL 388.128125 224.64 \r\nL 388.128125 7.2 \r\nL 53.328125 7.2 \r\nz\r\n\" style=\"fill:#ffffff;\"/>\r\n   </g>\r\n   <g id=\"patch_3\">\r\n    <path clip-path=\"url(#pddf21949a2)\" d=\"M 68.546307 224.64 \r\nL 74.63358 224.64 \r\nL 74.63358 17.554286 \r\nL 68.546307 17.554286 \r\nz\r\n\" style=\"fill:#1f77b4;\"/>\r\n   </g>\r\n   <g id=\"patch_4\">\r\n    <path clip-path=\"url(#pddf21949a2)\" d=\"M 74.63358 224.64 \r\nL 80.720852 224.64 \r\nL 80.720852 56.531538 \r\nL 74.63358 56.531538 \r\nz\r\n\" style=\"fill:#1f77b4;\"/>\r\n   </g>\r\n   <g id=\"patch_5\">\r\n    <path clip-path=\"url(#pddf21949a2)\" d=\"M 80.720852 224.64 \r\nL 86.808125 224.64 \r\nL 86.808125 130.948201 \r\nL 80.720852 130.948201 \r\nz\r\n\" style=\"fill:#1f77b4;\"/>\r\n   </g>\r\n   <g id=\"patch_6\">\r\n    <path clip-path=\"url(#pddf21949a2)\" d=\"M 86.808125 224.64 \r\nL 92.895398 224.64 \r\nL 92.895398 171.084401 \r\nL 86.808125 171.084401 \r\nz\r\n\" style=\"fill:#1f77b4;\"/>\r\n   </g>\r\n   <g id=\"patch_7\">\r\n    <path clip-path=\"url(#pddf21949a2)\" d=\"M 92.895398 224.64 \r\nL 98.98267 224.64 \r\nL 98.98267 192.128458 \r\nL 92.895398 192.128458 \r\nz\r\n\" style=\"fill:#1f77b4;\"/>\r\n   </g>\r\n   <g id=\"patch_8\">\r\n    <path clip-path=\"url(#pddf21949a2)\" d=\"M 98.98267 224.64 \r\nL 105.069943 224.64 \r\nL 105.069943 206.645807 \r\nL 98.98267 206.645807 \r\nz\r\n\" style=\"fill:#1f77b4;\"/>\r\n   </g>\r\n   <g id=\"patch_9\">\r\n    <path clip-path=\"url(#pddf21949a2)\" d=\"M 105.069943 224.64 \r\nL 111.157216 224.64 \r\nL 111.157216 212.928525 \r\nL 105.069943 212.928525 \r\nz\r\n\" style=\"fill:#1f77b4;\"/>\r\n   </g>\r\n   <g id=\"patch_10\">\r\n    <path clip-path=\"url(#pddf21949a2)\" d=\"M 111.157216 224.64 \r\nL 117.244489 224.64 \r\nL 117.244489 216.771353 \r\nL 111.157216 216.771353 \r\nz\r\n\" style=\"fill:#1f77b4;\"/>\r\n   </g>\r\n   <g id=\"patch_11\">\r\n    <path clip-path=\"url(#pddf21949a2)\" d=\"M 117.244489 224.64 \r\nL 123.331761 224.64 \r\nL 123.331761 220.004208 \r\nL 117.244489 220.004208 \r\nz\r\n\" style=\"fill:#1f77b4;\"/>\r\n   </g>\r\n   <g id=\"patch_12\">\r\n    <path clip-path=\"url(#pddf21949a2)\" d=\"M 123.331761 224.64 \r\nL 129.419034 224.64 \r\nL 129.419034 220.919167 \r\nL 123.331761 220.919167 \r\nz\r\n\" style=\"fill:#1f77b4;\"/>\r\n   </g>\r\n   <g id=\"patch_13\">\r\n    <path clip-path=\"url(#pddf21949a2)\" d=\"M 129.419034 224.64 \r\nL 135.506307 224.64 \r\nL 135.506307 222.993074 \r\nL 129.419034 222.993074 \r\nz\r\n\" style=\"fill:#1f77b4;\"/>\r\n   </g>\r\n   <g id=\"patch_14\">\r\n    <path clip-path=\"url(#pddf21949a2)\" d=\"M 135.506307 224.64 \r\nL 141.59358 224.64 \r\nL 141.59358 222.993074 \r\nL 135.506307 222.993074 \r\nz\r\n\" style=\"fill:#1f77b4;\"/>\r\n   </g>\r\n   <g id=\"patch_15\">\r\n    <path clip-path=\"url(#pddf21949a2)\" d=\"M 141.59358 224.64 \r\nL 147.680852 224.64 \r\nL 147.680852 223.481052 \r\nL 141.59358 223.481052 \r\nz\r\n\" style=\"fill:#1f77b4;\"/>\r\n   </g>\r\n   <g id=\"patch_16\">\r\n    <path clip-path=\"url(#pddf21949a2)\" d=\"M 147.680852 224.64 \r\nL 153.768125 224.64 \r\nL 153.768125 223.847036 \r\nL 147.680852 223.847036 \r\nz\r\n\" style=\"fill:#1f77b4;\"/>\r\n   </g>\r\n   <g id=\"patch_17\">\r\n    <path clip-path=\"url(#pddf21949a2)\" d=\"M 153.768125 224.64 \r\nL 159.855398 224.64 \r\nL 159.855398 223.542049 \r\nL 153.768125 223.542049 \r\nz\r\n\" style=\"fill:#1f77b4;\"/>\r\n   </g>\r\n   <g id=\"patch_18\">\r\n    <path clip-path=\"url(#pddf21949a2)\" d=\"M 159.855398 224.64 \r\nL 165.94267 224.64 \r\nL 165.94267 224.030027 \r\nL 159.855398 224.030027 \r\nz\r\n\" style=\"fill:#1f77b4;\"/>\r\n   </g>\r\n   <g id=\"patch_19\">\r\n    <path clip-path=\"url(#pddf21949a2)\" d=\"M 165.94267 224.64 \r\nL 172.029943 224.64 \r\nL 172.029943 224.457008 \r\nL 165.94267 224.457008 \r\nz\r\n\" style=\"fill:#1f77b4;\"/>\r\n   </g>\r\n   <g id=\"patch_20\">\r\n    <path clip-path=\"url(#pddf21949a2)\" d=\"M 172.029943 224.64 \r\nL 178.117216 224.64 \r\nL 178.117216 224.457008 \r\nL 172.029943 224.457008 \r\nz\r\n\" style=\"fill:#1f77b4;\"/>\r\n   </g>\r\n   <g id=\"patch_21\">\r\n    <path clip-path=\"url(#pddf21949a2)\" d=\"M 178.117216 224.64 \r\nL 184.204489 224.64 \r\nL 184.204489 224.274016 \r\nL 178.117216 224.274016 \r\nz\r\n\" style=\"fill:#1f77b4;\"/>\r\n   </g>\r\n   <g id=\"patch_22\">\r\n    <path clip-path=\"url(#pddf21949a2)\" d=\"M 184.204489 224.64 \r\nL 190.291761 224.64 \r\nL 190.291761 224.335014 \r\nL 184.204489 224.335014 \r\nz\r\n\" style=\"fill:#1f77b4;\"/>\r\n   </g>\r\n   <g id=\"patch_23\">\r\n    <path clip-path=\"url(#pddf21949a2)\" d=\"M 190.291761 224.64 \r\nL 196.379034 224.64 \r\nL 196.379034 224.518005 \r\nL 190.291761 224.518005 \r\nz\r\n\" style=\"fill:#1f77b4;\"/>\r\n   </g>\r\n   <g id=\"patch_24\">\r\n    <path clip-path=\"url(#pddf21949a2)\" d=\"M 196.379034 224.64 \r\nL 202.466307 224.64 \r\nL 202.466307 224.518005 \r\nL 196.379034 224.518005 \r\nz\r\n\" style=\"fill:#1f77b4;\"/>\r\n   </g>\r\n   <g id=\"patch_25\">\r\n    <path clip-path=\"url(#pddf21949a2)\" d=\"M 202.466307 224.64 \r\nL 208.55358 224.64 \r\nL 208.55358 224.579003 \r\nL 202.466307 224.579003 \r\nz\r\n\" style=\"fill:#1f77b4;\"/>\r\n   </g>\r\n   <g id=\"patch_26\">\r\n    <path clip-path=\"url(#pddf21949a2)\" d=\"M 208.55358 224.64 \r\nL 214.640852 224.64 \r\nL 214.640852 224.579003 \r\nL 208.55358 224.579003 \r\nz\r\n\" style=\"fill:#1f77b4;\"/>\r\n   </g>\r\n   <g id=\"patch_27\">\r\n    <path clip-path=\"url(#pddf21949a2)\" d=\"M 214.640852 224.64 \r\nL 220.728125 224.64 \r\nL 220.728125 224.579003 \r\nL 214.640852 224.579003 \r\nz\r\n\" style=\"fill:#1f77b4;\"/>\r\n   </g>\r\n   <g id=\"patch_28\">\r\n    <path clip-path=\"url(#pddf21949a2)\" d=\"M 220.728125 224.64 \r\nL 226.815398 224.64 \r\nL 226.815398 224.579003 \r\nL 220.728125 224.579003 \r\nz\r\n\" style=\"fill:#1f77b4;\"/>\r\n   </g>\r\n   <g id=\"patch_29\">\r\n    <path clip-path=\"url(#pddf21949a2)\" d=\"M 226.815398 224.64 \r\nL 232.90267 224.64 \r\nL 232.90267 224.579003 \r\nL 226.815398 224.579003 \r\nz\r\n\" style=\"fill:#1f77b4;\"/>\r\n   </g>\r\n   <g id=\"patch_30\">\r\n    <path clip-path=\"url(#pddf21949a2)\" d=\"M 232.90267 224.64 \r\nL 238.989943 224.64 \r\nL 238.989943 224.518005 \r\nL 232.90267 224.518005 \r\nz\r\n\" style=\"fill:#1f77b4;\"/>\r\n   </g>\r\n   <g id=\"patch_31\">\r\n    <path clip-path=\"url(#pddf21949a2)\" d=\"M 238.989943 224.64 \r\nL 245.077216 224.64 \r\nL 245.077216 224.518005 \r\nL 238.989943 224.518005 \r\nz\r\n\" style=\"fill:#1f77b4;\"/>\r\n   </g>\r\n   <g id=\"patch_32\">\r\n    <path clip-path=\"url(#pddf21949a2)\" d=\"M 245.077216 224.64 \r\nL 251.164489 224.64 \r\nL 251.164489 224.579003 \r\nL 245.077216 224.579003 \r\nz\r\n\" style=\"fill:#1f77b4;\"/>\r\n   </g>\r\n   <g id=\"patch_33\">\r\n    <path clip-path=\"url(#pddf21949a2)\" d=\"M 251.164489 224.64 \r\nL 257.251761 224.64 \r\nL 257.251761 224.579003 \r\nL 251.164489 224.579003 \r\nz\r\n\" style=\"fill:#1f77b4;\"/>\r\n   </g>\r\n   <g id=\"patch_34\">\r\n    <path clip-path=\"url(#pddf21949a2)\" d=\"M 257.251761 224.64 \r\nL 263.339034 224.64 \r\nL 263.339034 224.64 \r\nL 257.251761 224.64 \r\nz\r\n\" style=\"fill:#1f77b4;\"/>\r\n   </g>\r\n   <g id=\"patch_35\">\r\n    <path clip-path=\"url(#pddf21949a2)\" d=\"M 263.339034 224.64 \r\nL 269.426307 224.64 \r\nL 269.426307 224.64 \r\nL 263.339034 224.64 \r\nz\r\n\" style=\"fill:#1f77b4;\"/>\r\n   </g>\r\n   <g id=\"patch_36\">\r\n    <path clip-path=\"url(#pddf21949a2)\" d=\"M 269.426307 224.64 \r\nL 275.51358 224.64 \r\nL 275.51358 224.579003 \r\nL 269.426307 224.579003 \r\nz\r\n\" style=\"fill:#1f77b4;\"/>\r\n   </g>\r\n   <g id=\"patch_37\">\r\n    <path clip-path=\"url(#pddf21949a2)\" d=\"M 275.51358 224.64 \r\nL 281.600852 224.64 \r\nL 281.600852 224.64 \r\nL 275.51358 224.64 \r\nz\r\n\" style=\"fill:#1f77b4;\"/>\r\n   </g>\r\n   <g id=\"patch_38\">\r\n    <path clip-path=\"url(#pddf21949a2)\" d=\"M 281.600852 224.64 \r\nL 287.688125 224.64 \r\nL 287.688125 224.64 \r\nL 281.600852 224.64 \r\nz\r\n\" style=\"fill:#1f77b4;\"/>\r\n   </g>\r\n   <g id=\"patch_39\">\r\n    <path clip-path=\"url(#pddf21949a2)\" d=\"M 287.688125 224.64 \r\nL 293.775398 224.64 \r\nL 293.775398 224.64 \r\nL 287.688125 224.64 \r\nz\r\n\" style=\"fill:#1f77b4;\"/>\r\n   </g>\r\n   <g id=\"patch_40\">\r\n    <path clip-path=\"url(#pddf21949a2)\" d=\"M 293.775398 224.64 \r\nL 299.86267 224.64 \r\nL 299.86267 224.64 \r\nL 293.775398 224.64 \r\nz\r\n\" style=\"fill:#1f77b4;\"/>\r\n   </g>\r\n   <g id=\"patch_41\">\r\n    <path clip-path=\"url(#pddf21949a2)\" d=\"M 299.86267 224.64 \r\nL 305.949943 224.64 \r\nL 305.949943 224.64 \r\nL 299.86267 224.64 \r\nz\r\n\" style=\"fill:#1f77b4;\"/>\r\n   </g>\r\n   <g id=\"patch_42\">\r\n    <path clip-path=\"url(#pddf21949a2)\" d=\"M 305.949943 224.64 \r\nL 312.037216 224.64 \r\nL 312.037216 224.64 \r\nL 305.949943 224.64 \r\nz\r\n\" style=\"fill:#1f77b4;\"/>\r\n   </g>\r\n   <g id=\"patch_43\">\r\n    <path clip-path=\"url(#pddf21949a2)\" d=\"M 312.037216 224.64 \r\nL 318.124489 224.64 \r\nL 318.124489 224.64 \r\nL 312.037216 224.64 \r\nz\r\n\" style=\"fill:#1f77b4;\"/>\r\n   </g>\r\n   <g id=\"patch_44\">\r\n    <path clip-path=\"url(#pddf21949a2)\" d=\"M 318.124489 224.64 \r\nL 324.211761 224.64 \r\nL 324.211761 224.64 \r\nL 318.124489 224.64 \r\nz\r\n\" style=\"fill:#1f77b4;\"/>\r\n   </g>\r\n   <g id=\"patch_45\">\r\n    <path clip-path=\"url(#pddf21949a2)\" d=\"M 324.211761 224.64 \r\nL 330.299034 224.64 \r\nL 330.299034 224.64 \r\nL 324.211761 224.64 \r\nz\r\n\" style=\"fill:#1f77b4;\"/>\r\n   </g>\r\n   <g id=\"patch_46\">\r\n    <path clip-path=\"url(#pddf21949a2)\" d=\"M 330.299034 224.64 \r\nL 336.386307 224.64 \r\nL 336.386307 224.64 \r\nL 330.299034 224.64 \r\nz\r\n\" style=\"fill:#1f77b4;\"/>\r\n   </g>\r\n   <g id=\"patch_47\">\r\n    <path clip-path=\"url(#pddf21949a2)\" d=\"M 336.386307 224.64 \r\nL 342.47358 224.64 \r\nL 342.47358 224.64 \r\nL 336.386307 224.64 \r\nz\r\n\" style=\"fill:#1f77b4;\"/>\r\n   </g>\r\n   <g id=\"patch_48\">\r\n    <path clip-path=\"url(#pddf21949a2)\" d=\"M 342.47358 224.64 \r\nL 348.560852 224.64 \r\nL 348.560852 224.64 \r\nL 342.47358 224.64 \r\nz\r\n\" style=\"fill:#1f77b4;\"/>\r\n   </g>\r\n   <g id=\"patch_49\">\r\n    <path clip-path=\"url(#pddf21949a2)\" d=\"M 348.560852 224.64 \r\nL 354.648125 224.64 \r\nL 354.648125 224.64 \r\nL 348.560852 224.64 \r\nz\r\n\" style=\"fill:#1f77b4;\"/>\r\n   </g>\r\n   <g id=\"patch_50\">\r\n    <path clip-path=\"url(#pddf21949a2)\" d=\"M 354.648125 224.64 \r\nL 360.735398 224.64 \r\nL 360.735398 224.579003 \r\nL 354.648125 224.579003 \r\nz\r\n\" style=\"fill:#1f77b4;\"/>\r\n   </g>\r\n   <g id=\"patch_51\">\r\n    <path clip-path=\"url(#pddf21949a2)\" d=\"M 360.735398 224.64 \r\nL 366.82267 224.64 \r\nL 366.82267 224.64 \r\nL 360.735398 224.64 \r\nz\r\n\" style=\"fill:#1f77b4;\"/>\r\n   </g>\r\n   <g id=\"patch_52\">\r\n    <path clip-path=\"url(#pddf21949a2)\" d=\"M 366.82267 224.64 \r\nL 372.909943 224.64 \r\nL 372.909943 224.579003 \r\nL 366.82267 224.579003 \r\nz\r\n\" style=\"fill:#1f77b4;\"/>\r\n   </g>\r\n   <g id=\"matplotlib.axis_1\">\r\n    <g id=\"xtick_1\">\r\n     <g id=\"line2d_1\">\r\n      <path clip-path=\"url(#pddf21949a2)\" d=\"M 66.521266 224.64 \r\nL 66.521266 7.2 \r\n\" style=\"fill:none;stroke:#b0b0b0;stroke-linecap:square;stroke-width:0.8;\"/>\r\n     </g>\r\n     <g id=\"line2d_2\">\r\n      <defs>\r\n       <path d=\"M 0 0 \r\nL 0 3.5 \r\n\" id=\"m4e2f3dc38a\" style=\"stroke:#000000;stroke-width:0.8;\"/>\r\n      </defs>\r\n      <g>\r\n       <use style=\"stroke:#000000;stroke-width:0.8;\" x=\"66.521266\" xlink:href=\"#m4e2f3dc38a\" y=\"224.64\"/>\r\n      </g>\r\n     </g>\r\n     <g id=\"text_1\">\r\n      <!-- 0 -->\r\n      <g transform=\"translate(63.340016 239.238437)scale(0.1 -0.1)\">\r\n       <defs>\r\n        <path d=\"M 31.78125 66.40625 \r\nQ 24.171875 66.40625 20.328125 58.90625 \r\nQ 16.5 51.421875 16.5 36.375 \r\nQ 16.5 21.390625 20.328125 13.890625 \r\nQ 24.171875 6.390625 31.78125 6.390625 \r\nQ 39.453125 6.390625 43.28125 13.890625 \r\nQ 47.125 21.390625 47.125 36.375 \r\nQ 47.125 51.421875 43.28125 58.90625 \r\nQ 39.453125 66.40625 31.78125 66.40625 \r\nz\r\nM 31.78125 74.21875 \r\nQ 44.046875 74.21875 50.515625 64.515625 \r\nQ 56.984375 54.828125 56.984375 36.375 \r\nQ 56.984375 17.96875 50.515625 8.265625 \r\nQ 44.046875 -1.421875 31.78125 -1.421875 \r\nQ 19.53125 -1.421875 13.0625 8.265625 \r\nQ 6.59375 17.96875 6.59375 36.375 \r\nQ 6.59375 54.828125 13.0625 64.515625 \r\nQ 19.53125 74.21875 31.78125 74.21875 \r\nz\r\n\" id=\"DejaVuSans-48\"/>\r\n       </defs>\r\n       <use xlink:href=\"#DejaVuSans-48\"/>\r\n      </g>\r\n     </g>\r\n    </g>\r\n    <g id=\"xtick_2\">\r\n     <g id=\"line2d_3\">\r\n      <path clip-path=\"url(#pddf21949a2)\" d=\"M 107.022083 224.64 \r\nL 107.022083 7.2 \r\n\" style=\"fill:none;stroke:#b0b0b0;stroke-linecap:square;stroke-width:0.8;\"/>\r\n     </g>\r\n     <g id=\"line2d_4\">\r\n      <g>\r\n       <use style=\"stroke:#000000;stroke-width:0.8;\" x=\"107.022083\" xlink:href=\"#m4e2f3dc38a\" y=\"224.64\"/>\r\n      </g>\r\n     </g>\r\n     <g id=\"text_2\">\r\n      <!-- 200 -->\r\n      <g transform=\"translate(97.478333 239.238437)scale(0.1 -0.1)\">\r\n       <defs>\r\n        <path d=\"M 19.1875 8.296875 \r\nL 53.609375 8.296875 \r\nL 53.609375 0 \r\nL 7.328125 0 \r\nL 7.328125 8.296875 \r\nQ 12.9375 14.109375 22.625 23.890625 \r\nQ 32.328125 33.6875 34.8125 36.53125 \r\nQ 39.546875 41.84375 41.421875 45.53125 \r\nQ 43.3125 49.21875 43.3125 52.78125 \r\nQ 43.3125 58.59375 39.234375 62.25 \r\nQ 35.15625 65.921875 28.609375 65.921875 \r\nQ 23.96875 65.921875 18.8125 64.3125 \r\nQ 13.671875 62.703125 7.8125 59.421875 \r\nL 7.8125 69.390625 \r\nQ 13.765625 71.78125 18.9375 73 \r\nQ 24.125 74.21875 28.421875 74.21875 \r\nQ 39.75 74.21875 46.484375 68.546875 \r\nQ 53.21875 62.890625 53.21875 53.421875 \r\nQ 53.21875 48.921875 51.53125 44.890625 \r\nQ 49.859375 40.875 45.40625 35.40625 \r\nQ 44.1875 33.984375 37.640625 27.21875 \r\nQ 31.109375 20.453125 19.1875 8.296875 \r\nz\r\n\" id=\"DejaVuSans-50\"/>\r\n       </defs>\r\n       <use xlink:href=\"#DejaVuSans-50\"/>\r\n       <use x=\"63.623047\" xlink:href=\"#DejaVuSans-48\"/>\r\n       <use x=\"127.246094\" xlink:href=\"#DejaVuSans-48\"/>\r\n      </g>\r\n     </g>\r\n    </g>\r\n    <g id=\"xtick_3\">\r\n     <g id=\"line2d_5\">\r\n      <path clip-path=\"url(#pddf21949a2)\" d=\"M 147.522899 224.64 \r\nL 147.522899 7.2 \r\n\" style=\"fill:none;stroke:#b0b0b0;stroke-linecap:square;stroke-width:0.8;\"/>\r\n     </g>\r\n     <g id=\"line2d_6\">\r\n      <g>\r\n       <use style=\"stroke:#000000;stroke-width:0.8;\" x=\"147.522899\" xlink:href=\"#m4e2f3dc38a\" y=\"224.64\"/>\r\n      </g>\r\n     </g>\r\n     <g id=\"text_3\">\r\n      <!-- 400 -->\r\n      <g transform=\"translate(137.979149 239.238437)scale(0.1 -0.1)\">\r\n       <defs>\r\n        <path d=\"M 37.796875 64.3125 \r\nL 12.890625 25.390625 \r\nL 37.796875 25.390625 \r\nz\r\nM 35.203125 72.90625 \r\nL 47.609375 72.90625 \r\nL 47.609375 25.390625 \r\nL 58.015625 25.390625 \r\nL 58.015625 17.1875 \r\nL 47.609375 17.1875 \r\nL 47.609375 0 \r\nL 37.796875 0 \r\nL 37.796875 17.1875 \r\nL 4.890625 17.1875 \r\nL 4.890625 26.703125 \r\nz\r\n\" id=\"DejaVuSans-52\"/>\r\n       </defs>\r\n       <use xlink:href=\"#DejaVuSans-52\"/>\r\n       <use x=\"63.623047\" xlink:href=\"#DejaVuSans-48\"/>\r\n       <use x=\"127.246094\" xlink:href=\"#DejaVuSans-48\"/>\r\n      </g>\r\n     </g>\r\n    </g>\r\n    <g id=\"xtick_4\">\r\n     <g id=\"line2d_7\">\r\n      <path clip-path=\"url(#pddf21949a2)\" d=\"M 188.023716 224.64 \r\nL 188.023716 7.2 \r\n\" style=\"fill:none;stroke:#b0b0b0;stroke-linecap:square;stroke-width:0.8;\"/>\r\n     </g>\r\n     <g id=\"line2d_8\">\r\n      <g>\r\n       <use style=\"stroke:#000000;stroke-width:0.8;\" x=\"188.023716\" xlink:href=\"#m4e2f3dc38a\" y=\"224.64\"/>\r\n      </g>\r\n     </g>\r\n     <g id=\"text_4\">\r\n      <!-- 600 -->\r\n      <g transform=\"translate(178.479966 239.238437)scale(0.1 -0.1)\">\r\n       <defs>\r\n        <path d=\"M 33.015625 40.375 \r\nQ 26.375 40.375 22.484375 35.828125 \r\nQ 18.609375 31.296875 18.609375 23.390625 \r\nQ 18.609375 15.53125 22.484375 10.953125 \r\nQ 26.375 6.390625 33.015625 6.390625 \r\nQ 39.65625 6.390625 43.53125 10.953125 \r\nQ 47.40625 15.53125 47.40625 23.390625 \r\nQ 47.40625 31.296875 43.53125 35.828125 \r\nQ 39.65625 40.375 33.015625 40.375 \r\nz\r\nM 52.59375 71.296875 \r\nL 52.59375 62.3125 \r\nQ 48.875 64.0625 45.09375 64.984375 \r\nQ 41.3125 65.921875 37.59375 65.921875 \r\nQ 27.828125 65.921875 22.671875 59.328125 \r\nQ 17.53125 52.734375 16.796875 39.40625 \r\nQ 19.671875 43.65625 24.015625 45.921875 \r\nQ 28.375 48.1875 33.59375 48.1875 \r\nQ 44.578125 48.1875 50.953125 41.515625 \r\nQ 57.328125 34.859375 57.328125 23.390625 \r\nQ 57.328125 12.15625 50.6875 5.359375 \r\nQ 44.046875 -1.421875 33.015625 -1.421875 \r\nQ 20.359375 -1.421875 13.671875 8.265625 \r\nQ 6.984375 17.96875 6.984375 36.375 \r\nQ 6.984375 53.65625 15.1875 63.9375 \r\nQ 23.390625 74.21875 37.203125 74.21875 \r\nQ 40.921875 74.21875 44.703125 73.484375 \r\nQ 48.484375 72.75 52.59375 71.296875 \r\nz\r\n\" id=\"DejaVuSans-54\"/>\r\n       </defs>\r\n       <use xlink:href=\"#DejaVuSans-54\"/>\r\n       <use x=\"63.623047\" xlink:href=\"#DejaVuSans-48\"/>\r\n       <use x=\"127.246094\" xlink:href=\"#DejaVuSans-48\"/>\r\n      </g>\r\n     </g>\r\n    </g>\r\n    <g id=\"xtick_5\">\r\n     <g id=\"line2d_9\">\r\n      <path clip-path=\"url(#pddf21949a2)\" d=\"M 228.524532 224.64 \r\nL 228.524532 7.2 \r\n\" style=\"fill:none;stroke:#b0b0b0;stroke-linecap:square;stroke-width:0.8;\"/>\r\n     </g>\r\n     <g id=\"line2d_10\">\r\n      <g>\r\n       <use style=\"stroke:#000000;stroke-width:0.8;\" x=\"228.524532\" xlink:href=\"#m4e2f3dc38a\" y=\"224.64\"/>\r\n      </g>\r\n     </g>\r\n     <g id=\"text_5\">\r\n      <!-- 800 -->\r\n      <g transform=\"translate(218.980782 239.238437)scale(0.1 -0.1)\">\r\n       <defs>\r\n        <path d=\"M 31.78125 34.625 \r\nQ 24.75 34.625 20.71875 30.859375 \r\nQ 16.703125 27.09375 16.703125 20.515625 \r\nQ 16.703125 13.921875 20.71875 10.15625 \r\nQ 24.75 6.390625 31.78125 6.390625 \r\nQ 38.8125 6.390625 42.859375 10.171875 \r\nQ 46.921875 13.96875 46.921875 20.515625 \r\nQ 46.921875 27.09375 42.890625 30.859375 \r\nQ 38.875 34.625 31.78125 34.625 \r\nz\r\nM 21.921875 38.8125 \r\nQ 15.578125 40.375 12.03125 44.71875 \r\nQ 8.5 49.078125 8.5 55.328125 \r\nQ 8.5 64.0625 14.71875 69.140625 \r\nQ 20.953125 74.21875 31.78125 74.21875 \r\nQ 42.671875 74.21875 48.875 69.140625 \r\nQ 55.078125 64.0625 55.078125 55.328125 \r\nQ 55.078125 49.078125 51.53125 44.71875 \r\nQ 48 40.375 41.703125 38.8125 \r\nQ 48.828125 37.15625 52.796875 32.3125 \r\nQ 56.78125 27.484375 56.78125 20.515625 \r\nQ 56.78125 9.90625 50.3125 4.234375 \r\nQ 43.84375 -1.421875 31.78125 -1.421875 \r\nQ 19.734375 -1.421875 13.25 4.234375 \r\nQ 6.78125 9.90625 6.78125 20.515625 \r\nQ 6.78125 27.484375 10.78125 32.3125 \r\nQ 14.796875 37.15625 21.921875 38.8125 \r\nz\r\nM 18.3125 54.390625 \r\nQ 18.3125 48.734375 21.84375 45.5625 \r\nQ 25.390625 42.390625 31.78125 42.390625 \r\nQ 38.140625 42.390625 41.71875 45.5625 \r\nQ 45.3125 48.734375 45.3125 54.390625 \r\nQ 45.3125 60.0625 41.71875 63.234375 \r\nQ 38.140625 66.40625 31.78125 66.40625 \r\nQ 25.390625 66.40625 21.84375 63.234375 \r\nQ 18.3125 60.0625 18.3125 54.390625 \r\nz\r\n\" id=\"DejaVuSans-56\"/>\r\n       </defs>\r\n       <use xlink:href=\"#DejaVuSans-56\"/>\r\n       <use x=\"63.623047\" xlink:href=\"#DejaVuSans-48\"/>\r\n       <use x=\"127.246094\" xlink:href=\"#DejaVuSans-48\"/>\r\n      </g>\r\n     </g>\r\n    </g>\r\n    <g id=\"xtick_6\">\r\n     <g id=\"line2d_11\">\r\n      <path clip-path=\"url(#pddf21949a2)\" d=\"M 269.025349 224.64 \r\nL 269.025349 7.2 \r\n\" style=\"fill:none;stroke:#b0b0b0;stroke-linecap:square;stroke-width:0.8;\"/>\r\n     </g>\r\n     <g id=\"line2d_12\">\r\n      <g>\r\n       <use style=\"stroke:#000000;stroke-width:0.8;\" x=\"269.025349\" xlink:href=\"#m4e2f3dc38a\" y=\"224.64\"/>\r\n      </g>\r\n     </g>\r\n     <g id=\"text_6\">\r\n      <!-- 1000 -->\r\n      <g transform=\"translate(256.300349 239.238437)scale(0.1 -0.1)\">\r\n       <defs>\r\n        <path d=\"M 12.40625 8.296875 \r\nL 28.515625 8.296875 \r\nL 28.515625 63.921875 \r\nL 10.984375 60.40625 \r\nL 10.984375 69.390625 \r\nL 28.421875 72.90625 \r\nL 38.28125 72.90625 \r\nL 38.28125 8.296875 \r\nL 54.390625 8.296875 \r\nL 54.390625 0 \r\nL 12.40625 0 \r\nz\r\n\" id=\"DejaVuSans-49\"/>\r\n       </defs>\r\n       <use xlink:href=\"#DejaVuSans-49\"/>\r\n       <use x=\"63.623047\" xlink:href=\"#DejaVuSans-48\"/>\r\n       <use x=\"127.246094\" xlink:href=\"#DejaVuSans-48\"/>\r\n       <use x=\"190.869141\" xlink:href=\"#DejaVuSans-48\"/>\r\n      </g>\r\n     </g>\r\n    </g>\r\n    <g id=\"xtick_7\">\r\n     <g id=\"line2d_13\">\r\n      <path clip-path=\"url(#pddf21949a2)\" d=\"M 309.526165 224.64 \r\nL 309.526165 7.2 \r\n\" style=\"fill:none;stroke:#b0b0b0;stroke-linecap:square;stroke-width:0.8;\"/>\r\n     </g>\r\n     <g id=\"line2d_14\">\r\n      <g>\r\n       <use style=\"stroke:#000000;stroke-width:0.8;\" x=\"309.526165\" xlink:href=\"#m4e2f3dc38a\" y=\"224.64\"/>\r\n      </g>\r\n     </g>\r\n     <g id=\"text_7\">\r\n      <!-- 1200 -->\r\n      <g transform=\"translate(296.801165 239.238437)scale(0.1 -0.1)\">\r\n       <use xlink:href=\"#DejaVuSans-49\"/>\r\n       <use x=\"63.623047\" xlink:href=\"#DejaVuSans-50\"/>\r\n       <use x=\"127.246094\" xlink:href=\"#DejaVuSans-48\"/>\r\n       <use x=\"190.869141\" xlink:href=\"#DejaVuSans-48\"/>\r\n      </g>\r\n     </g>\r\n    </g>\r\n    <g id=\"xtick_8\">\r\n     <g id=\"line2d_15\">\r\n      <path clip-path=\"url(#pddf21949a2)\" d=\"M 350.026982 224.64 \r\nL 350.026982 7.2 \r\n\" style=\"fill:none;stroke:#b0b0b0;stroke-linecap:square;stroke-width:0.8;\"/>\r\n     </g>\r\n     <g id=\"line2d_16\">\r\n      <g>\r\n       <use style=\"stroke:#000000;stroke-width:0.8;\" x=\"350.026982\" xlink:href=\"#m4e2f3dc38a\" y=\"224.64\"/>\r\n      </g>\r\n     </g>\r\n     <g id=\"text_8\">\r\n      <!-- 1400 -->\r\n      <g transform=\"translate(337.301982 239.238437)scale(0.1 -0.1)\">\r\n       <use xlink:href=\"#DejaVuSans-49\"/>\r\n       <use x=\"63.623047\" xlink:href=\"#DejaVuSans-52\"/>\r\n       <use x=\"127.246094\" xlink:href=\"#DejaVuSans-48\"/>\r\n       <use x=\"190.869141\" xlink:href=\"#DejaVuSans-48\"/>\r\n      </g>\r\n     </g>\r\n    </g>\r\n    <g id=\"text_9\">\r\n     <!-- Length of the Reviews -->\r\n     <g transform=\"translate(165.244531 252.916562)scale(0.1 -0.1)\">\r\n      <defs>\r\n       <path d=\"M 9.8125 72.90625 \r\nL 19.671875 72.90625 \r\nL 19.671875 8.296875 \r\nL 55.171875 8.296875 \r\nL 55.171875 0 \r\nL 9.8125 0 \r\nz\r\n\" id=\"DejaVuSans-76\"/>\r\n       <path d=\"M 56.203125 29.59375 \r\nL 56.203125 25.203125 \r\nL 14.890625 25.203125 \r\nQ 15.484375 15.921875 20.484375 11.0625 \r\nQ 25.484375 6.203125 34.421875 6.203125 \r\nQ 39.59375 6.203125 44.453125 7.46875 \r\nQ 49.3125 8.734375 54.109375 11.28125 \r\nL 54.109375 2.78125 \r\nQ 49.265625 0.734375 44.1875 -0.34375 \r\nQ 39.109375 -1.421875 33.890625 -1.421875 \r\nQ 20.796875 -1.421875 13.15625 6.1875 \r\nQ 5.515625 13.8125 5.515625 26.8125 \r\nQ 5.515625 40.234375 12.765625 48.109375 \r\nQ 20.015625 56 32.328125 56 \r\nQ 43.359375 56 49.78125 48.890625 \r\nQ 56.203125 41.796875 56.203125 29.59375 \r\nz\r\nM 47.21875 32.234375 \r\nQ 47.125 39.59375 43.09375 43.984375 \r\nQ 39.0625 48.390625 32.421875 48.390625 \r\nQ 24.90625 48.390625 20.390625 44.140625 \r\nQ 15.875 39.890625 15.1875 32.171875 \r\nz\r\n\" id=\"DejaVuSans-101\"/>\r\n       <path d=\"M 54.890625 33.015625 \r\nL 54.890625 0 \r\nL 45.90625 0 \r\nL 45.90625 32.71875 \r\nQ 45.90625 40.484375 42.875 44.328125 \r\nQ 39.84375 48.1875 33.796875 48.1875 \r\nQ 26.515625 48.1875 22.3125 43.546875 \r\nQ 18.109375 38.921875 18.109375 30.90625 \r\nL 18.109375 0 \r\nL 9.078125 0 \r\nL 9.078125 54.6875 \r\nL 18.109375 54.6875 \r\nL 18.109375 46.1875 \r\nQ 21.34375 51.125 25.703125 53.5625 \r\nQ 30.078125 56 35.796875 56 \r\nQ 45.21875 56 50.046875 50.171875 \r\nQ 54.890625 44.34375 54.890625 33.015625 \r\nz\r\n\" id=\"DejaVuSans-110\"/>\r\n       <path d=\"M 45.40625 27.984375 \r\nQ 45.40625 37.75 41.375 43.109375 \r\nQ 37.359375 48.484375 30.078125 48.484375 \r\nQ 22.859375 48.484375 18.828125 43.109375 \r\nQ 14.796875 37.75 14.796875 27.984375 \r\nQ 14.796875 18.265625 18.828125 12.890625 \r\nQ 22.859375 7.515625 30.078125 7.515625 \r\nQ 37.359375 7.515625 41.375 12.890625 \r\nQ 45.40625 18.265625 45.40625 27.984375 \r\nz\r\nM 54.390625 6.78125 \r\nQ 54.390625 -7.171875 48.1875 -13.984375 \r\nQ 42 -20.796875 29.203125 -20.796875 \r\nQ 24.46875 -20.796875 20.265625 -20.09375 \r\nQ 16.0625 -19.390625 12.109375 -17.921875 \r\nL 12.109375 -9.1875 \r\nQ 16.0625 -11.328125 19.921875 -12.34375 \r\nQ 23.78125 -13.375 27.78125 -13.375 \r\nQ 36.625 -13.375 41.015625 -8.765625 \r\nQ 45.40625 -4.15625 45.40625 5.171875 \r\nL 45.40625 9.625 \r\nQ 42.625 4.78125 38.28125 2.390625 \r\nQ 33.9375 0 27.875 0 \r\nQ 17.828125 0 11.671875 7.65625 \r\nQ 5.515625 15.328125 5.515625 27.984375 \r\nQ 5.515625 40.671875 11.671875 48.328125 \r\nQ 17.828125 56 27.875 56 \r\nQ 33.9375 56 38.28125 53.609375 \r\nQ 42.625 51.21875 45.40625 46.390625 \r\nL 45.40625 54.6875 \r\nL 54.390625 54.6875 \r\nz\r\n\" id=\"DejaVuSans-103\"/>\r\n       <path d=\"M 18.3125 70.21875 \r\nL 18.3125 54.6875 \r\nL 36.8125 54.6875 \r\nL 36.8125 47.703125 \r\nL 18.3125 47.703125 \r\nL 18.3125 18.015625 \r\nQ 18.3125 11.328125 20.140625 9.421875 \r\nQ 21.96875 7.515625 27.59375 7.515625 \r\nL 36.8125 7.515625 \r\nL 36.8125 0 \r\nL 27.59375 0 \r\nQ 17.1875 0 13.234375 3.875 \r\nQ 9.28125 7.765625 9.28125 18.015625 \r\nL 9.28125 47.703125 \r\nL 2.6875 47.703125 \r\nL 2.6875 54.6875 \r\nL 9.28125 54.6875 \r\nL 9.28125 70.21875 \r\nz\r\n\" id=\"DejaVuSans-116\"/>\r\n       <path d=\"M 54.890625 33.015625 \r\nL 54.890625 0 \r\nL 45.90625 0 \r\nL 45.90625 32.71875 \r\nQ 45.90625 40.484375 42.875 44.328125 \r\nQ 39.84375 48.1875 33.796875 48.1875 \r\nQ 26.515625 48.1875 22.3125 43.546875 \r\nQ 18.109375 38.921875 18.109375 30.90625 \r\nL 18.109375 0 \r\nL 9.078125 0 \r\nL 9.078125 75.984375 \r\nL 18.109375 75.984375 \r\nL 18.109375 46.1875 \r\nQ 21.34375 51.125 25.703125 53.5625 \r\nQ 30.078125 56 35.796875 56 \r\nQ 45.21875 56 50.046875 50.171875 \r\nQ 54.890625 44.34375 54.890625 33.015625 \r\nz\r\n\" id=\"DejaVuSans-104\"/>\r\n       <path id=\"DejaVuSans-32\"/>\r\n       <path d=\"M 30.609375 48.390625 \r\nQ 23.390625 48.390625 19.1875 42.75 \r\nQ 14.984375 37.109375 14.984375 27.296875 \r\nQ 14.984375 17.484375 19.15625 11.84375 \r\nQ 23.34375 6.203125 30.609375 6.203125 \r\nQ 37.796875 6.203125 41.984375 11.859375 \r\nQ 46.1875 17.53125 46.1875 27.296875 \r\nQ 46.1875 37.015625 41.984375 42.703125 \r\nQ 37.796875 48.390625 30.609375 48.390625 \r\nz\r\nM 30.609375 56 \r\nQ 42.328125 56 49.015625 48.375 \r\nQ 55.71875 40.765625 55.71875 27.296875 \r\nQ 55.71875 13.875 49.015625 6.21875 \r\nQ 42.328125 -1.421875 30.609375 -1.421875 \r\nQ 18.84375 -1.421875 12.171875 6.21875 \r\nQ 5.515625 13.875 5.515625 27.296875 \r\nQ 5.515625 40.765625 12.171875 48.375 \r\nQ 18.84375 56 30.609375 56 \r\nz\r\n\" id=\"DejaVuSans-111\"/>\r\n       <path d=\"M 37.109375 75.984375 \r\nL 37.109375 68.5 \r\nL 28.515625 68.5 \r\nQ 23.6875 68.5 21.796875 66.546875 \r\nQ 19.921875 64.59375 19.921875 59.515625 \r\nL 19.921875 54.6875 \r\nL 34.71875 54.6875 \r\nL 34.71875 47.703125 \r\nL 19.921875 47.703125 \r\nL 19.921875 0 \r\nL 10.890625 0 \r\nL 10.890625 47.703125 \r\nL 2.296875 47.703125 \r\nL 2.296875 54.6875 \r\nL 10.890625 54.6875 \r\nL 10.890625 58.5 \r\nQ 10.890625 67.625 15.140625 71.796875 \r\nQ 19.390625 75.984375 28.609375 75.984375 \r\nz\r\n\" id=\"DejaVuSans-102\"/>\r\n       <path d=\"M 44.390625 34.1875 \r\nQ 47.5625 33.109375 50.5625 29.59375 \r\nQ 53.5625 26.078125 56.59375 19.921875 \r\nL 66.609375 0 \r\nL 56 0 \r\nL 46.6875 18.703125 \r\nQ 43.0625 26.03125 39.671875 28.421875 \r\nQ 36.28125 30.8125 30.421875 30.8125 \r\nL 19.671875 30.8125 \r\nL 19.671875 0 \r\nL 9.8125 0 \r\nL 9.8125 72.90625 \r\nL 32.078125 72.90625 \r\nQ 44.578125 72.90625 50.734375 67.671875 \r\nQ 56.890625 62.453125 56.890625 51.90625 \r\nQ 56.890625 45.015625 53.6875 40.46875 \r\nQ 50.484375 35.9375 44.390625 34.1875 \r\nz\r\nM 19.671875 64.796875 \r\nL 19.671875 38.921875 \r\nL 32.078125 38.921875 \r\nQ 39.203125 38.921875 42.84375 42.21875 \r\nQ 46.484375 45.515625 46.484375 51.90625 \r\nQ 46.484375 58.296875 42.84375 61.546875 \r\nQ 39.203125 64.796875 32.078125 64.796875 \r\nz\r\n\" id=\"DejaVuSans-82\"/>\r\n       <path d=\"M 2.984375 54.6875 \r\nL 12.5 54.6875 \r\nL 29.59375 8.796875 \r\nL 46.6875 54.6875 \r\nL 56.203125 54.6875 \r\nL 35.6875 0 \r\nL 23.484375 0 \r\nz\r\n\" id=\"DejaVuSans-118\"/>\r\n       <path d=\"M 9.421875 54.6875 \r\nL 18.40625 54.6875 \r\nL 18.40625 0 \r\nL 9.421875 0 \r\nz\r\nM 9.421875 75.984375 \r\nL 18.40625 75.984375 \r\nL 18.40625 64.59375 \r\nL 9.421875 64.59375 \r\nz\r\n\" id=\"DejaVuSans-105\"/>\r\n       <path d=\"M 4.203125 54.6875 \r\nL 13.1875 54.6875 \r\nL 24.421875 12.015625 \r\nL 35.59375 54.6875 \r\nL 46.1875 54.6875 \r\nL 57.421875 12.015625 \r\nL 68.609375 54.6875 \r\nL 77.59375 54.6875 \r\nL 63.28125 0 \r\nL 52.6875 0 \r\nL 40.921875 44.828125 \r\nL 29.109375 0 \r\nL 18.5 0 \r\nz\r\n\" id=\"DejaVuSans-119\"/>\r\n       <path d=\"M 44.28125 53.078125 \r\nL 44.28125 44.578125 \r\nQ 40.484375 46.53125 36.375 47.5 \r\nQ 32.28125 48.484375 27.875 48.484375 \r\nQ 21.1875 48.484375 17.84375 46.4375 \r\nQ 14.5 44.390625 14.5 40.28125 \r\nQ 14.5 37.15625 16.890625 35.375 \r\nQ 19.28125 33.59375 26.515625 31.984375 \r\nL 29.59375 31.296875 \r\nQ 39.15625 29.25 43.1875 25.515625 \r\nQ 47.21875 21.78125 47.21875 15.09375 \r\nQ 47.21875 7.46875 41.1875 3.015625 \r\nQ 35.15625 -1.421875 24.609375 -1.421875 \r\nQ 20.21875 -1.421875 15.453125 -0.5625 \r\nQ 10.6875 0.296875 5.421875 2 \r\nL 5.421875 11.28125 \r\nQ 10.40625 8.6875 15.234375 7.390625 \r\nQ 20.0625 6.109375 24.8125 6.109375 \r\nQ 31.15625 6.109375 34.5625 8.28125 \r\nQ 37.984375 10.453125 37.984375 14.40625 \r\nQ 37.984375 18.0625 35.515625 20.015625 \r\nQ 33.0625 21.96875 24.703125 23.78125 \r\nL 21.578125 24.515625 \r\nQ 13.234375 26.265625 9.515625 29.90625 \r\nQ 5.8125 33.546875 5.8125 39.890625 \r\nQ 5.8125 47.609375 11.28125 51.796875 \r\nQ 16.75 56 26.8125 56 \r\nQ 31.78125 56 36.171875 55.265625 \r\nQ 40.578125 54.546875 44.28125 53.078125 \r\nz\r\n\" id=\"DejaVuSans-115\"/>\r\n      </defs>\r\n      <use xlink:href=\"#DejaVuSans-76\"/>\r\n      <use x=\"53.962891\" xlink:href=\"#DejaVuSans-101\"/>\r\n      <use x=\"115.486328\" xlink:href=\"#DejaVuSans-110\"/>\r\n      <use x=\"178.865234\" xlink:href=\"#DejaVuSans-103\"/>\r\n      <use x=\"242.341797\" xlink:href=\"#DejaVuSans-116\"/>\r\n      <use x=\"281.550781\" xlink:href=\"#DejaVuSans-104\"/>\r\n      <use x=\"344.929688\" xlink:href=\"#DejaVuSans-32\"/>\r\n      <use x=\"376.716797\" xlink:href=\"#DejaVuSans-111\"/>\r\n      <use x=\"437.898438\" xlink:href=\"#DejaVuSans-102\"/>\r\n      <use x=\"473.103516\" xlink:href=\"#DejaVuSans-32\"/>\r\n      <use x=\"504.890625\" xlink:href=\"#DejaVuSans-116\"/>\r\n      <use x=\"544.099609\" xlink:href=\"#DejaVuSans-104\"/>\r\n      <use x=\"607.478516\" xlink:href=\"#DejaVuSans-101\"/>\r\n      <use x=\"669.001953\" xlink:href=\"#DejaVuSans-32\"/>\r\n      <use x=\"700.789062\" xlink:href=\"#DejaVuSans-82\"/>\r\n      <use x=\"765.771484\" xlink:href=\"#DejaVuSans-101\"/>\r\n      <use x=\"827.294922\" xlink:href=\"#DejaVuSans-118\"/>\r\n      <use x=\"886.474609\" xlink:href=\"#DejaVuSans-105\"/>\r\n      <use x=\"914.257812\" xlink:href=\"#DejaVuSans-101\"/>\r\n      <use x=\"975.78125\" xlink:href=\"#DejaVuSans-119\"/>\r\n      <use x=\"1057.568359\" xlink:href=\"#DejaVuSans-115\"/>\r\n     </g>\r\n    </g>\r\n   </g>\r\n   <g id=\"matplotlib.axis_2\">\r\n    <g id=\"ytick_1\">\r\n     <g id=\"line2d_17\">\r\n      <path clip-path=\"url(#pddf21949a2)\" d=\"M 53.328125 224.64 \r\nL 388.128125 224.64 \r\n\" style=\"fill:none;stroke:#b0b0b0;stroke-linecap:square;stroke-width:0.8;\"/>\r\n     </g>\r\n     <g id=\"line2d_18\">\r\n      <defs>\r\n       <path d=\"M 0 0 \r\nL -3.5 0 \r\n\" id=\"mdf084658c2\" style=\"stroke:#000000;stroke-width:0.8;\"/>\r\n      </defs>\r\n      <g>\r\n       <use style=\"stroke:#000000;stroke-width:0.8;\" x=\"53.328125\" xlink:href=\"#mdf084658c2\" y=\"224.64\"/>\r\n      </g>\r\n     </g>\r\n     <g id=\"text_10\">\r\n      <!-- 0 -->\r\n      <g transform=\"translate(39.965625 228.439219)scale(0.1 -0.1)\">\r\n       <use xlink:href=\"#DejaVuSans-48\"/>\r\n      </g>\r\n     </g>\r\n    </g>\r\n    <g id=\"ytick_2\">\r\n     <g id=\"line2d_19\">\r\n      <path clip-path=\"url(#pddf21949a2)\" d=\"M 53.328125 194.141368 \r\nL 388.128125 194.141368 \r\n\" style=\"fill:none;stroke:#b0b0b0;stroke-linecap:square;stroke-width:0.8;\"/>\r\n     </g>\r\n     <g id=\"line2d_20\">\r\n      <g>\r\n       <use style=\"stroke:#000000;stroke-width:0.8;\" x=\"53.328125\" xlink:href=\"#mdf084658c2\" y=\"194.141368\"/>\r\n      </g>\r\n     </g>\r\n     <g id=\"text_11\">\r\n      <!-- 500 -->\r\n      <g transform=\"translate(27.240625 197.940586)scale(0.1 -0.1)\">\r\n       <defs>\r\n        <path d=\"M 10.796875 72.90625 \r\nL 49.515625 72.90625 \r\nL 49.515625 64.59375 \r\nL 19.828125 64.59375 \r\nL 19.828125 46.734375 \r\nQ 21.96875 47.46875 24.109375 47.828125 \r\nQ 26.265625 48.1875 28.421875 48.1875 \r\nQ 40.625 48.1875 47.75 41.5 \r\nQ 54.890625 34.8125 54.890625 23.390625 \r\nQ 54.890625 11.625 47.5625 5.09375 \r\nQ 40.234375 -1.421875 26.90625 -1.421875 \r\nQ 22.3125 -1.421875 17.546875 -0.640625 \r\nQ 12.796875 0.140625 7.71875 1.703125 \r\nL 7.71875 11.625 \r\nQ 12.109375 9.234375 16.796875 8.0625 \r\nQ 21.484375 6.890625 26.703125 6.890625 \r\nQ 35.15625 6.890625 40.078125 11.328125 \r\nQ 45.015625 15.765625 45.015625 23.390625 \r\nQ 45.015625 31 40.078125 35.4375 \r\nQ 35.15625 39.890625 26.703125 39.890625 \r\nQ 22.75 39.890625 18.8125 39.015625 \r\nQ 14.890625 38.140625 10.796875 36.28125 \r\nz\r\n\" id=\"DejaVuSans-53\"/>\r\n       </defs>\r\n       <use xlink:href=\"#DejaVuSans-53\"/>\r\n       <use x=\"63.623047\" xlink:href=\"#DejaVuSans-48\"/>\r\n       <use x=\"127.246094\" xlink:href=\"#DejaVuSans-48\"/>\r\n      </g>\r\n     </g>\r\n    </g>\r\n    <g id=\"ytick_3\">\r\n     <g id=\"line2d_21\">\r\n      <path clip-path=\"url(#pddf21949a2)\" d=\"M 53.328125 163.642735 \r\nL 388.128125 163.642735 \r\n\" style=\"fill:none;stroke:#b0b0b0;stroke-linecap:square;stroke-width:0.8;\"/>\r\n     </g>\r\n     <g id=\"line2d_22\">\r\n      <g>\r\n       <use style=\"stroke:#000000;stroke-width:0.8;\" x=\"53.328125\" xlink:href=\"#mdf084658c2\" y=\"163.642735\"/>\r\n      </g>\r\n     </g>\r\n     <g id=\"text_12\">\r\n      <!-- 1000 -->\r\n      <g transform=\"translate(20.878125 167.441954)scale(0.1 -0.1)\">\r\n       <use xlink:href=\"#DejaVuSans-49\"/>\r\n       <use x=\"63.623047\" xlink:href=\"#DejaVuSans-48\"/>\r\n       <use x=\"127.246094\" xlink:href=\"#DejaVuSans-48\"/>\r\n       <use x=\"190.869141\" xlink:href=\"#DejaVuSans-48\"/>\r\n      </g>\r\n     </g>\r\n    </g>\r\n    <g id=\"ytick_4\">\r\n     <g id=\"line2d_23\">\r\n      <path clip-path=\"url(#pddf21949a2)\" d=\"M 53.328125 133.144103 \r\nL 388.128125 133.144103 \r\n\" style=\"fill:none;stroke:#b0b0b0;stroke-linecap:square;stroke-width:0.8;\"/>\r\n     </g>\r\n     <g id=\"line2d_24\">\r\n      <g>\r\n       <use style=\"stroke:#000000;stroke-width:0.8;\" x=\"53.328125\" xlink:href=\"#mdf084658c2\" y=\"133.144103\"/>\r\n      </g>\r\n     </g>\r\n     <g id=\"text_13\">\r\n      <!-- 1500 -->\r\n      <g transform=\"translate(20.878125 136.943321)scale(0.1 -0.1)\">\r\n       <use xlink:href=\"#DejaVuSans-49\"/>\r\n       <use x=\"63.623047\" xlink:href=\"#DejaVuSans-53\"/>\r\n       <use x=\"127.246094\" xlink:href=\"#DejaVuSans-48\"/>\r\n       <use x=\"190.869141\" xlink:href=\"#DejaVuSans-48\"/>\r\n      </g>\r\n     </g>\r\n    </g>\r\n    <g id=\"ytick_5\">\r\n     <g id=\"line2d_25\">\r\n      <path clip-path=\"url(#pddf21949a2)\" d=\"M 53.328125 102.64547 \r\nL 388.128125 102.64547 \r\n\" style=\"fill:none;stroke:#b0b0b0;stroke-linecap:square;stroke-width:0.8;\"/>\r\n     </g>\r\n     <g id=\"line2d_26\">\r\n      <g>\r\n       <use style=\"stroke:#000000;stroke-width:0.8;\" x=\"53.328125\" xlink:href=\"#mdf084658c2\" y=\"102.64547\"/>\r\n      </g>\r\n     </g>\r\n     <g id=\"text_14\">\r\n      <!-- 2000 -->\r\n      <g transform=\"translate(20.878125 106.444689)scale(0.1 -0.1)\">\r\n       <use xlink:href=\"#DejaVuSans-50\"/>\r\n       <use x=\"63.623047\" xlink:href=\"#DejaVuSans-48\"/>\r\n       <use x=\"127.246094\" xlink:href=\"#DejaVuSans-48\"/>\r\n       <use x=\"190.869141\" xlink:href=\"#DejaVuSans-48\"/>\r\n      </g>\r\n     </g>\r\n    </g>\r\n    <g id=\"ytick_6\">\r\n     <g id=\"line2d_27\">\r\n      <path clip-path=\"url(#pddf21949a2)\" d=\"M 53.328125 72.146838 \r\nL 388.128125 72.146838 \r\n\" style=\"fill:none;stroke:#b0b0b0;stroke-linecap:square;stroke-width:0.8;\"/>\r\n     </g>\r\n     <g id=\"line2d_28\">\r\n      <g>\r\n       <use style=\"stroke:#000000;stroke-width:0.8;\" x=\"53.328125\" xlink:href=\"#mdf084658c2\" y=\"72.146838\"/>\r\n      </g>\r\n     </g>\r\n     <g id=\"text_15\">\r\n      <!-- 2500 -->\r\n      <g transform=\"translate(20.878125 75.946057)scale(0.1 -0.1)\">\r\n       <use xlink:href=\"#DejaVuSans-50\"/>\r\n       <use x=\"63.623047\" xlink:href=\"#DejaVuSans-53\"/>\r\n       <use x=\"127.246094\" xlink:href=\"#DejaVuSans-48\"/>\r\n       <use x=\"190.869141\" xlink:href=\"#DejaVuSans-48\"/>\r\n      </g>\r\n     </g>\r\n    </g>\r\n    <g id=\"ytick_7\">\r\n     <g id=\"line2d_29\">\r\n      <path clip-path=\"url(#pddf21949a2)\" d=\"M 53.328125 41.648205 \r\nL 388.128125 41.648205 \r\n\" style=\"fill:none;stroke:#b0b0b0;stroke-linecap:square;stroke-width:0.8;\"/>\r\n     </g>\r\n     <g id=\"line2d_30\">\r\n      <g>\r\n       <use style=\"stroke:#000000;stroke-width:0.8;\" x=\"53.328125\" xlink:href=\"#mdf084658c2\" y=\"41.648205\"/>\r\n      </g>\r\n     </g>\r\n     <g id=\"text_16\">\r\n      <!-- 3000 -->\r\n      <g transform=\"translate(20.878125 45.447424)scale(0.1 -0.1)\">\r\n       <defs>\r\n        <path d=\"M 40.578125 39.3125 \r\nQ 47.65625 37.796875 51.625 33 \r\nQ 55.609375 28.21875 55.609375 21.1875 \r\nQ 55.609375 10.40625 48.1875 4.484375 \r\nQ 40.765625 -1.421875 27.09375 -1.421875 \r\nQ 22.515625 -1.421875 17.65625 -0.515625 \r\nQ 12.796875 0.390625 7.625 2.203125 \r\nL 7.625 11.71875 \r\nQ 11.71875 9.328125 16.59375 8.109375 \r\nQ 21.484375 6.890625 26.8125 6.890625 \r\nQ 36.078125 6.890625 40.9375 10.546875 \r\nQ 45.796875 14.203125 45.796875 21.1875 \r\nQ 45.796875 27.640625 41.28125 31.265625 \r\nQ 36.765625 34.90625 28.71875 34.90625 \r\nL 20.21875 34.90625 \r\nL 20.21875 43.015625 \r\nL 29.109375 43.015625 \r\nQ 36.375 43.015625 40.234375 45.921875 \r\nQ 44.09375 48.828125 44.09375 54.296875 \r\nQ 44.09375 59.90625 40.109375 62.90625 \r\nQ 36.140625 65.921875 28.71875 65.921875 \r\nQ 24.65625 65.921875 20.015625 65.03125 \r\nQ 15.375 64.15625 9.8125 62.3125 \r\nL 9.8125 71.09375 \r\nQ 15.4375 72.65625 20.34375 73.4375 \r\nQ 25.25 74.21875 29.59375 74.21875 \r\nQ 40.828125 74.21875 47.359375 69.109375 \r\nQ 53.90625 64.015625 53.90625 55.328125 \r\nQ 53.90625 49.265625 50.4375 45.09375 \r\nQ 46.96875 40.921875 40.578125 39.3125 \r\nz\r\n\" id=\"DejaVuSans-51\"/>\r\n       </defs>\r\n       <use xlink:href=\"#DejaVuSans-51\"/>\r\n       <use x=\"63.623047\" xlink:href=\"#DejaVuSans-48\"/>\r\n       <use x=\"127.246094\" xlink:href=\"#DejaVuSans-48\"/>\r\n       <use x=\"190.869141\" xlink:href=\"#DejaVuSans-48\"/>\r\n      </g>\r\n     </g>\r\n    </g>\r\n    <g id=\"ytick_8\">\r\n     <g id=\"line2d_31\">\r\n      <path clip-path=\"url(#pddf21949a2)\" d=\"M 53.328125 11.149573 \r\nL 388.128125 11.149573 \r\n\" style=\"fill:none;stroke:#b0b0b0;stroke-linecap:square;stroke-width:0.8;\"/>\r\n     </g>\r\n     <g id=\"line2d_32\">\r\n      <g>\r\n       <use style=\"stroke:#000000;stroke-width:0.8;\" x=\"53.328125\" xlink:href=\"#mdf084658c2\" y=\"11.149573\"/>\r\n      </g>\r\n     </g>\r\n     <g id=\"text_17\">\r\n      <!-- 3500 -->\r\n      <g transform=\"translate(20.878125 14.948792)scale(0.1 -0.1)\">\r\n       <use xlink:href=\"#DejaVuSans-51\"/>\r\n       <use x=\"63.623047\" xlink:href=\"#DejaVuSans-53\"/>\r\n       <use x=\"127.246094\" xlink:href=\"#DejaVuSans-48\"/>\r\n       <use x=\"190.869141\" xlink:href=\"#DejaVuSans-48\"/>\r\n      </g>\r\n     </g>\r\n    </g>\r\n    <g id=\"text_18\">\r\n     <!-- Frequency -->\r\n     <g transform=\"translate(14.798438 141.749687)rotate(-90)scale(0.1 -0.1)\">\r\n      <defs>\r\n       <path d=\"M 9.8125 72.90625 \r\nL 51.703125 72.90625 \r\nL 51.703125 64.59375 \r\nL 19.671875 64.59375 \r\nL 19.671875 43.109375 \r\nL 48.578125 43.109375 \r\nL 48.578125 34.8125 \r\nL 19.671875 34.8125 \r\nL 19.671875 0 \r\nL 9.8125 0 \r\nz\r\n\" id=\"DejaVuSans-70\"/>\r\n       <path d=\"M 41.109375 46.296875 \r\nQ 39.59375 47.171875 37.8125 47.578125 \r\nQ 36.03125 48 33.890625 48 \r\nQ 26.265625 48 22.1875 43.046875 \r\nQ 18.109375 38.09375 18.109375 28.8125 \r\nL 18.109375 0 \r\nL 9.078125 0 \r\nL 9.078125 54.6875 \r\nL 18.109375 54.6875 \r\nL 18.109375 46.1875 \r\nQ 20.953125 51.171875 25.484375 53.578125 \r\nQ 30.03125 56 36.53125 56 \r\nQ 37.453125 56 38.578125 55.875 \r\nQ 39.703125 55.765625 41.0625 55.515625 \r\nz\r\n\" id=\"DejaVuSans-114\"/>\r\n       <path d=\"M 14.796875 27.296875 \r\nQ 14.796875 17.390625 18.875 11.75 \r\nQ 22.953125 6.109375 30.078125 6.109375 \r\nQ 37.203125 6.109375 41.296875 11.75 \r\nQ 45.40625 17.390625 45.40625 27.296875 \r\nQ 45.40625 37.203125 41.296875 42.84375 \r\nQ 37.203125 48.484375 30.078125 48.484375 \r\nQ 22.953125 48.484375 18.875 42.84375 \r\nQ 14.796875 37.203125 14.796875 27.296875 \r\nz\r\nM 45.40625 8.203125 \r\nQ 42.578125 3.328125 38.25 0.953125 \r\nQ 33.9375 -1.421875 27.875 -1.421875 \r\nQ 17.96875 -1.421875 11.734375 6.484375 \r\nQ 5.515625 14.40625 5.515625 27.296875 \r\nQ 5.515625 40.1875 11.734375 48.09375 \r\nQ 17.96875 56 27.875 56 \r\nQ 33.9375 56 38.25 53.625 \r\nQ 42.578125 51.265625 45.40625 46.390625 \r\nL 45.40625 54.6875 \r\nL 54.390625 54.6875 \r\nL 54.390625 -20.796875 \r\nL 45.40625 -20.796875 \r\nz\r\n\" id=\"DejaVuSans-113\"/>\r\n       <path d=\"M 8.5 21.578125 \r\nL 8.5 54.6875 \r\nL 17.484375 54.6875 \r\nL 17.484375 21.921875 \r\nQ 17.484375 14.15625 20.5 10.265625 \r\nQ 23.53125 6.390625 29.59375 6.390625 \r\nQ 36.859375 6.390625 41.078125 11.03125 \r\nQ 45.3125 15.671875 45.3125 23.6875 \r\nL 45.3125 54.6875 \r\nL 54.296875 54.6875 \r\nL 54.296875 0 \r\nL 45.3125 0 \r\nL 45.3125 8.40625 \r\nQ 42.046875 3.421875 37.71875 1 \r\nQ 33.40625 -1.421875 27.6875 -1.421875 \r\nQ 18.265625 -1.421875 13.375 4.4375 \r\nQ 8.5 10.296875 8.5 21.578125 \r\nz\r\nM 31.109375 56 \r\nz\r\n\" id=\"DejaVuSans-117\"/>\r\n       <path d=\"M 48.78125 52.59375 \r\nL 48.78125 44.1875 \r\nQ 44.96875 46.296875 41.140625 47.34375 \r\nQ 37.3125 48.390625 33.40625 48.390625 \r\nQ 24.65625 48.390625 19.8125 42.84375 \r\nQ 14.984375 37.3125 14.984375 27.296875 \r\nQ 14.984375 17.28125 19.8125 11.734375 \r\nQ 24.65625 6.203125 33.40625 6.203125 \r\nQ 37.3125 6.203125 41.140625 7.25 \r\nQ 44.96875 8.296875 48.78125 10.40625 \r\nL 48.78125 2.09375 \r\nQ 45.015625 0.34375 40.984375 -0.53125 \r\nQ 36.96875 -1.421875 32.421875 -1.421875 \r\nQ 20.0625 -1.421875 12.78125 6.34375 \r\nQ 5.515625 14.109375 5.515625 27.296875 \r\nQ 5.515625 40.671875 12.859375 48.328125 \r\nQ 20.21875 56 33.015625 56 \r\nQ 37.15625 56 41.109375 55.140625 \r\nQ 45.0625 54.296875 48.78125 52.59375 \r\nz\r\n\" id=\"DejaVuSans-99\"/>\r\n       <path d=\"M 32.171875 -5.078125 \r\nQ 28.375 -14.84375 24.75 -17.8125 \r\nQ 21.140625 -20.796875 15.09375 -20.796875 \r\nL 7.90625 -20.796875 \r\nL 7.90625 -13.28125 \r\nL 13.1875 -13.28125 \r\nQ 16.890625 -13.28125 18.9375 -11.515625 \r\nQ 21 -9.765625 23.484375 -3.21875 \r\nL 25.09375 0.875 \r\nL 2.984375 54.6875 \r\nL 12.5 54.6875 \r\nL 29.59375 11.921875 \r\nL 46.6875 54.6875 \r\nL 56.203125 54.6875 \r\nz\r\n\" id=\"DejaVuSans-121\"/>\r\n      </defs>\r\n      <use xlink:href=\"#DejaVuSans-70\"/>\r\n      <use x=\"50.269531\" xlink:href=\"#DejaVuSans-114\"/>\r\n      <use x=\"89.132812\" xlink:href=\"#DejaVuSans-101\"/>\r\n      <use x=\"150.65625\" xlink:href=\"#DejaVuSans-113\"/>\r\n      <use x=\"214.132812\" xlink:href=\"#DejaVuSans-117\"/>\r\n      <use x=\"277.511719\" xlink:href=\"#DejaVuSans-101\"/>\r\n      <use x=\"339.035156\" xlink:href=\"#DejaVuSans-110\"/>\r\n      <use x=\"402.414062\" xlink:href=\"#DejaVuSans-99\"/>\r\n      <use x=\"457.394531\" xlink:href=\"#DejaVuSans-121\"/>\r\n     </g>\r\n    </g>\r\n   </g>\r\n   <g id=\"patch_53\">\r\n    <path d=\"M 53.328125 224.64 \r\nL 53.328125 7.2 \r\n\" style=\"fill:none;stroke:#000000;stroke-linecap:square;stroke-linejoin:miter;stroke-width:0.8;\"/>\r\n   </g>\r\n   <g id=\"patch_54\">\r\n    <path d=\"M 388.128125 224.64 \r\nL 388.128125 7.2 \r\n\" style=\"fill:none;stroke:#000000;stroke-linecap:square;stroke-linejoin:miter;stroke-width:0.8;\"/>\r\n   </g>\r\n   <g id=\"patch_55\">\r\n    <path d=\"M 53.328125 224.64 \r\nL 388.128125 224.64 \r\n\" style=\"fill:none;stroke:#000000;stroke-linecap:square;stroke-linejoin:miter;stroke-width:0.8;\"/>\r\n   </g>\r\n   <g id=\"patch_56\">\r\n    <path d=\"M 53.328125 7.2 \r\nL 388.128125 7.2 \r\n\" style=\"fill:none;stroke:#000000;stroke-linecap:square;stroke-linejoin:miter;stroke-width:0.8;\"/>\r\n   </g>\r\n  </g>\r\n </g>\r\n <defs>\r\n  <clipPath id=\"pddf21949a2\">\r\n   <rect height=\"217.44\" width=\"334.8\" x=\"53.328125\" y=\"7.2\"/>\r\n  </clipPath>\r\n </defs>\r\n</svg>\r\n",
            "image/png": "[encoded data removed]"
          },
          "metadata": {
            "needs_background": "light"
          }
        }
      ]
    },
    {
      "cell_type": "code",
      "metadata": {
        "trusted": true,
        "colab": {
          "base_uri": "https://localhost:8080/"
        },
        "id": "nmZGz-5yCMaE",
        "outputId": "4c3bed35-1e7e-4726-8d21-a3445aedce3f"
      },
      "source": [
        "print('Average words per review ', words_per_review.mean())\n",
        "print('skewness ', words_per_review.skew())"
      ],
      "execution_count": 27,
      "outputs": [
        {
          "output_type": "stream",
          "name": "stdout",
          "text": [
            "Average words per review  77.9028\nskewness  4.612459483340116\n"
          ]
        }
      ]
    },
    {
      "cell_type": "code",
      "metadata": {
        "trusted": true,
        "colab": {
          "base_uri": "https://localhost:8080/"
        },
        "id": "F19mFTSiCMaE",
        "outputId": "6dcb44b0-3a77-4fca-b8e4-ace4c6492ee8"
      },
      "source": [
        "# distribution of ratings across reviews\n",
        "ratings = (df['Score'].value_counts()/len(df))*100\n",
        "ratings"
      ],
      "execution_count": 28,
      "outputs": [
        {
          "output_type": "execute_result",
          "data": {
            "text/plain": [
              "5    61.83\n",
              "4    14.33\n",
              "1     9.32\n",
              "3     8.62\n",
              "2     5.90\n",
              "Name: Score, dtype: float64"
            ]
          },
          "metadata": {},
          "execution_count": 28
        }
      ]
    },
    {
      "cell_type": "code",
      "metadata": {
        "trusted": true,
        "colab": {
          "base_uri": "https://localhost:8080/",
          "height": 279
        },
        "id": "gcPLQhwXCMaK",
        "outputId": "cbd3a41a-4433-48b3-ea53-dadeefea97f6"
      },
      "source": [
        "ratings.plot.bar(color='red')"
      ],
      "execution_count": 29,
      "outputs": [
        {
          "output_type": "execute_result",
          "data": {
            "text/plain": [
              "<AxesSubplot:>"
            ]
          },
          "metadata": {},
          "execution_count": 29
        },
        {
          "output_type": "display_data",
          "data": {
            "text/plain": "<Figure size 432x288 with 1 Axes>",
            "image/svg+xml": "<?xml version=\"1.0\" encoding=\"utf-8\" standalone=\"no\"?>\r\n<!DOCTYPE svg PUBLIC \"-//W3C//DTD SVG 1.1//EN\"\r\n  \"http://www.w3.org/Graphics/SVG/1.1/DTD/svg11.dtd\">\r\n<!-- Created with matplotlib (https://matplotlib.org/) -->\r\n<svg height=\"245.2025pt\" version=\"1.1\" viewBox=\"0 0 368.925 245.2025\" width=\"368.925pt\" xmlns=\"http://www.w3.org/2000/svg\" xmlns:xlink=\"http://www.w3.org/1999/xlink\">\r\n <metadata>\r\n  <rdf:RDF xmlns:cc=\"http://creativecommons.org/ns#\" xmlns:dc=\"http://purl.org/dc/elements/1.1/\" xmlns:rdf=\"http://www.w3.org/1999/02/22-rdf-syntax-ns#\">\r\n   <cc:Work>\r\n    <dc:type rdf:resource=\"http://purl.org/dc/dcmitype/StillImage\"/>\r\n    <dc:date>2021-01-07T15:16:29.365731</dc:date>\r\n    <dc:format>image/svg+xml</dc:format>\r\n    <dc:creator>\r\n     <cc:Agent>\r\n      <dc:title>Matplotlib v3.3.2, https://matplotlib.org/</dc:title>\r\n     </cc:Agent>\r\n    </dc:creator>\r\n   </cc:Work>\r\n  </rdf:RDF>\r\n </metadata>\r\n <defs>\r\n  <style type=\"text/css\">*{stroke-linecap:butt;stroke-linejoin:round;}</style>\r\n </defs>\r\n <g id=\"figure_1\">\r\n  <g id=\"patch_1\">\r\n   <path d=\"M -0 245.2025 \r\nL 368.925 245.2025 \r\nL 368.925 0 \r\nL -0 0 \r\nz\r\n\" style=\"fill:none;\"/>\r\n  </g>\r\n  <g id=\"axes_1\">\r\n   <g id=\"patch_2\">\r\n    <path d=\"M 26.925 224.64 \r\nL 361.725 224.64 \r\nL 361.725 7.2 \r\nL 26.925 7.2 \r\nz\r\n\" style=\"fill:#ffffff;\"/>\r\n   </g>\r\n   <g id=\"patch_3\">\r\n    <path clip-path=\"url(#pd6ae71043b)\" d=\"M 43.665 224.64 \r\nL 77.145 224.64 \r\nL 77.145 17.554286 \r\nL 43.665 17.554286 \r\nz\r\n\" style=\"fill:#ff0000;\"/>\r\n   </g>\r\n   <g id=\"patch_4\">\r\n    <path clip-path=\"url(#pd6ae71043b)\" d=\"M 110.625 224.64 \r\nL 144.105 224.64 \r\nL 144.105 176.64488 \r\nL 110.625 176.64488 \r\nz\r\n\" style=\"fill:#ff0000;\"/>\r\n   </g>\r\n   <g id=\"patch_5\">\r\n    <path clip-path=\"url(#pd6ae71043b)\" d=\"M 177.585 224.64 \r\nL 211.065 224.64 \r\nL 211.065 193.424751 \r\nL 177.585 193.424751 \r\nz\r\n\" style=\"fill:#ff0000;\"/>\r\n   </g>\r\n   <g id=\"patch_6\">\r\n    <path clip-path=\"url(#pd6ae71043b)\" d=\"M 244.545 224.64 \r\nL 278.025 224.64 \r\nL 278.025 195.769244 \r\nL 244.545 195.769244 \r\nz\r\n\" style=\"fill:#ff0000;\"/>\r\n   </g>\r\n   <g id=\"patch_7\">\r\n    <path clip-path=\"url(#pd6ae71043b)\" d=\"M 311.505 224.64 \r\nL 344.985 224.64 \r\nL 344.985 204.879274 \r\nL 311.505 204.879274 \r\nz\r\n\" style=\"fill:#ff0000;\"/>\r\n   </g>\r\n   <g id=\"matplotlib.axis_1\">\r\n    <g id=\"xtick_1\">\r\n     <g id=\"line2d_1\">\r\n      <defs>\r\n       <path d=\"M 0 0 \r\nL 0 3.5 \r\n\" id=\"mbc0fc41f4d\" style=\"stroke:#000000;stroke-width:0.8;\"/>\r\n      </defs>\r\n      <g>\r\n       <use style=\"stroke:#000000;stroke-width:0.8;\" x=\"60.405\" xlink:href=\"#mbc0fc41f4d\" y=\"224.64\"/>\r\n      </g>\r\n     </g>\r\n     <g id=\"text_1\">\r\n      <!-- 5 -->\r\n      <g transform=\"translate(63.164375 238.0025)rotate(-90)scale(0.1 -0.1)\">\r\n       <defs>\r\n        <path d=\"M 10.796875 72.90625 \r\nL 49.515625 72.90625 \r\nL 49.515625 64.59375 \r\nL 19.828125 64.59375 \r\nL 19.828125 46.734375 \r\nQ 21.96875 47.46875 24.109375 47.828125 \r\nQ 26.265625 48.1875 28.421875 48.1875 \r\nQ 40.625 48.1875 47.75 41.5 \r\nQ 54.890625 34.8125 54.890625 23.390625 \r\nQ 54.890625 11.625 47.5625 5.09375 \r\nQ 40.234375 -1.421875 26.90625 -1.421875 \r\nQ 22.3125 -1.421875 17.546875 -0.640625 \r\nQ 12.796875 0.140625 7.71875 1.703125 \r\nL 7.71875 11.625 \r\nQ 12.109375 9.234375 16.796875 8.0625 \r\nQ 21.484375 6.890625 26.703125 6.890625 \r\nQ 35.15625 6.890625 40.078125 11.328125 \r\nQ 45.015625 15.765625 45.015625 23.390625 \r\nQ 45.015625 31 40.078125 35.4375 \r\nQ 35.15625 39.890625 26.703125 39.890625 \r\nQ 22.75 39.890625 18.8125 39.015625 \r\nQ 14.890625 38.140625 10.796875 36.28125 \r\nz\r\n\" id=\"DejaVuSans-53\"/>\r\n       </defs>\r\n       <use xlink:href=\"#DejaVuSans-53\"/>\r\n      </g>\r\n     </g>\r\n    </g>\r\n    <g id=\"xtick_2\">\r\n     <g id=\"line2d_2\">\r\n      <g>\r\n       <use style=\"stroke:#000000;stroke-width:0.8;\" x=\"127.365\" xlink:href=\"#mbc0fc41f4d\" y=\"224.64\"/>\r\n      </g>\r\n     </g>\r\n     <g id=\"text_2\">\r\n      <!-- 4 -->\r\n      <g transform=\"translate(130.124375 238.0025)rotate(-90)scale(0.1 -0.1)\">\r\n       <defs>\r\n        <path d=\"M 37.796875 64.3125 \r\nL 12.890625 25.390625 \r\nL 37.796875 25.390625 \r\nz\r\nM 35.203125 72.90625 \r\nL 47.609375 72.90625 \r\nL 47.609375 25.390625 \r\nL 58.015625 25.390625 \r\nL 58.015625 17.1875 \r\nL 47.609375 17.1875 \r\nL 47.609375 0 \r\nL 37.796875 0 \r\nL 37.796875 17.1875 \r\nL 4.890625 17.1875 \r\nL 4.890625 26.703125 \r\nz\r\n\" id=\"DejaVuSans-52\"/>\r\n       </defs>\r\n       <use xlink:href=\"#DejaVuSans-52\"/>\r\n      </g>\r\n     </g>\r\n    </g>\r\n    <g id=\"xtick_3\">\r\n     <g id=\"line2d_3\">\r\n      <g>\r\n       <use style=\"stroke:#000000;stroke-width:0.8;\" x=\"194.325\" xlink:href=\"#mbc0fc41f4d\" y=\"224.64\"/>\r\n      </g>\r\n     </g>\r\n     <g id=\"text_3\">\r\n      <!-- 1 -->\r\n      <g transform=\"translate(197.084375 238.0025)rotate(-90)scale(0.1 -0.1)\">\r\n       <defs>\r\n        <path d=\"M 12.40625 8.296875 \r\nL 28.515625 8.296875 \r\nL 28.515625 63.921875 \r\nL 10.984375 60.40625 \r\nL 10.984375 69.390625 \r\nL 28.421875 72.90625 \r\nL 38.28125 72.90625 \r\nL 38.28125 8.296875 \r\nL 54.390625 8.296875 \r\nL 54.390625 0 \r\nL 12.40625 0 \r\nz\r\n\" id=\"DejaVuSans-49\"/>\r\n       </defs>\r\n       <use xlink:href=\"#DejaVuSans-49\"/>\r\n      </g>\r\n     </g>\r\n    </g>\r\n    <g id=\"xtick_4\">\r\n     <g id=\"line2d_4\">\r\n      <g>\r\n       <use style=\"stroke:#000000;stroke-width:0.8;\" x=\"261.285\" xlink:href=\"#mbc0fc41f4d\" y=\"224.64\"/>\r\n      </g>\r\n     </g>\r\n     <g id=\"text_4\">\r\n      <!-- 3 -->\r\n      <g transform=\"translate(264.044375 238.0025)rotate(-90)scale(0.1 -0.1)\">\r\n       <defs>\r\n        <path d=\"M 40.578125 39.3125 \r\nQ 47.65625 37.796875 51.625 33 \r\nQ 55.609375 28.21875 55.609375 21.1875 \r\nQ 55.609375 10.40625 48.1875 4.484375 \r\nQ 40.765625 -1.421875 27.09375 -1.421875 \r\nQ 22.515625 -1.421875 17.65625 -0.515625 \r\nQ 12.796875 0.390625 7.625 2.203125 \r\nL 7.625 11.71875 \r\nQ 11.71875 9.328125 16.59375 8.109375 \r\nQ 21.484375 6.890625 26.8125 6.890625 \r\nQ 36.078125 6.890625 40.9375 10.546875 \r\nQ 45.796875 14.203125 45.796875 21.1875 \r\nQ 45.796875 27.640625 41.28125 31.265625 \r\nQ 36.765625 34.90625 28.71875 34.90625 \r\nL 20.21875 34.90625 \r\nL 20.21875 43.015625 \r\nL 29.109375 43.015625 \r\nQ 36.375 43.015625 40.234375 45.921875 \r\nQ 44.09375 48.828125 44.09375 54.296875 \r\nQ 44.09375 59.90625 40.109375 62.90625 \r\nQ 36.140625 65.921875 28.71875 65.921875 \r\nQ 24.65625 65.921875 20.015625 65.03125 \r\nQ 15.375 64.15625 9.8125 62.3125 \r\nL 9.8125 71.09375 \r\nQ 15.4375 72.65625 20.34375 73.4375 \r\nQ 25.25 74.21875 29.59375 74.21875 \r\nQ 40.828125 74.21875 47.359375 69.109375 \r\nQ 53.90625 64.015625 53.90625 55.328125 \r\nQ 53.90625 49.265625 50.4375 45.09375 \r\nQ 46.96875 40.921875 40.578125 39.3125 \r\nz\r\n\" id=\"DejaVuSans-51\"/>\r\n       </defs>\r\n       <use xlink:href=\"#DejaVuSans-51\"/>\r\n      </g>\r\n     </g>\r\n    </g>\r\n    <g id=\"xtick_5\">\r\n     <g id=\"line2d_5\">\r\n      <g>\r\n       <use style=\"stroke:#000000;stroke-width:0.8;\" x=\"328.245\" xlink:href=\"#mbc0fc41f4d\" y=\"224.64\"/>\r\n      </g>\r\n     </g>\r\n     <g id=\"text_5\">\r\n      <!-- 2 -->\r\n      <g transform=\"translate(331.004375 238.0025)rotate(-90)scale(0.1 -0.1)\">\r\n       <defs>\r\n        <path d=\"M 19.1875 8.296875 \r\nL 53.609375 8.296875 \r\nL 53.609375 0 \r\nL 7.328125 0 \r\nL 7.328125 8.296875 \r\nQ 12.9375 14.109375 22.625 23.890625 \r\nQ 32.328125 33.6875 34.8125 36.53125 \r\nQ 39.546875 41.84375 41.421875 45.53125 \r\nQ 43.3125 49.21875 43.3125 52.78125 \r\nQ 43.3125 58.59375 39.234375 62.25 \r\nQ 35.15625 65.921875 28.609375 65.921875 \r\nQ 23.96875 65.921875 18.8125 64.3125 \r\nQ 13.671875 62.703125 7.8125 59.421875 \r\nL 7.8125 69.390625 \r\nQ 13.765625 71.78125 18.9375 73 \r\nQ 24.125 74.21875 28.421875 74.21875 \r\nQ 39.75 74.21875 46.484375 68.546875 \r\nQ 53.21875 62.890625 53.21875 53.421875 \r\nQ 53.21875 48.921875 51.53125 44.890625 \r\nQ 49.859375 40.875 45.40625 35.40625 \r\nQ 44.1875 33.984375 37.640625 27.21875 \r\nQ 31.109375 20.453125 19.1875 8.296875 \r\nz\r\n\" id=\"DejaVuSans-50\"/>\r\n       </defs>\r\n       <use xlink:href=\"#DejaVuSans-50\"/>\r\n      </g>\r\n     </g>\r\n    </g>\r\n   </g>\r\n   <g id=\"matplotlib.axis_2\">\r\n    <g id=\"ytick_1\">\r\n     <g id=\"line2d_6\">\r\n      <defs>\r\n       <path d=\"M 0 0 \r\nL -3.5 0 \r\n\" id=\"mdfe4d4422c\" style=\"stroke:#000000;stroke-width:0.8;\"/>\r\n      </defs>\r\n      <g>\r\n       <use style=\"stroke:#000000;stroke-width:0.8;\" x=\"26.925\" xlink:href=\"#mdfe4d4422c\" y=\"224.64\"/>\r\n      </g>\r\n     </g>\r\n     <g id=\"text_6\">\r\n      <!-- 0 -->\r\n      <g transform=\"translate(13.5625 228.439219)scale(0.1 -0.1)\">\r\n       <defs>\r\n        <path d=\"M 31.78125 66.40625 \r\nQ 24.171875 66.40625 20.328125 58.90625 \r\nQ 16.5 51.421875 16.5 36.375 \r\nQ 16.5 21.390625 20.328125 13.890625 \r\nQ 24.171875 6.390625 31.78125 6.390625 \r\nQ 39.453125 6.390625 43.28125 13.890625 \r\nQ 47.125 21.390625 47.125 36.375 \r\nQ 47.125 51.421875 43.28125 58.90625 \r\nQ 39.453125 66.40625 31.78125 66.40625 \r\nz\r\nM 31.78125 74.21875 \r\nQ 44.046875 74.21875 50.515625 64.515625 \r\nQ 56.984375 54.828125 56.984375 36.375 \r\nQ 56.984375 17.96875 50.515625 8.265625 \r\nQ 44.046875 -1.421875 31.78125 -1.421875 \r\nQ 19.53125 -1.421875 13.0625 8.265625 \r\nQ 6.59375 17.96875 6.59375 36.375 \r\nQ 6.59375 54.828125 13.0625 64.515625 \r\nQ 19.53125 74.21875 31.78125 74.21875 \r\nz\r\n\" id=\"DejaVuSans-48\"/>\r\n       </defs>\r\n       <use xlink:href=\"#DejaVuSans-48\"/>\r\n      </g>\r\n     </g>\r\n    </g>\r\n    <g id=\"ytick_2\">\r\n     <g id=\"line2d_7\">\r\n      <g>\r\n       <use style=\"stroke:#000000;stroke-width:0.8;\" x=\"26.925\" xlink:href=\"#mdfe4d4422c\" y=\"191.147243\"/>\r\n      </g>\r\n     </g>\r\n     <g id=\"text_7\">\r\n      <!-- 10 -->\r\n      <g transform=\"translate(7.2 194.946462)scale(0.1 -0.1)\">\r\n       <use xlink:href=\"#DejaVuSans-49\"/>\r\n       <use x=\"63.623047\" xlink:href=\"#DejaVuSans-48\"/>\r\n      </g>\r\n     </g>\r\n    </g>\r\n    <g id=\"ytick_3\">\r\n     <g id=\"line2d_8\">\r\n      <g>\r\n       <use style=\"stroke:#000000;stroke-width:0.8;\" x=\"26.925\" xlink:href=\"#mdfe4d4422c\" y=\"157.654487\"/>\r\n      </g>\r\n     </g>\r\n     <g id=\"text_8\">\r\n      <!-- 20 -->\r\n      <g transform=\"translate(7.2 161.453705)scale(0.1 -0.1)\">\r\n       <use xlink:href=\"#DejaVuSans-50\"/>\r\n       <use x=\"63.623047\" xlink:href=\"#DejaVuSans-48\"/>\r\n      </g>\r\n     </g>\r\n    </g>\r\n    <g id=\"ytick_4\">\r\n     <g id=\"line2d_9\">\r\n      <g>\r\n       <use style=\"stroke:#000000;stroke-width:0.8;\" x=\"26.925\" xlink:href=\"#mdfe4d4422c\" y=\"124.16173\"/>\r\n      </g>\r\n     </g>\r\n     <g id=\"text_9\">\r\n      <!-- 30 -->\r\n      <g transform=\"translate(7.2 127.960949)scale(0.1 -0.1)\">\r\n       <use xlink:href=\"#DejaVuSans-51\"/>\r\n       <use x=\"63.623047\" xlink:href=\"#DejaVuSans-48\"/>\r\n      </g>\r\n     </g>\r\n    </g>\r\n    <g id=\"ytick_5\">\r\n     <g id=\"line2d_10\">\r\n      <g>\r\n       <use style=\"stroke:#000000;stroke-width:0.8;\" x=\"26.925\" xlink:href=\"#mdfe4d4422c\" y=\"90.668973\"/>\r\n      </g>\r\n     </g>\r\n     <g id=\"text_10\">\r\n      <!-- 40 -->\r\n      <g transform=\"translate(7.2 94.468192)scale(0.1 -0.1)\">\r\n       <use xlink:href=\"#DejaVuSans-52\"/>\r\n       <use x=\"63.623047\" xlink:href=\"#DejaVuSans-48\"/>\r\n      </g>\r\n     </g>\r\n    </g>\r\n    <g id=\"ytick_6\">\r\n     <g id=\"line2d_11\">\r\n      <g>\r\n       <use style=\"stroke:#000000;stroke-width:0.8;\" x=\"26.925\" xlink:href=\"#mdfe4d4422c\" y=\"57.176217\"/>\r\n      </g>\r\n     </g>\r\n     <g id=\"text_11\">\r\n      <!-- 50 -->\r\n      <g transform=\"translate(7.2 60.975436)scale(0.1 -0.1)\">\r\n       <use xlink:href=\"#DejaVuSans-53\"/>\r\n       <use x=\"63.623047\" xlink:href=\"#DejaVuSans-48\"/>\r\n      </g>\r\n     </g>\r\n    </g>\r\n    <g id=\"ytick_7\">\r\n     <g id=\"line2d_12\">\r\n      <g>\r\n       <use style=\"stroke:#000000;stroke-width:0.8;\" x=\"26.925\" xlink:href=\"#mdfe4d4422c\" y=\"23.68346\"/>\r\n      </g>\r\n     </g>\r\n     <g id=\"text_12\">\r\n      <!-- 60 -->\r\n      <g transform=\"translate(7.2 27.482679)scale(0.1 -0.1)\">\r\n       <defs>\r\n        <path d=\"M 33.015625 40.375 \r\nQ 26.375 40.375 22.484375 35.828125 \r\nQ 18.609375 31.296875 18.609375 23.390625 \r\nQ 18.609375 15.53125 22.484375 10.953125 \r\nQ 26.375 6.390625 33.015625 6.390625 \r\nQ 39.65625 6.390625 43.53125 10.953125 \r\nQ 47.40625 15.53125 47.40625 23.390625 \r\nQ 47.40625 31.296875 43.53125 35.828125 \r\nQ 39.65625 40.375 33.015625 40.375 \r\nz\r\nM 52.59375 71.296875 \r\nL 52.59375 62.3125 \r\nQ 48.875 64.0625 45.09375 64.984375 \r\nQ 41.3125 65.921875 37.59375 65.921875 \r\nQ 27.828125 65.921875 22.671875 59.328125 \r\nQ 17.53125 52.734375 16.796875 39.40625 \r\nQ 19.671875 43.65625 24.015625 45.921875 \r\nQ 28.375 48.1875 33.59375 48.1875 \r\nQ 44.578125 48.1875 50.953125 41.515625 \r\nQ 57.328125 34.859375 57.328125 23.390625 \r\nQ 57.328125 12.15625 50.6875 5.359375 \r\nQ 44.046875 -1.421875 33.015625 -1.421875 \r\nQ 20.359375 -1.421875 13.671875 8.265625 \r\nQ 6.984375 17.96875 6.984375 36.375 \r\nQ 6.984375 53.65625 15.1875 63.9375 \r\nQ 23.390625 74.21875 37.203125 74.21875 \r\nQ 40.921875 74.21875 44.703125 73.484375 \r\nQ 48.484375 72.75 52.59375 71.296875 \r\nz\r\n\" id=\"DejaVuSans-54\"/>\r\n       </defs>\r\n       <use xlink:href=\"#DejaVuSans-54\"/>\r\n       <use x=\"63.623047\" xlink:href=\"#DejaVuSans-48\"/>\r\n      </g>\r\n     </g>\r\n    </g>\r\n   </g>\r\n   <g id=\"patch_8\">\r\n    <path d=\"M 26.925 224.64 \r\nL 26.925 7.2 \r\n\" style=\"fill:none;stroke:#000000;stroke-linecap:square;stroke-linejoin:miter;stroke-width:0.8;\"/>\r\n   </g>\r\n   <g id=\"patch_9\">\r\n    <path d=\"M 361.725 224.64 \r\nL 361.725 7.2 \r\n\" style=\"fill:none;stroke:#000000;stroke-linecap:square;stroke-linejoin:miter;stroke-width:0.8;\"/>\r\n   </g>\r\n   <g id=\"patch_10\">\r\n    <path d=\"M 26.925 224.64 \r\nL 361.725 224.64 \r\n\" style=\"fill:none;stroke:#000000;stroke-linecap:square;stroke-linejoin:miter;stroke-width:0.8;\"/>\r\n   </g>\r\n   <g id=\"patch_11\">\r\n    <path d=\"M 26.925 7.2 \r\nL 361.725 7.2 \r\n\" style=\"fill:none;stroke:#000000;stroke-linecap:square;stroke-linejoin:miter;stroke-width:0.8;\"/>\r\n   </g>\r\n  </g>\r\n </g>\r\n <defs>\r\n  <clipPath id=\"pd6ae71043b\">\r\n   <rect height=\"217.44\" width=\"334.8\" x=\"26.925\" y=\"7.2\"/>\r\n  </clipPath>\r\n </defs>\r\n</svg>\r\n",
            "image/png": "[encoded data removed]"
          },
          "metadata": {
            "needs_background": "light"
          }
        }
      ]
    },
    {
      "cell_type": "markdown",
      "metadata": {
        "id": "wC7WXquRCMaK"
      },
      "source": [
        "### Observation\n",
        "- Too many 5 ratings and than other ratings\n",
        "- max review length is between 0 to 500 words"
      ]
    },
    {
      "cell_type": "code",
      "metadata": {
        "trusted": true,
        "colab": {
          "base_uri": "https://localhost:8080/",
          "height": 198
        },
        "id": "Xq0rri7VCMaL",
        "outputId": "75a5eefb-152e-4e40-dfe4-4d38e2a8864b"
      },
      "source": [
        "\n",
        "word_cloud_text = ''.join(df['Text'])\n",
        "\n",
        "wordcloud = WordCloud(max_font_size=100, # Maximum font size for the largest word\n",
        "                      max_words=100, # The maximum number of words\n",
        "                      background_color=\"white\", # Background color for the word cloud image\n",
        "                      scale = 10, # Scaling between computation and drawing\n",
        "                      width=800, # Width of the canvas\n",
        "                      height=400 # Height of the canvas\n",
        "                     ).generate(word_cloud_text)\n",
        "\n",
        "plt.figure()\n",
        "plt.imshow(wordcloud, \n",
        "           interpolation=\"bilinear\") # to make the displayed image appear more smoothly\n",
        "plt.axis(\"off\")\n",
        "plt.show()"
      ],
      "execution_count": 30,
      "outputs": [
        {
          "output_type": "display_data",
          "data": {
            "text/plain": "<Figure size 432x288 with 1 Axes>",
            "image/svg+xml": "<?xml version=\"1.0\" encoding=\"utf-8\" standalone=\"no\"?>\r\n<!DOCTYPE svg PUBLIC \"-//W3C//DTD SVG 1.1//EN\"\r\n  \"http://www.w3.org/Graphics/SVG/1.1/DTD/svg11.dtd\">\r\n<!-- Created with matplotlib (https://matplotlib.org/) -->\r\n<svg height=\"181.8pt\" version=\"1.1\" viewBox=\"0 0 349.2 181.8\" width=\"349.2pt\" xmlns=\"http://www.w3.org/2000/svg\" xmlns:xlink=\"http://www.w3.org/1999/xlink\">\r\n <metadata>\r\n  <rdf:RDF xmlns:cc=\"http://creativecommons.org/ns#\" xmlns:dc=\"http://purl.org/dc/elements/1.1/\" xmlns:rdf=\"http://www.w3.org/1999/02/22-rdf-syntax-ns#\">\r\n   <cc:Work>\r\n    <dc:type rdf:resource=\"http://purl.org/dc/dcmitype/StillImage\"/>\r\n    <dc:date>2021-01-07T15:16:40.383243</dc:date>\r\n    <dc:format>image/svg+xml</dc:format>\r\n    <dc:creator>\r\n     <cc:Agent>\r\n      <dc:title>Matplotlib v3.3.2, https://matplotlib.org/</dc:title>\r\n     </cc:Agent>\r\n    </dc:creator>\r\n   </cc:Work>\r\n  </rdf:RDF>\r\n </metadata>\r\n <defs>\r\n  <style type=\"text/css\">*{stroke-linecap:butt;stroke-linejoin:round;}</style>\r\n </defs>\r\n <g id=\"figure_1\">\r\n  <g id=\"patch_1\">\r\n   <path d=\"M 0 181.8 \r\nL 349.2 181.8 \r\nL 349.2 0 \r\nL 0 0 \r\nz\r\n\" style=\"fill:none;\"/>\r\n  </g>\r\n  <g id=\"axes_1\">\r\n   <g clip-path=\"url(#pe16b23f112)\">\r\n    <image height=\"168\" id=\"imagef8d4371d52\" transform=\"scale(1 -1)translate(0 -168)\" width=\"335\" x=\"7.2\" xlink:href=\"data:image/png;base64,\r\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\" y=\"-6.6\"/>\r\n   </g>\r\n  </g>\r\n </g>\r\n <defs>\r\n  <clipPath id=\"pe16b23f112\">\r\n   <rect height=\"167.4\" width=\"334.8\" x=\"7.2\" y=\"7.2\"/>\r\n  </clipPath>\r\n </defs>\r\n</svg>\r\n",
            "image/png": "[encoded data removed]"
          },
          "metadata": {
            "needs_background": "light"
          }
        }
      ]
    },
    {
      "cell_type": "markdown",
      "metadata": {
        "id": "Rj2AWsa6CMaL"
      },
      "source": [
        "## Data Cleaning"
      ]
    },
    {
      "cell_type": "code",
      "metadata": {
        "trusted": true,
        "colab": {
          "base_uri": "https://localhost:8080/"
        },
        "id": "2qaqPVApCMaM",
        "outputId": "cffecfe6-0c70-4094-9f43-e28ae1c95f81"
      },
      "source": [
        "df.isna().sum()"
      ],
      "execution_count": 31,
      "outputs": [
        {
          "output_type": "execute_result",
          "data": {
            "text/plain": [
              "ProductId                 0\n",
              "UserId                    0\n",
              "ProfileName               0\n",
              "HelpfulnessNumerator      0\n",
              "HelpfulnessDenominator    0\n",
              "Score                     0\n",
              "Time                      0\n",
              "Summary                   0\n",
              "Text                      0\n",
              "dtype: int64"
            ]
          },
          "metadata": {},
          "execution_count": 31
        }
      ]
    },
    {
      "cell_type": "markdown",
      "metadata": {
        "id": "TZCf2l2TCMaM"
      },
      "source": [
        "### Observation\n",
        "- Since we are more concerned with the text, and score, which dont have null we will not drop NaN values here"
      ]
    },
    {
      "cell_type": "markdown",
      "metadata": {
        "id": "muuSknwPCMaN"
      },
      "source": [
        "### mapping of score\n",
        "- we want to say positive review for score 4 and 5\n",
        "- and score 1 and 2 as negative\n",
        "- score 3 is neutral, so we will drop those values"
      ]
    },
    {
      "cell_type": "code",
      "metadata": {
        "trusted": true,
        "colab": {
          "base_uri": "https://localhost:8080/"
        },
        "id": "j-GSn6iECMaN",
        "outputId": "f72d81ba-b8da-449c-db5f-946254a3a508"
      },
      "source": [
        "df['sentiment'] = np.where(df['Score']>3, 1, 0)\n",
        "df['sentiment'].head()"
      ],
      "execution_count": 32,
      "outputs": [
        {
          "output_type": "execute_result",
          "data": {
            "text/plain": [
              "0    1\n",
              "1    0\n",
              "2    1\n",
              "3    0\n",
              "4    1\n",
              "Name: sentiment, dtype: int32"
            ]
          },
          "metadata": {},
          "execution_count": 32
        }
      ]
    },
    {
      "cell_type": "code",
      "metadata": {
        "trusted": true,
        "colab": {
          "base_uri": "https://localhost:8080/"
        },
        "id": "niIsDn5UCMaO",
        "outputId": "c808dd0a-1847-49d8-b90d-021eba884754"
      },
      "source": [
        "df.shape"
      ],
      "execution_count": 33,
      "outputs": [
        {
          "output_type": "execute_result",
          "data": {
            "text/plain": [
              "(10000, 10)"
            ]
          },
          "metadata": {},
          "execution_count": 33
        }
      ]
    },
    {
      "cell_type": "code",
      "metadata": {
        "trusted": true,
        "colab": {
          "base_uri": "https://localhost:8080/"
        },
        "id": "OkXuNfQPCMaO",
        "outputId": "c027432b-d910-42a2-fa4c-825221bf4942"
      },
      "source": [
        "df = df[df['Score'] != 3]\n",
        "df.shape"
      ],
      "execution_count": 34,
      "outputs": [
        {
          "output_type": "execute_result",
          "data": {
            "text/plain": [
              "(9138, 10)"
            ]
          },
          "metadata": {},
          "execution_count": 34
        }
      ]
    },
    {
      "cell_type": "markdown",
      "metadata": {
        "id": "rRJ80LNhCMaP"
      },
      "source": [
        "we just dropped all the neutral values ie.[](http://) score=3"
      ]
    },
    {
      "cell_type": "code",
      "metadata": {
        "trusted": true,
        "colab": {
          "base_uri": "https://localhost:8080/",
          "height": 279
        },
        "id": "TmgaDht_CMaP",
        "outputId": "afa99c79-1e1a-4da1-f443-898cd8e1c905"
      },
      "source": [
        "df['sentiment'].value_counts().plot.bar(color='green')"
      ],
      "execution_count": 35,
      "outputs": [
        {
          "output_type": "execute_result",
          "data": {
            "text/plain": [
              "<AxesSubplot:>"
            ]
          },
          "metadata": {},
          "execution_count": 35
        },
        {
          "output_type": "display_data",
          "data": {
            "text/plain": "<Figure size 432x288 with 1 Axes>",
            "image/svg+xml": "<?xml version=\"1.0\" encoding=\"utf-8\" standalone=\"no\"?>\r\n<!DOCTYPE svg PUBLIC \"-//W3C//DTD SVG 1.1//EN\"\r\n  \"http://www.w3.org/Graphics/SVG/1.1/DTD/svg11.dtd\">\r\n<!-- Created with matplotlib (https://matplotlib.org/) -->\r\n<svg height=\"245.2025pt\" version=\"1.1\" viewBox=\"0 0 381.65 245.2025\" width=\"381.65pt\" xmlns=\"http://www.w3.org/2000/svg\" xmlns:xlink=\"http://www.w3.org/1999/xlink\">\r\n <metadata>\r\n  <rdf:RDF xmlns:cc=\"http://creativecommons.org/ns#\" xmlns:dc=\"http://purl.org/dc/elements/1.1/\" xmlns:rdf=\"http://www.w3.org/1999/02/22-rdf-syntax-ns#\">\r\n   <cc:Work>\r\n    <dc:type rdf:resource=\"http://purl.org/dc/dcmitype/StillImage\"/>\r\n    <dc:date>2021-01-07T15:16:53.917764</dc:date>\r\n    <dc:format>image/svg+xml</dc:format>\r\n    <dc:creator>\r\n     <cc:Agent>\r\n      <dc:title>Matplotlib v3.3.2, https://matplotlib.org/</dc:title>\r\n     </cc:Agent>\r\n    </dc:creator>\r\n   </cc:Work>\r\n  </rdf:RDF>\r\n </metadata>\r\n <defs>\r\n  <style type=\"text/css\">*{stroke-linecap:butt;stroke-linejoin:round;}</style>\r\n </defs>\r\n <g id=\"figure_1\">\r\n  <g id=\"patch_1\">\r\n   <path d=\"M -0 245.2025 \r\nL 381.65 245.2025 \r\nL 381.65 0 \r\nL -0 0 \r\nz\r\n\" style=\"fill:none;\"/>\r\n  </g>\r\n  <g id=\"axes_1\">\r\n   <g id=\"patch_2\">\r\n    <path d=\"M 39.65 224.64 \r\nL 374.45 224.64 \r\nL 374.45 7.2 \r\nL 39.65 7.2 \r\nz\r\n\" style=\"fill:#ffffff;\"/>\r\n   </g>\r\n   <g id=\"patch_3\">\r\n    <path clip-path=\"url(#pdfe0d0ea86)\" d=\"M 81.5 224.64 \r\nL 165.2 224.64 \r\nL 165.2 17.554286 \r\nL 81.5 17.554286 \r\nz\r\n\" style=\"fill:#008000;\"/>\r\n   </g>\r\n   <g id=\"patch_4\">\r\n    <path clip-path=\"url(#pdfe0d0ea86)\" d=\"M 248.9 224.64 \r\nL 332.6 224.64 \r\nL 332.6 183.255486 \r\nL 248.9 183.255486 \r\nz\r\n\" style=\"fill:#008000;\"/>\r\n   </g>\r\n   <g id=\"matplotlib.axis_1\">\r\n    <g id=\"xtick_1\">\r\n     <g id=\"line2d_1\">\r\n      <defs>\r\n       <path d=\"M 0 0 \r\nL 0 3.5 \r\n\" id=\"m61c152cfca\" style=\"stroke:#000000;stroke-width:0.8;\"/>\r\n      </defs>\r\n      <g>\r\n       <use style=\"stroke:#000000;stroke-width:0.8;\" x=\"123.35\" xlink:href=\"#m61c152cfca\" y=\"224.64\"/>\r\n      </g>\r\n     </g>\r\n     <g id=\"text_1\">\r\n      <!-- 1 -->\r\n      <g transform=\"translate(126.109375 238.0025)rotate(-90)scale(0.1 -0.1)\">\r\n       <defs>\r\n        <path d=\"M 12.40625 8.296875 \r\nL 28.515625 8.296875 \r\nL 28.515625 63.921875 \r\nL 10.984375 60.40625 \r\nL 10.984375 69.390625 \r\nL 28.421875 72.90625 \r\nL 38.28125 72.90625 \r\nL 38.28125 8.296875 \r\nL 54.390625 8.296875 \r\nL 54.390625 0 \r\nL 12.40625 0 \r\nz\r\n\" id=\"DejaVuSans-49\"/>\r\n       </defs>\r\n       <use xlink:href=\"#DejaVuSans-49\"/>\r\n      </g>\r\n     </g>\r\n    </g>\r\n    <g id=\"xtick_2\">\r\n     <g id=\"line2d_2\">\r\n      <g>\r\n       <use style=\"stroke:#000000;stroke-width:0.8;\" x=\"290.75\" xlink:href=\"#m61c152cfca\" y=\"224.64\"/>\r\n      </g>\r\n     </g>\r\n     <g id=\"text_2\">\r\n      <!-- 0 -->\r\n      <g transform=\"translate(293.509375 238.0025)rotate(-90)scale(0.1 -0.1)\">\r\n       <defs>\r\n        <path d=\"M 31.78125 66.40625 \r\nQ 24.171875 66.40625 20.328125 58.90625 \r\nQ 16.5 51.421875 16.5 36.375 \r\nQ 16.5 21.390625 20.328125 13.890625 \r\nQ 24.171875 6.390625 31.78125 6.390625 \r\nQ 39.453125 6.390625 43.28125 13.890625 \r\nQ 47.125 21.390625 47.125 36.375 \r\nQ 47.125 51.421875 43.28125 58.90625 \r\nQ 39.453125 66.40625 31.78125 66.40625 \r\nz\r\nM 31.78125 74.21875 \r\nQ 44.046875 74.21875 50.515625 64.515625 \r\nQ 56.984375 54.828125 56.984375 36.375 \r\nQ 56.984375 17.96875 50.515625 8.265625 \r\nQ 44.046875 -1.421875 31.78125 -1.421875 \r\nQ 19.53125 -1.421875 13.0625 8.265625 \r\nQ 6.59375 17.96875 6.59375 36.375 \r\nQ 6.59375 54.828125 13.0625 64.515625 \r\nQ 19.53125 74.21875 31.78125 74.21875 \r\nz\r\n\" id=\"DejaVuSans-48\"/>\r\n       </defs>\r\n       <use xlink:href=\"#DejaVuSans-48\"/>\r\n      </g>\r\n     </g>\r\n    </g>\r\n   </g>\r\n   <g id=\"matplotlib.axis_2\">\r\n    <g id=\"ytick_1\">\r\n     <g id=\"line2d_3\">\r\n      <defs>\r\n       <path d=\"M 0 0 \r\nL -3.5 0 \r\n\" id=\"m49c6a5505a\" style=\"stroke:#000000;stroke-width:0.8;\"/>\r\n      </defs>\r\n      <g>\r\n       <use style=\"stroke:#000000;stroke-width:0.8;\" x=\"39.65\" xlink:href=\"#m49c6a5505a\" y=\"224.64\"/>\r\n      </g>\r\n     </g>\r\n     <g id=\"text_3\">\r\n      <!-- 0 -->\r\n      <g transform=\"translate(26.2875 228.439219)scale(0.1 -0.1)\">\r\n       <use xlink:href=\"#DejaVuSans-48\"/>\r\n      </g>\r\n     </g>\r\n    </g>\r\n    <g id=\"ytick_2\">\r\n     <g id=\"line2d_4\">\r\n      <g>\r\n       <use style=\"stroke:#000000;stroke-width:0.8;\" x=\"39.65\" xlink:href=\"#m49c6a5505a\" y=\"197.449124\"/>\r\n      </g>\r\n     </g>\r\n     <g id=\"text_4\">\r\n      <!-- 1000 -->\r\n      <g transform=\"translate(7.2 201.248342)scale(0.1 -0.1)\">\r\n       <use xlink:href=\"#DejaVuSans-49\"/>\r\n       <use x=\"63.623047\" xlink:href=\"#DejaVuSans-48\"/>\r\n       <use x=\"127.246094\" xlink:href=\"#DejaVuSans-48\"/>\r\n       <use x=\"190.869141\" xlink:href=\"#DejaVuSans-48\"/>\r\n      </g>\r\n     </g>\r\n    </g>\r\n    <g id=\"ytick_3\">\r\n     <g id=\"line2d_5\">\r\n      <g>\r\n       <use style=\"stroke:#000000;stroke-width:0.8;\" x=\"39.65\" xlink:href=\"#m49c6a5505a\" y=\"170.258247\"/>\r\n      </g>\r\n     </g>\r\n     <g id=\"text_5\">\r\n      <!-- 2000 -->\r\n      <g transform=\"translate(7.2 174.057466)scale(0.1 -0.1)\">\r\n       <defs>\r\n        <path d=\"M 19.1875 8.296875 \r\nL 53.609375 8.296875 \r\nL 53.609375 0 \r\nL 7.328125 0 \r\nL 7.328125 8.296875 \r\nQ 12.9375 14.109375 22.625 23.890625 \r\nQ 32.328125 33.6875 34.8125 36.53125 \r\nQ 39.546875 41.84375 41.421875 45.53125 \r\nQ 43.3125 49.21875 43.3125 52.78125 \r\nQ 43.3125 58.59375 39.234375 62.25 \r\nQ 35.15625 65.921875 28.609375 65.921875 \r\nQ 23.96875 65.921875 18.8125 64.3125 \r\nQ 13.671875 62.703125 7.8125 59.421875 \r\nL 7.8125 69.390625 \r\nQ 13.765625 71.78125 18.9375 73 \r\nQ 24.125 74.21875 28.421875 74.21875 \r\nQ 39.75 74.21875 46.484375 68.546875 \r\nQ 53.21875 62.890625 53.21875 53.421875 \r\nQ 53.21875 48.921875 51.53125 44.890625 \r\nQ 49.859375 40.875 45.40625 35.40625 \r\nQ 44.1875 33.984375 37.640625 27.21875 \r\nQ 31.109375 20.453125 19.1875 8.296875 \r\nz\r\n\" id=\"DejaVuSans-50\"/>\r\n       </defs>\r\n       <use xlink:href=\"#DejaVuSans-50\"/>\r\n       <use x=\"63.623047\" xlink:href=\"#DejaVuSans-48\"/>\r\n       <use x=\"127.246094\" xlink:href=\"#DejaVuSans-48\"/>\r\n       <use x=\"190.869141\" xlink:href=\"#DejaVuSans-48\"/>\r\n      </g>\r\n     </g>\r\n    </g>\r\n    <g id=\"ytick_4\">\r\n     <g id=\"line2d_6\">\r\n      <g>\r\n       <use style=\"stroke:#000000;stroke-width:0.8;\" x=\"39.65\" xlink:href=\"#m49c6a5505a\" y=\"143.067371\"/>\r\n      </g>\r\n     </g>\r\n     <g id=\"text_6\">\r\n      <!-- 3000 -->\r\n      <g transform=\"translate(7.2 146.86659)scale(0.1 -0.1)\">\r\n       <defs>\r\n        <path d=\"M 40.578125 39.3125 \r\nQ 47.65625 37.796875 51.625 33 \r\nQ 55.609375 28.21875 55.609375 21.1875 \r\nQ 55.609375 10.40625 48.1875 4.484375 \r\nQ 40.765625 -1.421875 27.09375 -1.421875 \r\nQ 22.515625 -1.421875 17.65625 -0.515625 \r\nQ 12.796875 0.390625 7.625 2.203125 \r\nL 7.625 11.71875 \r\nQ 11.71875 9.328125 16.59375 8.109375 \r\nQ 21.484375 6.890625 26.8125 6.890625 \r\nQ 36.078125 6.890625 40.9375 10.546875 \r\nQ 45.796875 14.203125 45.796875 21.1875 \r\nQ 45.796875 27.640625 41.28125 31.265625 \r\nQ 36.765625 34.90625 28.71875 34.90625 \r\nL 20.21875 34.90625 \r\nL 20.21875 43.015625 \r\nL 29.109375 43.015625 \r\nQ 36.375 43.015625 40.234375 45.921875 \r\nQ 44.09375 48.828125 44.09375 54.296875 \r\nQ 44.09375 59.90625 40.109375 62.90625 \r\nQ 36.140625 65.921875 28.71875 65.921875 \r\nQ 24.65625 65.921875 20.015625 65.03125 \r\nQ 15.375 64.15625 9.8125 62.3125 \r\nL 9.8125 71.09375 \r\nQ 15.4375 72.65625 20.34375 73.4375 \r\nQ 25.25 74.21875 29.59375 74.21875 \r\nQ 40.828125 74.21875 47.359375 69.109375 \r\nQ 53.90625 64.015625 53.90625 55.328125 \r\nQ 53.90625 49.265625 50.4375 45.09375 \r\nQ 46.96875 40.921875 40.578125 39.3125 \r\nz\r\n\" id=\"DejaVuSans-51\"/>\r\n       </defs>\r\n       <use xlink:href=\"#DejaVuSans-51\"/>\r\n       <use x=\"63.623047\" xlink:href=\"#DejaVuSans-48\"/>\r\n       <use x=\"127.246094\" xlink:href=\"#DejaVuSans-48\"/>\r\n       <use x=\"190.869141\" xlink:href=\"#DejaVuSans-48\"/>\r\n      </g>\r\n     </g>\r\n    </g>\r\n    <g id=\"ytick_5\">\r\n     <g id=\"line2d_7\">\r\n      <g>\r\n       <use style=\"stroke:#000000;stroke-width:0.8;\" x=\"39.65\" xlink:href=\"#m49c6a5505a\" y=\"115.876495\"/>\r\n      </g>\r\n     </g>\r\n     <g id=\"text_7\">\r\n      <!-- 4000 -->\r\n      <g transform=\"translate(7.2 119.675713)scale(0.1 -0.1)\">\r\n       <defs>\r\n        <path d=\"M 37.796875 64.3125 \r\nL 12.890625 25.390625 \r\nL 37.796875 25.390625 \r\nz\r\nM 35.203125 72.90625 \r\nL 47.609375 72.90625 \r\nL 47.609375 25.390625 \r\nL 58.015625 25.390625 \r\nL 58.015625 17.1875 \r\nL 47.609375 17.1875 \r\nL 47.609375 0 \r\nL 37.796875 0 \r\nL 37.796875 17.1875 \r\nL 4.890625 17.1875 \r\nL 4.890625 26.703125 \r\nz\r\n\" id=\"DejaVuSans-52\"/>\r\n       </defs>\r\n       <use xlink:href=\"#DejaVuSans-52\"/>\r\n       <use x=\"63.623047\" xlink:href=\"#DejaVuSans-48\"/>\r\n       <use x=\"127.246094\" xlink:href=\"#DejaVuSans-48\"/>\r\n       <use x=\"190.869141\" xlink:href=\"#DejaVuSans-48\"/>\r\n      </g>\r\n     </g>\r\n    </g>\r\n    <g id=\"ytick_6\">\r\n     <g id=\"line2d_8\">\r\n      <g>\r\n       <use style=\"stroke:#000000;stroke-width:0.8;\" x=\"39.65\" xlink:href=\"#m49c6a5505a\" y=\"88.685618\"/>\r\n      </g>\r\n     </g>\r\n     <g id=\"text_8\">\r\n      <!-- 5000 -->\r\n      <g transform=\"translate(7.2 92.484837)scale(0.1 -0.1)\">\r\n       <defs>\r\n        <path d=\"M 10.796875 72.90625 \r\nL 49.515625 72.90625 \r\nL 49.515625 64.59375 \r\nL 19.828125 64.59375 \r\nL 19.828125 46.734375 \r\nQ 21.96875 47.46875 24.109375 47.828125 \r\nQ 26.265625 48.1875 28.421875 48.1875 \r\nQ 40.625 48.1875 47.75 41.5 \r\nQ 54.890625 34.8125 54.890625 23.390625 \r\nQ 54.890625 11.625 47.5625 5.09375 \r\nQ 40.234375 -1.421875 26.90625 -1.421875 \r\nQ 22.3125 -1.421875 17.546875 -0.640625 \r\nQ 12.796875 0.140625 7.71875 1.703125 \r\nL 7.71875 11.625 \r\nQ 12.109375 9.234375 16.796875 8.0625 \r\nQ 21.484375 6.890625 26.703125 6.890625 \r\nQ 35.15625 6.890625 40.078125 11.328125 \r\nQ 45.015625 15.765625 45.015625 23.390625 \r\nQ 45.015625 31 40.078125 35.4375 \r\nQ 35.15625 39.890625 26.703125 39.890625 \r\nQ 22.75 39.890625 18.8125 39.015625 \r\nQ 14.890625 38.140625 10.796875 36.28125 \r\nz\r\n\" id=\"DejaVuSans-53\"/>\r\n       </defs>\r\n       <use xlink:href=\"#DejaVuSans-53\"/>\r\n       <use x=\"63.623047\" xlink:href=\"#DejaVuSans-48\"/>\r\n       <use x=\"127.246094\" xlink:href=\"#DejaVuSans-48\"/>\r\n       <use x=\"190.869141\" xlink:href=\"#DejaVuSans-48\"/>\r\n      </g>\r\n     </g>\r\n    </g>\r\n    <g id=\"ytick_7\">\r\n     <g id=\"line2d_9\">\r\n      <g>\r\n       <use style=\"stroke:#000000;stroke-width:0.8;\" x=\"39.65\" xlink:href=\"#m49c6a5505a\" y=\"61.494742\"/>\r\n      </g>\r\n     </g>\r\n     <g id=\"text_9\">\r\n      <!-- 6000 -->\r\n      <g transform=\"translate(7.2 65.293961)scale(0.1 -0.1)\">\r\n       <defs>\r\n        <path d=\"M 33.015625 40.375 \r\nQ 26.375 40.375 22.484375 35.828125 \r\nQ 18.609375 31.296875 18.609375 23.390625 \r\nQ 18.609375 15.53125 22.484375 10.953125 \r\nQ 26.375 6.390625 33.015625 6.390625 \r\nQ 39.65625 6.390625 43.53125 10.953125 \r\nQ 47.40625 15.53125 47.40625 23.390625 \r\nQ 47.40625 31.296875 43.53125 35.828125 \r\nQ 39.65625 40.375 33.015625 40.375 \r\nz\r\nM 52.59375 71.296875 \r\nL 52.59375 62.3125 \r\nQ 48.875 64.0625 45.09375 64.984375 \r\nQ 41.3125 65.921875 37.59375 65.921875 \r\nQ 27.828125 65.921875 22.671875 59.328125 \r\nQ 17.53125 52.734375 16.796875 39.40625 \r\nQ 19.671875 43.65625 24.015625 45.921875 \r\nQ 28.375 48.1875 33.59375 48.1875 \r\nQ 44.578125 48.1875 50.953125 41.515625 \r\nQ 57.328125 34.859375 57.328125 23.390625 \r\nQ 57.328125 12.15625 50.6875 5.359375 \r\nQ 44.046875 -1.421875 33.015625 -1.421875 \r\nQ 20.359375 -1.421875 13.671875 8.265625 \r\nQ 6.984375 17.96875 6.984375 36.375 \r\nQ 6.984375 53.65625 15.1875 63.9375 \r\nQ 23.390625 74.21875 37.203125 74.21875 \r\nQ 40.921875 74.21875 44.703125 73.484375 \r\nQ 48.484375 72.75 52.59375 71.296875 \r\nz\r\n\" id=\"DejaVuSans-54\"/>\r\n       </defs>\r\n       <use xlink:href=\"#DejaVuSans-54\"/>\r\n       <use x=\"63.623047\" xlink:href=\"#DejaVuSans-48\"/>\r\n       <use x=\"127.246094\" xlink:href=\"#DejaVuSans-48\"/>\r\n       <use x=\"190.869141\" xlink:href=\"#DejaVuSans-48\"/>\r\n      </g>\r\n     </g>\r\n    </g>\r\n    <g id=\"ytick_8\">\r\n     <g id=\"line2d_10\">\r\n      <g>\r\n       <use style=\"stroke:#000000;stroke-width:0.8;\" x=\"39.65\" xlink:href=\"#m49c6a5505a\" y=\"34.303866\"/>\r\n      </g>\r\n     </g>\r\n     <g id=\"text_10\">\r\n      <!-- 7000 -->\r\n      <g transform=\"translate(7.2 38.103084)scale(0.1 -0.1)\">\r\n       <defs>\r\n        <path d=\"M 8.203125 72.90625 \r\nL 55.078125 72.90625 \r\nL 55.078125 68.703125 \r\nL 28.609375 0 \r\nL 18.3125 0 \r\nL 43.21875 64.59375 \r\nL 8.203125 64.59375 \r\nz\r\n\" id=\"DejaVuSans-55\"/>\r\n       </defs>\r\n       <use xlink:href=\"#DejaVuSans-55\"/>\r\n       <use x=\"63.623047\" xlink:href=\"#DejaVuSans-48\"/>\r\n       <use x=\"127.246094\" xlink:href=\"#DejaVuSans-48\"/>\r\n       <use x=\"190.869141\" xlink:href=\"#DejaVuSans-48\"/>\r\n      </g>\r\n     </g>\r\n    </g>\r\n   </g>\r\n   <g id=\"patch_5\">\r\n    <path d=\"M 39.65 224.64 \r\nL 39.65 7.2 \r\n\" style=\"fill:none;stroke:#000000;stroke-linecap:square;stroke-linejoin:miter;stroke-width:0.8;\"/>\r\n   </g>\r\n   <g id=\"patch_6\">\r\n    <path d=\"M 374.45 224.64 \r\nL 374.45 7.2 \r\n\" style=\"fill:none;stroke:#000000;stroke-linecap:square;stroke-linejoin:miter;stroke-width:0.8;\"/>\r\n   </g>\r\n   <g id=\"patch_7\">\r\n    <path d=\"M 39.65 224.64 \r\nL 374.45 224.64 \r\n\" style=\"fill:none;stroke:#000000;stroke-linecap:square;stroke-linejoin:miter;stroke-width:0.8;\"/>\r\n   </g>\r\n   <g id=\"patch_8\">\r\n    <path d=\"M 39.65 7.2 \r\nL 374.45 7.2 \r\n\" style=\"fill:none;stroke:#000000;stroke-linecap:square;stroke-linejoin:miter;stroke-width:0.8;\"/>\r\n   </g>\r\n  </g>\r\n </g>\r\n <defs>\r\n  <clipPath id=\"pdfe0d0ea86\">\r\n   <rect height=\"217.44\" width=\"334.8\" x=\"39.65\" y=\"7.2\"/>\r\n  </clipPath>\r\n </defs>\r\n</svg>\r\n",
            "image/png": "[encoded data removed]"
          },
          "metadata": {
            "needs_background": "light"
          }
        }
      ]
    },
    {
      "cell_type": "markdown",
      "metadata": {
        "id": "L531vTaHCMaQ"
      },
      "source": [
        "### Observation\n",
        "- too many positive reviews\n",
        "- data is imbalanced\n"
      ]
    },
    {
      "cell_type": "markdown",
      "metadata": {
        "id": "p4-ladoiCMaQ"
      },
      "source": [
        "## Text Preprocessing\n",
        "- converting to lower case\n",
        "- removing html tags\n",
        "- removing special characters\n",
        "- remove words which have numbers in them\n",
        "- Removing stop words\n",
        "- stemming and lemmatization"
      ]
    },
    {
      "cell_type": "code",
      "metadata": {
        "trusted": true,
        "colab": {
          "base_uri": "https://localhost:8080/"
        },
        "id": "I7-FqrNPCMaR",
        "outputId": "bf1c10ff-45ed-4078-dc6e-f2ccc0198db4"
      },
      "source": [
        "# converting to lower case\n",
        "df['Text'] = df['Text'].str.lower()\n",
        "df['Text'].head()"
      ],
      "execution_count": 36,
      "outputs": [
        {
          "output_type": "execute_result",
          "data": {
            "text/plain": [
              "0    i have bought several of the vitality canned d...\n",
              "1    product arrived labeled as jumbo salted peanut...\n",
              "2    this is a confection that has been around a fe...\n",
              "3    if you are looking for the secret ingredient i...\n",
              "4    great taffy at a great price.  there was a wid...\n",
              "Name: Text, dtype: object"
            ]
          },
          "metadata": {},
          "execution_count": 36
        }
      ]
    },
    {
      "cell_type": "code",
      "metadata": {
        "trusted": true,
        "id": "3lkoJb-BCMaR"
      },
      "source": [
        "# https://stackoverflow.com/questions/11331982/how-to-remove-any-url-within-a-string-in-python/40823105#40823105\n",
        "def remove_URL(text):\n",
        "    \"\"\"Remove URLs from a text string\"\"\"\n",
        "    return re.sub(r\"http\\S+\", \"\", text)"
      ],
      "execution_count": 37,
      "outputs": []
    },
    {
      "cell_type": "code",
      "metadata": {
        "trusted": true,
        "colab": {
          "base_uri": "https://localhost:8080/",
          "height": 583
        },
        "id": "yCINutKKCMaR",
        "outputId": "d39a4926-3b9e-455b-d1e5-393c633da060"
      },
      "source": [
        "# removing any urls from the review text\n",
        "df['Text'] = df['Text'].apply(lambda x: remove_URL(x))\n",
        "df.head()"
      ],
      "execution_count": 38,
      "outputs": [
        {
          "output_type": "execute_result",
          "data": {
            "text/plain": [
              "    ProductId          UserId                      ProfileName  \\\n",
              "0  B001E4KFG0  A3SGXH7AUHU8GW                       delmartian   \n",
              "1  B00813GRG4  A1D87F6ZCVE5NK                           dll pa   \n",
              "2  B000LQOCH0   ABXLMWJIXXAIN  Natalia Corres \"Natalia Corres\"   \n",
              "3  B000UA0QIQ  A395BORC6FGVXV                             Karl   \n",
              "4  B006K2ZZ7K  A1UQRSCLF8GW1T    Michael D. Bigham \"M. Wassir\"   \n",
              "\n",
              "   HelpfulnessNumerator  HelpfulnessDenominator  Score        Time  \\\n",
              "0                     1                       1      5  1303862400   \n",
              "1                     0                       0      1  1346976000   \n",
              "2                     1                       1      4  1219017600   \n",
              "3                     3                       3      2  1307923200   \n",
              "4                     0                       0      5  1350777600   \n",
              "\n",
              "                 Summary                                               Text  \\\n",
              "0  Good Quality Dog Food  i have bought several of the vitality canned d...   \n",
              "1      Not as Advertised  product arrived labeled as jumbo salted peanut...   \n",
              "2  \"Delight\" says it all  this is a confection that has been around a fe...   \n",
              "3         Cough Medicine  if you are looking for the secret ingredient i...   \n",
              "4            Great taffy  great taffy at a great price.  there was a wid...   \n",
              "\n",
              "   sentiment  \n",
              "0          1  \n",
              "1          0  \n",
              "2          1  \n",
              "3          0  \n",
              "4          1  "
            ],
            "text/html": "<div>\n<style scoped>\n    .dataframe tbody tr th:only-of-type {\n        vertical-align: middle;\n    }\n\n    .dataframe tbody tr th {\n        vertical-align: top;\n    }\n\n    .dataframe thead th {\n        text-align: right;\n    }\n</style>\n<table border=\"1\" class=\"dataframe\">\n  <thead>\n    <tr style=\"text-align: right;\">\n      <th></th>\n      <th>ProductId</th>\n      <th>UserId</th>\n      <th>ProfileName</th>\n      <th>HelpfulnessNumerator</th>\n      <th>HelpfulnessDenominator</th>\n      <th>Score</th>\n      <th>Time</th>\n      <th>Summary</th>\n      <th>Text</th>\n      <th>sentiment</th>\n    </tr>\n  </thead>\n  <tbody>\n    <tr>\n      <th>0</th>\n      <td>B001E4KFG0</td>\n      <td>A3SGXH7AUHU8GW</td>\n      <td>delmartian</td>\n      <td>1</td>\n      <td>1</td>\n      <td>5</td>\n      <td>1303862400</td>\n      <td>Good Quality Dog Food</td>\n      <td>i have bought several of the vitality canned d...</td>\n      <td>1</td>\n    </tr>\n    <tr>\n      <th>1</th>\n      <td>B00813GRG4</td>\n      <td>A1D87F6ZCVE5NK</td>\n      <td>dll pa</td>\n      <td>0</td>\n      <td>0</td>\n      <td>1</td>\n      <td>1346976000</td>\n      <td>Not as Advertised</td>\n      <td>product arrived labeled as jumbo salted peanut...</td>\n      <td>0</td>\n    </tr>\n    <tr>\n      <th>2</th>\n      <td>B000LQOCH0</td>\n      <td>ABXLMWJIXXAIN</td>\n      <td>Natalia Corres \"Natalia Corres\"</td>\n      <td>1</td>\n      <td>1</td>\n      <td>4</td>\n      <td>1219017600</td>\n      <td>\"Delight\" says it all</td>\n      <td>this is a confection that has been around a fe...</td>\n      <td>1</td>\n    </tr>\n    <tr>\n      <th>3</th>\n      <td>B000UA0QIQ</td>\n      <td>A395BORC6FGVXV</td>\n      <td>Karl</td>\n      <td>3</td>\n      <td>3</td>\n      <td>2</td>\n      <td>1307923200</td>\n      <td>Cough Medicine</td>\n      <td>if you are looking for the secret ingredient i...</td>\n      <td>0</td>\n    </tr>\n    <tr>\n      <th>4</th>\n      <td>B006K2ZZ7K</td>\n      <td>A1UQRSCLF8GW1T</td>\n      <td>Michael D. Bigham \"M. Wassir\"</td>\n      <td>0</td>\n      <td>0</td>\n      <td>5</td>\n      <td>1350777600</td>\n      <td>Great taffy</td>\n      <td>great taffy at a great price.  there was a wid...</td>\n      <td>1</td>\n    </tr>\n  </tbody>\n</table>\n</div>"
          },
          "metadata": {},
          "execution_count": 38
        }
      ]
    },
    {
      "cell_type": "code",
      "metadata": {
        "trusted": true,
        "id": "k3BLQWTkCMaS"
      },
      "source": [
        "# https://stackoverflow.com/questions/16206380/python-beautifulsoup-how-to-remove-all-tags-from-an-element\n",
        "def getText(x):\n",
        "    # soup = BeautifulSoup(x, 'lxml')\n",
        "    soup = BeautifulSoup(x)\n",
        "    text = soup.get_text()\n",
        "    return text"
      ],
      "execution_count": 43,
      "outputs": []
    },
    {
      "cell_type": "code",
      "metadata": {
        "trusted": true,
        "colab": {
          "base_uri": "https://localhost:8080/",
          "height": 583
        },
        "id": "kivuN7zMCMaS",
        "outputId": "3c6026fb-b5ac-4d43-c13a-64a25deeb7ff"
      },
      "source": [
        "# removing any tags present\n",
        "df['Text'] = df['Text'].apply(lambda x: getText(x))\n",
        "df.head()"
      ],
      "execution_count": 44,
      "outputs": [
        {
          "output_type": "execute_result",
          "data": {
            "text/plain": [
              "    ProductId          UserId                      ProfileName  \\\n",
              "0  B001E4KFG0  A3SGXH7AUHU8GW                       delmartian   \n",
              "1  B00813GRG4  A1D87F6ZCVE5NK                           dll pa   \n",
              "2  B000LQOCH0   ABXLMWJIXXAIN  Natalia Corres \"Natalia Corres\"   \n",
              "3  B000UA0QIQ  A395BORC6FGVXV                             Karl   \n",
              "4  B006K2ZZ7K  A1UQRSCLF8GW1T    Michael D. Bigham \"M. Wassir\"   \n",
              "\n",
              "   HelpfulnessNumerator  HelpfulnessDenominator  Score        Time  \\\n",
              "0                     1                       1      5  1303862400   \n",
              "1                     0                       0      1  1346976000   \n",
              "2                     1                       1      4  1219017600   \n",
              "3                     3                       3      2  1307923200   \n",
              "4                     0                       0      5  1350777600   \n",
              "\n",
              "                 Summary                                               Text  \\\n",
              "0  Good Quality Dog Food  i have bought several of the vitality canned d...   \n",
              "1      Not as Advertised  product arrived labeled as jumbo salted peanut...   \n",
              "2  \"Delight\" says it all  this is a confection that has been around a fe...   \n",
              "3         Cough Medicine  if you are looking for the secret ingredient i...   \n",
              "4            Great taffy  great taffy at a great price.  there was a wid...   \n",
              "\n",
              "   sentiment  \n",
              "0          1  \n",
              "1          0  \n",
              "2          1  \n",
              "3          0  \n",
              "4          1  "
            ],
            "text/html": "<div>\n<style scoped>\n    .dataframe tbody tr th:only-of-type {\n        vertical-align: middle;\n    }\n\n    .dataframe tbody tr th {\n        vertical-align: top;\n    }\n\n    .dataframe thead th {\n        text-align: right;\n    }\n</style>\n<table border=\"1\" class=\"dataframe\">\n  <thead>\n    <tr style=\"text-align: right;\">\n      <th></th>\n      <th>ProductId</th>\n      <th>UserId</th>\n      <th>ProfileName</th>\n      <th>HelpfulnessNumerator</th>\n      <th>HelpfulnessDenominator</th>\n      <th>Score</th>\n      <th>Time</th>\n      <th>Summary</th>\n      <th>Text</th>\n      <th>sentiment</th>\n    </tr>\n  </thead>\n  <tbody>\n    <tr>\n      <th>0</th>\n      <td>B001E4KFG0</td>\n      <td>A3SGXH7AUHU8GW</td>\n      <td>delmartian</td>\n      <td>1</td>\n      <td>1</td>\n      <td>5</td>\n      <td>1303862400</td>\n      <td>Good Quality Dog Food</td>\n      <td>i have bought several of the vitality canned d...</td>\n      <td>1</td>\n    </tr>\n    <tr>\n      <th>1</th>\n      <td>B00813GRG4</td>\n      <td>A1D87F6ZCVE5NK</td>\n      <td>dll pa</td>\n      <td>0</td>\n      <td>0</td>\n      <td>1</td>\n      <td>1346976000</td>\n      <td>Not as Advertised</td>\n      <td>product arrived labeled as jumbo salted peanut...</td>\n      <td>0</td>\n    </tr>\n    <tr>\n      <th>2</th>\n      <td>B000LQOCH0</td>\n      <td>ABXLMWJIXXAIN</td>\n      <td>Natalia Corres \"Natalia Corres\"</td>\n      <td>1</td>\n      <td>1</td>\n      <td>4</td>\n      <td>1219017600</td>\n      <td>\"Delight\" says it all</td>\n      <td>this is a confection that has been around a fe...</td>\n      <td>1</td>\n    </tr>\n    <tr>\n      <th>3</th>\n      <td>B000UA0QIQ</td>\n      <td>A395BORC6FGVXV</td>\n      <td>Karl</td>\n      <td>3</td>\n      <td>3</td>\n      <td>2</td>\n      <td>1307923200</td>\n      <td>Cough Medicine</td>\n      <td>if you are looking for the secret ingredient i...</td>\n      <td>0</td>\n    </tr>\n    <tr>\n      <th>4</th>\n      <td>B006K2ZZ7K</td>\n      <td>A1UQRSCLF8GW1T</td>\n      <td>Michael D. Bigham \"M. Wassir\"</td>\n      <td>0</td>\n      <td>0</td>\n      <td>5</td>\n      <td>1350777600</td>\n      <td>Great taffy</td>\n      <td>great taffy at a great price.  there was a wid...</td>\n      <td>1</td>\n    </tr>\n  </tbody>\n</table>\n</div>"
          },
          "metadata": {},
          "execution_count": 44
        }
      ]
    },
    {
      "cell_type": "code",
      "metadata": {
        "trusted": true,
        "id": "TiaVkinnCMaS"
      },
      "source": [
        "# removing special characters\n",
        "def remove_spl(x):\n",
        "    x = re.sub('[^A-Za-z0-9]+', ' ', x)\n",
        "    return x"
      ],
      "execution_count": 45,
      "outputs": []
    },
    {
      "cell_type": "code",
      "metadata": {
        "trusted": true,
        "colab": {
          "base_uri": "https://localhost:8080/",
          "height": 583
        },
        "id": "VW-gv0fmCMaS",
        "outputId": "55035904-971c-46a7-eef0-2e8ff7046d77"
      },
      "source": [
        "# removing special characters from the review text\n",
        "df['Text'] = df['Text'].apply(lambda x: remove_spl(x))\n",
        "df.head()"
      ],
      "execution_count": 46,
      "outputs": [
        {
          "output_type": "execute_result",
          "data": {
            "text/plain": [
              "    ProductId          UserId                      ProfileName  \\\n",
              "0  B001E4KFG0  A3SGXH7AUHU8GW                       delmartian   \n",
              "1  B00813GRG4  A1D87F6ZCVE5NK                           dll pa   \n",
              "2  B000LQOCH0   ABXLMWJIXXAIN  Natalia Corres \"Natalia Corres\"   \n",
              "3  B000UA0QIQ  A395BORC6FGVXV                             Karl   \n",
              "4  B006K2ZZ7K  A1UQRSCLF8GW1T    Michael D. Bigham \"M. Wassir\"   \n",
              "\n",
              "   HelpfulnessNumerator  HelpfulnessDenominator  Score        Time  \\\n",
              "0                     1                       1      5  1303862400   \n",
              "1                     0                       0      1  1346976000   \n",
              "2                     1                       1      4  1219017600   \n",
              "3                     3                       3      2  1307923200   \n",
              "4                     0                       0      5  1350777600   \n",
              "\n",
              "                 Summary                                               Text  \\\n",
              "0  Good Quality Dog Food  i have bought several of the vitality canned d...   \n",
              "1      Not as Advertised  product arrived labeled as jumbo salted peanut...   \n",
              "2  \"Delight\" says it all  this is a confection that has been around a fe...   \n",
              "3         Cough Medicine  if you are looking for the secret ingredient i...   \n",
              "4            Great taffy  great taffy at a great price there was a wide ...   \n",
              "\n",
              "   sentiment  \n",
              "0          1  \n",
              "1          0  \n",
              "2          1  \n",
              "3          0  \n",
              "4          1  "
            ],
            "text/html": "<div>\n<style scoped>\n    .dataframe tbody tr th:only-of-type {\n        vertical-align: middle;\n    }\n\n    .dataframe tbody tr th {\n        vertical-align: top;\n    }\n\n    .dataframe thead th {\n        text-align: right;\n    }\n</style>\n<table border=\"1\" class=\"dataframe\">\n  <thead>\n    <tr style=\"text-align: right;\">\n      <th></th>\n      <th>ProductId</th>\n      <th>UserId</th>\n      <th>ProfileName</th>\n      <th>HelpfulnessNumerator</th>\n      <th>HelpfulnessDenominator</th>\n      <th>Score</th>\n      <th>Time</th>\n      <th>Summary</th>\n      <th>Text</th>\n      <th>sentiment</th>\n    </tr>\n  </thead>\n  <tbody>\n    <tr>\n      <th>0</th>\n      <td>B001E4KFG0</td>\n      <td>A3SGXH7AUHU8GW</td>\n      <td>delmartian</td>\n      <td>1</td>\n      <td>1</td>\n      <td>5</td>\n      <td>1303862400</td>\n      <td>Good Quality Dog Food</td>\n      <td>i have bought several of the vitality canned d...</td>\n      <td>1</td>\n    </tr>\n    <tr>\n      <th>1</th>\n      <td>B00813GRG4</td>\n      <td>A1D87F6ZCVE5NK</td>\n      <td>dll pa</td>\n      <td>0</td>\n      <td>0</td>\n      <td>1</td>\n      <td>1346976000</td>\n      <td>Not as Advertised</td>\n      <td>product arrived labeled as jumbo salted peanut...</td>\n      <td>0</td>\n    </tr>\n    <tr>\n      <th>2</th>\n      <td>B000LQOCH0</td>\n      <td>ABXLMWJIXXAIN</td>\n      <td>Natalia Corres \"Natalia Corres\"</td>\n      <td>1</td>\n      <td>1</td>\n      <td>4</td>\n      <td>1219017600</td>\n      <td>\"Delight\" says it all</td>\n      <td>this is a confection that has been around a fe...</td>\n      <td>1</td>\n    </tr>\n    <tr>\n      <th>3</th>\n      <td>B000UA0QIQ</td>\n      <td>A395BORC6FGVXV</td>\n      <td>Karl</td>\n      <td>3</td>\n      <td>3</td>\n      <td>2</td>\n      <td>1307923200</td>\n      <td>Cough Medicine</td>\n      <td>if you are looking for the secret ingredient i...</td>\n      <td>0</td>\n    </tr>\n    <tr>\n      <th>4</th>\n      <td>B006K2ZZ7K</td>\n      <td>A1UQRSCLF8GW1T</td>\n      <td>Michael D. Bigham \"M. Wassir\"</td>\n      <td>0</td>\n      <td>0</td>\n      <td>5</td>\n      <td>1350777600</td>\n      <td>Great taffy</td>\n      <td>great taffy at a great price there was a wide ...</td>\n      <td>1</td>\n    </tr>\n  </tbody>\n</table>\n</div>"
          },
          "metadata": {},
          "execution_count": 46
        }
      ]
    },
    {
      "cell_type": "code",
      "metadata": {
        "trusted": true,
        "colab": {
          "base_uri": "https://localhost:8080/",
          "height": 53
        },
        "id": "Rn2jpwmbCMaT",
        "outputId": "6cdf8035-e57c-4358-d754-198c29851895"
      },
      "source": [
        "df.iloc[0].Text"
      ],
      "execution_count": 47,
      "outputs": [
        {
          "output_type": "execute_result",
          "data": {
            "text/plain": [
              "'i have bought several of the vitality canned dog food products and have found them all to be of good quality the product looks more like a stew than a processed meat and it smells better my labrador is finicky and she appreciates this product better than most '"
            ]
          },
          "metadata": {},
          "execution_count": 47
        }
      ]
    },
    {
      "cell_type": "markdown",
      "metadata": {
        "id": "xSMNGiq1CMaT"
      },
      "source": [
        "#### remove words which have numbers in them\n",
        "eg: amazi646g hello46747**"
      ]
    },
    {
      "cell_type": "code",
      "metadata": {
        "trusted": true,
        "id": "eDcxMcM-CMaT"
      },
      "source": [
        "def remove_num_words(x):\n",
        "    x = re.sub('\\w*\\d\\w*', ' ', x)\n",
        "    return x"
      ],
      "execution_count": 48,
      "outputs": []
    },
    {
      "cell_type": "code",
      "metadata": {
        "trusted": true,
        "colab": {
          "base_uri": "https://localhost:8080/",
          "height": 583
        },
        "id": "ttvFujCxCMaU",
        "outputId": "15616161-9916-420b-9911-0319ae0919ec"
      },
      "source": [
        "# removing words having numbers in them\n",
        "df['Text'] = df['Text'].apply(lambda x: remove_num_words(x))\n",
        "df.head()"
      ],
      "execution_count": 49,
      "outputs": [
        {
          "output_type": "execute_result",
          "data": {
            "text/plain": [
              "    ProductId          UserId                      ProfileName  \\\n",
              "0  B001E4KFG0  A3SGXH7AUHU8GW                       delmartian   \n",
              "1  B00813GRG4  A1D87F6ZCVE5NK                           dll pa   \n",
              "2  B000LQOCH0   ABXLMWJIXXAIN  Natalia Corres \"Natalia Corres\"   \n",
              "3  B000UA0QIQ  A395BORC6FGVXV                             Karl   \n",
              "4  B006K2ZZ7K  A1UQRSCLF8GW1T    Michael D. Bigham \"M. Wassir\"   \n",
              "\n",
              "   HelpfulnessNumerator  HelpfulnessDenominator  Score        Time  \\\n",
              "0                     1                       1      5  1303862400   \n",
              "1                     0                       0      1  1346976000   \n",
              "2                     1                       1      4  1219017600   \n",
              "3                     3                       3      2  1307923200   \n",
              "4                     0                       0      5  1350777600   \n",
              "\n",
              "                 Summary                                               Text  \\\n",
              "0  Good Quality Dog Food  i have bought several of the vitality canned d...   \n",
              "1      Not as Advertised  product arrived labeled as jumbo salted peanut...   \n",
              "2  \"Delight\" says it all  this is a confection that has been around a fe...   \n",
              "3         Cough Medicine  if you are looking for the secret ingredient i...   \n",
              "4            Great taffy  great taffy at a great price there was a wide ...   \n",
              "\n",
              "   sentiment  \n",
              "0          1  \n",
              "1          0  \n",
              "2          1  \n",
              "3          0  \n",
              "4          1  "
            ],
            "text/html": "<div>\n<style scoped>\n    .dataframe tbody tr th:only-of-type {\n        vertical-align: middle;\n    }\n\n    .dataframe tbody tr th {\n        vertical-align: top;\n    }\n\n    .dataframe thead th {\n        text-align: right;\n    }\n</style>\n<table border=\"1\" class=\"dataframe\">\n  <thead>\n    <tr style=\"text-align: right;\">\n      <th></th>\n      <th>ProductId</th>\n      <th>UserId</th>\n      <th>ProfileName</th>\n      <th>HelpfulnessNumerator</th>\n      <th>HelpfulnessDenominator</th>\n      <th>Score</th>\n      <th>Time</th>\n      <th>Summary</th>\n      <th>Text</th>\n      <th>sentiment</th>\n    </tr>\n  </thead>\n  <tbody>\n    <tr>\n      <th>0</th>\n      <td>B001E4KFG0</td>\n      <td>A3SGXH7AUHU8GW</td>\n      <td>delmartian</td>\n      <td>1</td>\n      <td>1</td>\n      <td>5</td>\n      <td>1303862400</td>\n      <td>Good Quality Dog Food</td>\n      <td>i have bought several of the vitality canned d...</td>\n      <td>1</td>\n    </tr>\n    <tr>\n      <th>1</th>\n      <td>B00813GRG4</td>\n      <td>A1D87F6ZCVE5NK</td>\n      <td>dll pa</td>\n      <td>0</td>\n      <td>0</td>\n      <td>1</td>\n      <td>1346976000</td>\n      <td>Not as Advertised</td>\n      <td>product arrived labeled as jumbo salted peanut...</td>\n      <td>0</td>\n    </tr>\n    <tr>\n      <th>2</th>\n      <td>B000LQOCH0</td>\n      <td>ABXLMWJIXXAIN</td>\n      <td>Natalia Corres \"Natalia Corres\"</td>\n      <td>1</td>\n      <td>1</td>\n      <td>4</td>\n      <td>1219017600</td>\n      <td>\"Delight\" says it all</td>\n      <td>this is a confection that has been around a fe...</td>\n      <td>1</td>\n    </tr>\n    <tr>\n      <th>3</th>\n      <td>B000UA0QIQ</td>\n      <td>A395BORC6FGVXV</td>\n      <td>Karl</td>\n      <td>3</td>\n      <td>3</td>\n      <td>2</td>\n      <td>1307923200</td>\n      <td>Cough Medicine</td>\n      <td>if you are looking for the secret ingredient i...</td>\n      <td>0</td>\n    </tr>\n    <tr>\n      <th>4</th>\n      <td>B006K2ZZ7K</td>\n      <td>A1UQRSCLF8GW1T</td>\n      <td>Michael D. Bigham \"M. Wassir\"</td>\n      <td>0</td>\n      <td>0</td>\n      <td>5</td>\n      <td>1350777600</td>\n      <td>Great taffy</td>\n      <td>great taffy at a great price there was a wide ...</td>\n      <td>1</td>\n    </tr>\n  </tbody>\n</table>\n</div>"
          },
          "metadata": {},
          "execution_count": 49
        }
      ]
    },
    {
      "cell_type": "markdown",
      "metadata": {
        "id": "_4NzoVmICMaU"
      },
      "source": [
        "#### lets pickle the cleaned data before proceeding and applying word tokenizer\n",
        "- https://pandas.pydata.org/pandas-docs/stable/reference/api/pandas.DataFrame.to_pickle.html"
      ]
    },
    {
      "cell_type": "code",
      "metadata": {
        "trusted": true,
        "id": "MW8Xk-BVCMaU"
      },
      "source": [
        "df.to_pickle('data_clean.pkl')"
      ],
      "execution_count": 50,
      "outputs": []
    },
    {
      "cell_type": "code",
      "metadata": {
        "trusted": true,
        "colab": {
          "base_uri": "https://localhost:8080/",
          "height": 583
        },
        "id": "OTbksDOsCMaU",
        "outputId": "10ab759e-8ea6-4fdc-dc30-4b467f924a78"
      },
      "source": [
        "df = pd.read_pickle('data_clean.pkl')\n",
        "df.head()"
      ],
      "execution_count": 43,
      "outputs": [
        {
          "output_type": "execute_result",
          "data": {
            "text/html": [
              "<div>\n",
              "<style scoped>\n",
              "    .dataframe tbody tr th:only-of-type {\n",
              "        vertical-align: middle;\n",
              "    }\n",
              "\n",
              "    .dataframe tbody tr th {\n",
              "        vertical-align: top;\n",
              "    }\n",
              "\n",
              "    .dataframe thead th {\n",
              "        text-align: right;\n",
              "    }\n",
              "</style>\n",
              "<table border=\"1\" class=\"dataframe\">\n",
              "  <thead>\n",
              "    <tr style=\"text-align: right;\">\n",
              "      <th></th>\n",
              "      <th>Id</th>\n",
              "      <th>ProductId</th>\n",
              "      <th>UserId</th>\n",
              "      <th>ProfileName</th>\n",
              "      <th>HelpfulnessNumerator</th>\n",
              "      <th>HelpfulnessDenominator</th>\n",
              "      <th>Score</th>\n",
              "      <th>Time</th>\n",
              "      <th>Summary</th>\n",
              "      <th>Text</th>\n",
              "      <th>sentiment</th>\n",
              "    </tr>\n",
              "  </thead>\n",
              "  <tbody>\n",
              "    <tr>\n",
              "      <th>0</th>\n",
              "      <td>1</td>\n",
              "      <td>B001E4KFG0</td>\n",
              "      <td>A3SGXH7AUHU8GW</td>\n",
              "      <td>delmartian</td>\n",
              "      <td>1</td>\n",
              "      <td>1</td>\n",
              "      <td>5</td>\n",
              "      <td>1303862400</td>\n",
              "      <td>Good Quality Dog Food</td>\n",
              "      <td>i have bought several of the vitality canned d...</td>\n",
              "      <td>1</td>\n",
              "    </tr>\n",
              "    <tr>\n",
              "      <th>1</th>\n",
              "      <td>2</td>\n",
              "      <td>B00813GRG4</td>\n",
              "      <td>A1D87F6ZCVE5NK</td>\n",
              "      <td>dll pa</td>\n",
              "      <td>0</td>\n",
              "      <td>0</td>\n",
              "      <td>1</td>\n",
              "      <td>1346976000</td>\n",
              "      <td>Not as Advertised</td>\n",
              "      <td>product arrived labeled as jumbo salted peanut...</td>\n",
              "      <td>0</td>\n",
              "    </tr>\n",
              "    <tr>\n",
              "      <th>2</th>\n",
              "      <td>3</td>\n",
              "      <td>B000LQOCH0</td>\n",
              "      <td>ABXLMWJIXXAIN</td>\n",
              "      <td>Natalia Corres \"Natalia Corres\"</td>\n",
              "      <td>1</td>\n",
              "      <td>1</td>\n",
              "      <td>4</td>\n",
              "      <td>1219017600</td>\n",
              "      <td>\"Delight\" says it all</td>\n",
              "      <td>this is a confection that has been around a fe...</td>\n",
              "      <td>1</td>\n",
              "    </tr>\n",
              "    <tr>\n",
              "      <th>3</th>\n",
              "      <td>4</td>\n",
              "      <td>B000UA0QIQ</td>\n",
              "      <td>A395BORC6FGVXV</td>\n",
              "      <td>Karl</td>\n",
              "      <td>3</td>\n",
              "      <td>3</td>\n",
              "      <td>2</td>\n",
              "      <td>1307923200</td>\n",
              "      <td>Cough Medicine</td>\n",
              "      <td>if you are looking for the secret ingredient i...</td>\n",
              "      <td>0</td>\n",
              "    </tr>\n",
              "    <tr>\n",
              "      <th>4</th>\n",
              "      <td>5</td>\n",
              "      <td>B006K2ZZ7K</td>\n",
              "      <td>A1UQRSCLF8GW1T</td>\n",
              "      <td>Michael D. Bigham \"M. Wassir\"</td>\n",
              "      <td>0</td>\n",
              "      <td>0</td>\n",
              "      <td>5</td>\n",
              "      <td>1350777600</td>\n",
              "      <td>Great taffy</td>\n",
              "      <td>great taffy at a great price there was a wide ...</td>\n",
              "      <td>1</td>\n",
              "    </tr>\n",
              "  </tbody>\n",
              "</table>\n",
              "</div>"
            ],
            "text/plain": [
              "   Id   ProductId  ...                                               Text sentiment\n",
              "0   1  B001E4KFG0  ...  i have bought several of the vitality canned d...         1\n",
              "1   2  B00813GRG4  ...  product arrived labeled as jumbo salted peanut...         0\n",
              "2   3  B000LQOCH0  ...  this is a confection that has been around a fe...         1\n",
              "3   4  B000UA0QIQ  ...  if you are looking for the secret ingredient i...         0\n",
              "4   5  B006K2ZZ7K  ...  great taffy at a great price there was a wide ...         1\n",
              "\n",
              "[5 rows x 11 columns]"
            ]
          },
          "metadata": {
            "tags": []
          },
          "execution_count": 43
        }
      ]
    },
    {
      "cell_type": "markdown",
      "metadata": {
        "id": "-ZS6rp0KCMaV"
      },
      "source": [
        "#### Removing stop words\n",
        "- https://www.geeksforgeeks.org/removing-stop-words-nltk-python/"
      ]
    },
    {
      "cell_type": "code",
      "metadata": {
        "trusted": true,
        "colab": {
          "base_uri": "https://localhost:8080/"
        },
        "id": "MDMRStEhCMaV",
        "outputId": "cd8c3f9a-9183-4909-e143-c50d3d792f6d"
      },
      "source": [
        "from nltk.corpus import stopwords\n",
        "import nltk\n",
        "nltk.download('stopwords')\n",
        "\n",
        "print(stopwords.fileids())"
      ],
      "execution_count": 51,
      "outputs": [
        {
          "output_type": "stream",
          "name": "stdout",
          "text": [
            "['arabic', 'azerbaijani', 'danish', 'dutch', 'english', 'finnish', 'french', 'german', 'greek', 'hungarian', 'indonesian', 'italian', 'kazakh', 'nepali', 'norwegian', 'portuguese', 'romanian', 'russian', 'slovene', 'spanish', 'swedish', 'tajik', 'turkish']\n",
            "[nltk_data] Downloading package stopwords to\n",
            "[nltk_data]     C:\\Users\\VikasKM\\AppData\\Roaming\\nltk_data...\n",
            "[nltk_data]   Package stopwords is already up-to-date!\n"
          ]
        }
      ]
    },
    {
      "cell_type": "code",
      "metadata": {
        "trusted": true,
        "colab": {
          "base_uri": "https://localhost:8080/"
        },
        "id": "oEq_HwaWCMah",
        "outputId": "e36cded0-e81e-4fed-9b54-96bc29793f6a"
      },
      "source": [
        "stop_words = set(stopwords.words('english'))\n",
        "print(stop_words)"
      ],
      "execution_count": 52,
      "outputs": [
        {
          "output_type": "stream",
          "name": "stdout",
          "text": [
            "{'me', \"doesn't\", 'where', 'of', 'too', 'ours', 'couldn', 'itself', \"aren't\", 'we', 'him', 'theirs', 'under', \"shouldn't\", 's', 'o', 'no', 'doesn', 'out', 'because', 'more', 'then', 'does', 'he', 'don', 'myself', 'what', 'be', 'again', 'all', 'such', \"didn't\", 'mightn', 'are', 'during', 'the', 'against', 'each', \"isn't\", \"mightn't\", 'for', 'into', 'your', 'have', 'nor', \"wasn't\", 'off', 'how', 'you', 'mustn', 'any', 'hadn', 'this', 'about', 'those', \"she's\", 'which', 'shouldn', 'to', 'wouldn', 'won', 'down', 'than', 'needn', 'they', 've', \"weren't\", 'between', 'i', 'it', 'do', 'there', 'or', 'doing', 'my', 'both', 'themselves', 'ain', 'were', 'an', 'above', 'why', 'himself', \"should've\", 'was', 'whom', \"it's\", 'their', \"you're\", 'a', 'its', \"needn't\", 'further', 'her', 'most', 'aren', 'y', 'having', 'being', 'over', 'once', 'herself', 'haven', 'before', 'after', \"mustn't\", 'own', \"shan't\", \"don't\", 'will', \"hadn't\", 're', 'yourself', 'as', 'she', 'shan', \"wouldn't\", \"that'll\", 'yours', 'did', 'when', 'hasn', \"you'd\", 'ma', 'ourselves', 'am', \"you've\", 'isn', 'here', 'only', 'so', 'who', 't', 'didn', 'been', \"haven't\", 'weren', 'at', 'while', 'some', 'other', 'same', 'can', 'through', 'should', 'but', 'our', 'just', 'in', 'on', 'yourselves', 'from', \"couldn't\", \"won't\", 'until', 'up', 'wasn', 'below', 'his', 'if', 'has', 'these', 'll', 'with', 'now', 'them', 'few', 'is', 'd', \"hasn't\", 'hers', \"you'll\", 'very', 'had', 'm', 'not', 'and', 'that', 'by'}\n"
          ]
        }
      ]
    },
    {
      "cell_type": "code",
      "metadata": {
        "trusted": true,
        "id": "UzEwQvxHCMai"
      },
      "source": [
        "# sentence = df['Text'].iloc[0]\n",
        "# print(sentence)\n",
        "# print(50*'-')\n",
        "# from nltk.tokenize import word_tokenize  \n",
        "# word_tokens = word_tokenize(sentence)  \n",
        "# print(word_tokens)\n",
        "# print(50*'-')\n",
        "# filtered_sentence = [w for w in word_tokens if w not in stop_words]\n",
        "# print(filtered_sentence)"
      ],
      "execution_count": 53,
      "outputs": []
    },
    {
      "cell_type": "code",
      "metadata": {
        "trusted": true,
        "colab": {
          "base_uri": "https://localhost:8080/"
        },
        "id": "a4ztPHyvCMai",
        "outputId": "aa58a210-bc23-4163-b6c2-92a8da53b75d"
      },
      "source": [
        "# removing stop words from the review text\n",
        "def remove_stop_words(x, stop_words):\n",
        "    text = ' '.join(word for word in word_tokenize(x) if word not in stop_words)\n",
        "    return text\n",
        "    "
      ],
      "execution_count": 54,
      "outputs": []
    },
    {
      "cell_type": "code",
      "metadata": {
        "trusted": true,
        "id": "mbeW5rTbCMai"
      },
      "source": [
        "# text = 'i have bought several of the vitality canned dog food products and have found them all to be of good quality the product looks more like a stew than a processed meat and it smells better my labrador is finicky and she appreciates this product better than most'\n",
        "# t = remove_stop_words(text, stop_words)\n",
        "# t"
      ],
      "execution_count": 55,
      "outputs": []
    },
    {
      "cell_type": "code",
      "metadata": {
        "trusted": true,
        "colab": {
          "base_uri": "https://localhost:8080/",
          "height": 122
        },
        "id": "qB6k-DVtCMaj",
        "outputId": "5d711c66-b588-4efa-c19e-e3ead8c833b8"
      },
      "source": [
        "from nltk.corpus import stopwords\n",
        "import nltk\n",
        "nltk.download('stopwords')\n",
        "nltk.download('punkt')\n",
        "stop_words = set(stopwords.words('english'))\n",
        "\n",
        "df['Text'] = df['Text'].apply(lambda x: remove_stop_words(x, stop_words))\n",
        "df['Text'].iloc[0]"
      ],
      "execution_count": 56,
      "outputs": [
        {
          "output_type": "stream",
          "name": "stderr",
          "text": [
            "[nltk_data] Downloading package stopwords to\n",
            "[nltk_data]     C:\\Users\\VikasKM\\AppData\\Roaming\\nltk_data...\n",
            "[nltk_data]   Package stopwords is already up-to-date!\n",
            "[nltk_data] Downloading package punkt to\n",
            "[nltk_data]     C:\\Users\\VikasKM\\AppData\\Roaming\\nltk_data...\n",
            "[nltk_data]   Unzipping tokenizers\\punkt.zip.\n"
          ]
        },
        {
          "output_type": "execute_result",
          "data": {
            "text/plain": [
              "'bought several vitality canned dog food products found good quality product looks like stew processed meat smells better labrador finicky appreciates product better'"
            ]
          },
          "metadata": {},
          "execution_count": 56
        }
      ]
    },
    {
      "cell_type": "markdown",
      "metadata": {
        "id": "z1HBRNVlCMak"
      },
      "source": [
        "#### Above steps taking a lot of time, time to save the data in another pickle file\n"
      ]
    },
    {
      "cell_type": "code",
      "metadata": {
        "trusted": true,
        "id": "UPUj_yvHCMak"
      },
      "source": [
        "df.to_pickle('data_removed_stop_words.pkl')"
      ],
      "execution_count": 57,
      "outputs": []
    },
    {
      "cell_type": "code",
      "metadata": {
        "trusted": true,
        "colab": {
          "base_uri": "https://localhost:8080/",
          "height": 329
        },
        "id": "caN80LgwCMal",
        "outputId": "9fbf3e8a-d144-460d-d960-fdb9e5637ec2"
      },
      "source": [
        "df_temp = pd.read_pickle('data_removed_stop_words.pkl')\n",
        "df_temp.head()"
      ],
      "execution_count": 112,
      "outputs": [
        {
          "output_type": "execute_result",
          "data": {
            "text/plain": [
              "    ProductId          UserId                      ProfileName  \\\n",
              "0  B001E4KFG0  A3SGXH7AUHU8GW                       delmartian   \n",
              "1  B00813GRG4  A1D87F6ZCVE5NK                           dll pa   \n",
              "2  B000LQOCH0   ABXLMWJIXXAIN  Natalia Corres \"Natalia Corres\"   \n",
              "3  B000UA0QIQ  A395BORC6FGVXV                             Karl   \n",
              "4  B006K2ZZ7K  A1UQRSCLF8GW1T    Michael D. Bigham \"M. Wassir\"   \n",
              "\n",
              "   HelpfulnessNumerator  HelpfulnessDenominator  Score        Time  \\\n",
              "0                     1                       1      5  1303862400   \n",
              "1                     0                       0      1  1346976000   \n",
              "2                     1                       1      4  1219017600   \n",
              "3                     3                       3      2  1307923200   \n",
              "4                     0                       0      5  1350777600   \n",
              "\n",
              "                 Summary                                               Text  \\\n",
              "0  Good Quality Dog Food  bought several vitality canned dog food produc...   \n",
              "1      Not as Advertised  product arrived labeled jumbo salted peanuts p...   \n",
              "2  \"Delight\" says it all  confection around centuries light pillowy citr...   \n",
              "3         Cough Medicine  looking secret ingredient robitussin believe f...   \n",
              "4            Great taffy  great taffy great price wide assortment yummy ...   \n",
              "\n",
              "   sentiment  \n",
              "0          1  \n",
              "1          0  \n",
              "2          1  \n",
              "3          0  \n",
              "4          1  "
            ],
            "text/html": "<div>\n<style scoped>\n    .dataframe tbody tr th:only-of-type {\n        vertical-align: middle;\n    }\n\n    .dataframe tbody tr th {\n        vertical-align: top;\n    }\n\n    .dataframe thead th {\n        text-align: right;\n    }\n</style>\n<table border=\"1\" class=\"dataframe\">\n  <thead>\n    <tr style=\"text-align: right;\">\n      <th></th>\n      <th>ProductId</th>\n      <th>UserId</th>\n      <th>ProfileName</th>\n      <th>HelpfulnessNumerator</th>\n      <th>HelpfulnessDenominator</th>\n      <th>Score</th>\n      <th>Time</th>\n      <th>Summary</th>\n      <th>Text</th>\n      <th>sentiment</th>\n    </tr>\n  </thead>\n  <tbody>\n    <tr>\n      <th>0</th>\n      <td>B001E4KFG0</td>\n      <td>A3SGXH7AUHU8GW</td>\n      <td>delmartian</td>\n      <td>1</td>\n      <td>1</td>\n      <td>5</td>\n      <td>1303862400</td>\n      <td>Good Quality Dog Food</td>\n      <td>bought several vitality canned dog food produc...</td>\n      <td>1</td>\n    </tr>\n    <tr>\n      <th>1</th>\n      <td>B00813GRG4</td>\n      <td>A1D87F6ZCVE5NK</td>\n      <td>dll pa</td>\n      <td>0</td>\n      <td>0</td>\n      <td>1</td>\n      <td>1346976000</td>\n      <td>Not as Advertised</td>\n      <td>product arrived labeled jumbo salted peanuts p...</td>\n      <td>0</td>\n    </tr>\n    <tr>\n      <th>2</th>\n      <td>B000LQOCH0</td>\n      <td>ABXLMWJIXXAIN</td>\n      <td>Natalia Corres \"Natalia Corres\"</td>\n      <td>1</td>\n      <td>1</td>\n      <td>4</td>\n      <td>1219017600</td>\n      <td>\"Delight\" says it all</td>\n      <td>confection around centuries light pillowy citr...</td>\n      <td>1</td>\n    </tr>\n    <tr>\n      <th>3</th>\n      <td>B000UA0QIQ</td>\n      <td>A395BORC6FGVXV</td>\n      <td>Karl</td>\n      <td>3</td>\n      <td>3</td>\n      <td>2</td>\n      <td>1307923200</td>\n      <td>Cough Medicine</td>\n      <td>looking secret ingredient robitussin believe f...</td>\n      <td>0</td>\n    </tr>\n    <tr>\n      <th>4</th>\n      <td>B006K2ZZ7K</td>\n      <td>A1UQRSCLF8GW1T</td>\n      <td>Michael D. Bigham \"M. Wassir\"</td>\n      <td>0</td>\n      <td>0</td>\n      <td>5</td>\n      <td>1350777600</td>\n      <td>Great taffy</td>\n      <td>great taffy great price wide assortment yummy ...</td>\n      <td>1</td>\n    </tr>\n  </tbody>\n</table>\n</div>"
          },
          "metadata": {},
          "execution_count": 112
        }
      ]
    },
    {
      "cell_type": "markdown",
      "metadata": {
        "id": "D8iWE95rCMal"
      },
      "source": [
        "## Stemming and Lemmatization\n",
        "- https://www.tutorialspoint.com/python_text_processing/python_stemming_algorithms.htm\n",
        "- https://www.tutorialspoint.com/python_text_processing/python_wordnet_interface.htm"
      ]
    },
    {
      "cell_type": "code",
      "metadata": {
        "trusted": true,
        "id": "bkXoTl-wCMal"
      },
      "source": [
        "import nltk\n",
        "from nltk.stem.porter import PorterStemmer\n",
        "porter_stemmer = PorterStemmer()"
      ],
      "execution_count": 58,
      "outputs": []
    },
    {
      "cell_type": "code",
      "metadata": {
        "trusted": true,
        "colab": {
          "base_uri": "https://localhost:8080/"
        },
        "id": "x9CfcHV5CMam",
        "outputId": "f00dc979-f500-43f8-a154-b2310b9c61e1"
      },
      "source": [
        "word_data = \"Aging head of famous crime family decides to transfer his position to one of his subalterns\" \n",
        "nltk_tokens = nltk.word_tokenize(word_data)\n",
        "for w_port in nltk_tokens:\n",
        "   print(\"Actual: %s  || Stem: %s\"  % (w_port,porter_stemmer.stem(w_port)))"
      ],
      "execution_count": 59,
      "outputs": [
        {
          "output_type": "stream",
          "name": "stdout",
          "text": [
            "Actual: Aging  || Stem: age\nActual: head  || Stem: head\nActual: of  || Stem: of\nActual: famous  || Stem: famou\nActual: crime  || Stem: crime\nActual: family  || Stem: famili\nActual: decides  || Stem: decid\nActual: to  || Stem: to\nActual: transfer  || Stem: transfer\nActual: his  || Stem: hi\nActual: position  || Stem: posit\nActual: to  || Stem: to\nActual: one  || Stem: one\nActual: of  || Stem: of\nActual: his  || Stem: hi\nActual: subalterns  || Stem: subaltern\n"
          ]
        }
      ]
    },
    {
      "cell_type": "code",
      "metadata": {
        "trusted": true,
        "colab": {
          "base_uri": "https://localhost:8080/"
        },
        "id": "n2jAsnv1CMao",
        "outputId": "8cf98993-431f-453f-dc21-8778415a6fe8"
      },
      "source": [
        "from nltk.stem import WordNetLemmatizer # Common Lematizer\n",
        "nltk.download('wordnet')\n",
        "from nltk.corpus import wordnet\n",
        "lemmatizer = WordNetLemmatizer()"
      ],
      "execution_count": 60,
      "outputs": [
        {
          "output_type": "stream",
          "name": "stderr",
          "text": [
            "[nltk_data] Downloading package wordnet to\n",
            "[nltk_data]     C:\\Users\\VikasKM\\AppData\\Roaming\\nltk_data...\n",
            "[nltk_data]   Unzipping corpora\\wordnet.zip.\n"
          ]
        }
      ]
    },
    {
      "cell_type": "code",
      "metadata": {
        "trusted": true,
        "colab": {
          "base_uri": "https://localhost:8080/"
        },
        "id": "QnsBq0ZbCMat",
        "outputId": "267a4811-b6a0-4604-d461-ab73822b667f"
      },
      "source": [
        "# Provide a word to be lemmatized\n",
        "print(\"WordNet Lemmatizer\")\n",
        "print(lemmatizer.lemmatize(\"trouble\", wordnet.NOUN))\n",
        "print(lemmatizer.lemmatize(\"troubling\", wordnet.VERB))\n",
        "print(lemmatizer.lemmatize(\"troubled\", wordnet.VERB))"
      ],
      "execution_count": 61,
      "outputs": [
        {
          "output_type": "stream",
          "name": "stdout",
          "text": [
            "WordNet Lemmatizer\n",
            "trouble\n",
            "trouble\n",
            "trouble\n"
          ]
        }
      ]
    },
    {
      "cell_type": "code",
      "metadata": {
        "trusted": true,
        "colab": {
          "base_uri": "https://localhost:8080/"
        },
        "id": "ysjKQlKdCMau",
        "outputId": "4a91bff3-24ad-44b2-c83b-9bde0f70a8cb"
      },
      "source": [
        "# n-grams\n",
        "from nltk import ngrams\n",
        "\n",
        "sentence = 'A bird in the hand worths two in the bush'\n",
        "\n",
        "for n in range(1, 6):\n",
        "    print(str(n) + '-grams:\\n', list(ngrams(sentence.split(), n)))"
      ],
      "execution_count": 62,
      "outputs": [
        {
          "output_type": "stream",
          "name": "stdout",
          "text": [
            "1-grams:\n [('A',), ('bird',), ('in',), ('the',), ('hand',), ('worths',), ('two',), ('in',), ('the',), ('bush',)]\n2-grams:\n [('A', 'bird'), ('bird', 'in'), ('in', 'the'), ('the', 'hand'), ('hand', 'worths'), ('worths', 'two'), ('two', 'in'), ('in', 'the'), ('the', 'bush')]\n3-grams:\n [('A', 'bird', 'in'), ('bird', 'in', 'the'), ('in', 'the', 'hand'), ('the', 'hand', 'worths'), ('hand', 'worths', 'two'), ('worths', 'two', 'in'), ('two', 'in', 'the'), ('in', 'the', 'bush')]\n4-grams:\n [('A', 'bird', 'in', 'the'), ('bird', 'in', 'the', 'hand'), ('in', 'the', 'hand', 'worths'), ('the', 'hand', 'worths', 'two'), ('hand', 'worths', 'two', 'in'), ('worths', 'two', 'in', 'the'), ('two', 'in', 'the', 'bush')]\n5-grams:\n [('A', 'bird', 'in', 'the', 'hand'), ('bird', 'in', 'the', 'hand', 'worths'), ('in', 'the', 'hand', 'worths', 'two'), ('the', 'hand', 'worths', 'two', 'in'), ('hand', 'worths', 'two', 'in', 'the'), ('worths', 'two', 'in', 'the', 'bush')]\n"
          ]
        }
      ]
    },
    {
      "cell_type": "markdown",
      "metadata": {
        "id": "7yHn5wlTCMav"
      },
      "source": [
        "### Applying Bag of words"
      ]
    },
    {
      "cell_type": "code",
      "metadata": {
        "trusted": true,
        "id": "hdCTPFQXCMav"
      },
      "source": [
        "vec = CountVectorizer()\n",
        "X = vec.fit_transform(df['Text'])\n",
        "df_vec = pd.DataFrame(X.toarray(), columns = vec.get_feature_names())\n",
        "df_vec.head()"
      ],
      "execution_count": 148,
      "outputs": [
        {
          "output_type": "execute_result",
          "data": {
            "text/plain": [
              "   aa  aaaa  aahhhs  ab  aback  abandon  abates  abberline  abbott  abby  ...  \\\n",
              "0   0     0       0   0      0        0       0          0       0     0  ...   \n",
              "1   0     0       0   0      0        0       0          0       0     0  ...   \n",
              "2   0     0       0   0      0        0       0          0       0     0  ...   \n",
              "3   0     0       0   0      0        0       0          0       0     0  ...   \n",
              "4   0     0       0   0      0        0       0          0       0     0  ...   \n",
              "\n",
              "   zomg  zon  zoo  zoom  zotz  zucchini  zuke  zukes  zupas  zuppa  \n",
              "0     0    0    0     0     0         0     0      0      0      0  \n",
              "1     0    0    0     0     0         0     0      0      0      0  \n",
              "2     0    0    0     0     0         0     0      0      0      0  \n",
              "3     0    0    0     0     0         0     0      0      0      0  \n",
              "4     0    0    0     0     0         0     0      0      0      0  \n",
              "\n",
              "[5 rows x 17461 columns]"
            ],
            "text/html": "<div>\n<style scoped>\n    .dataframe tbody tr th:only-of-type {\n        vertical-align: middle;\n    }\n\n    .dataframe tbody tr th {\n        vertical-align: top;\n    }\n\n    .dataframe thead th {\n        text-align: right;\n    }\n</style>\n<table border=\"1\" class=\"dataframe\">\n  <thead>\n    <tr style=\"text-align: right;\">\n      <th></th>\n      <th>aa</th>\n      <th>aaaa</th>\n      <th>aahhhs</th>\n      <th>ab</th>\n      <th>aback</th>\n      <th>abandon</th>\n      <th>abates</th>\n      <th>abberline</th>\n      <th>abbott</th>\n      <th>abby</th>\n      <th>...</th>\n      <th>zomg</th>\n      <th>zon</th>\n      <th>zoo</th>\n      <th>zoom</th>\n      <th>zotz</th>\n      <th>zucchini</th>\n      <th>zuke</th>\n      <th>zukes</th>\n      <th>zupas</th>\n      <th>zuppa</th>\n    </tr>\n  </thead>\n  <tbody>\n    <tr>\n      <th>0</th>\n      <td>0</td>\n      <td>0</td>\n      <td>0</td>\n      <td>0</td>\n      <td>0</td>\n      <td>0</td>\n      <td>0</td>\n      <td>0</td>\n      <td>0</td>\n      <td>0</td>\n      <td>...</td>\n      <td>0</td>\n      <td>0</td>\n      <td>0</td>\n      <td>0</td>\n      <td>0</td>\n      <td>0</td>\n      <td>0</td>\n      <td>0</td>\n      <td>0</td>\n      <td>0</td>\n    </tr>\n    <tr>\n      <th>1</th>\n      <td>0</td>\n      <td>0</td>\n      <td>0</td>\n      <td>0</td>\n      <td>0</td>\n      <td>0</td>\n      <td>0</td>\n      <td>0</td>\n      <td>0</td>\n      <td>0</td>\n      <td>...</td>\n      <td>0</td>\n      <td>0</td>\n      <td>0</td>\n      <td>0</td>\n      <td>0</td>\n      <td>0</td>\n      <td>0</td>\n      <td>0</td>\n      <td>0</td>\n      <td>0</td>\n    </tr>\n    <tr>\n      <th>2</th>\n      <td>0</td>\n      <td>0</td>\n      <td>0</td>\n      <td>0</td>\n      <td>0</td>\n      <td>0</td>\n      <td>0</td>\n      <td>0</td>\n      <td>0</td>\n      <td>0</td>\n      <td>...</td>\n      <td>0</td>\n      <td>0</td>\n      <td>0</td>\n      <td>0</td>\n      <td>0</td>\n      <td>0</td>\n      <td>0</td>\n      <td>0</td>\n      <td>0</td>\n      <td>0</td>\n    </tr>\n    <tr>\n      <th>3</th>\n      <td>0</td>\n      <td>0</td>\n      <td>0</td>\n      <td>0</td>\n      <td>0</td>\n      <td>0</td>\n      <td>0</td>\n      <td>0</td>\n      <td>0</td>\n      <td>0</td>\n      <td>...</td>\n      <td>0</td>\n      <td>0</td>\n      <td>0</td>\n      <td>0</td>\n      <td>0</td>\n      <td>0</td>\n      <td>0</td>\n      <td>0</td>\n      <td>0</td>\n      <td>0</td>\n    </tr>\n    <tr>\n      <th>4</th>\n      <td>0</td>\n      <td>0</td>\n      <td>0</td>\n      <td>0</td>\n      <td>0</td>\n      <td>0</td>\n      <td>0</td>\n      <td>0</td>\n      <td>0</td>\n      <td>0</td>\n      <td>...</td>\n      <td>0</td>\n      <td>0</td>\n      <td>0</td>\n      <td>0</td>\n      <td>0</td>\n      <td>0</td>\n      <td>0</td>\n      <td>0</td>\n      <td>0</td>\n      <td>0</td>\n    </tr>\n  </tbody>\n</table>\n<p>5 rows × 17461 columns</p>\n</div>"
          },
          "metadata": {},
          "execution_count": 148
        }
      ]
    },
    {
      "cell_type": "code",
      "metadata": {
        "trusted": true,
        "id": "JSUuqpa9CMav"
      },
      "source": [
        "### Creating a python object of the class CountVectorizer\n",
        "\n",
        "bow_counts = CountVectorizer(tokenizer= word_tokenize,stop_words=stop_words, ngram_range=(1,1))\n",
        "\n",
        "bow_data = bow_counts.fit_transform(df['Text'])\n",
        "\n",
        "# Save the vectorizer\n",
        "vec_file = 'bow_counts.pickle'\n",
        "pickle.dump(bow_counts, open(vec_file, 'wb'))"
      ],
      "execution_count": 149,
      "outputs": []
    },
    {
      "cell_type": "code",
      "execution_count": 150,
      "metadata": {},
      "outputs": [
        {
          "output_type": "execute_result",
          "data": {
            "text/plain": [
              "<9138x17479 sparse matrix of type '<class 'numpy.int64'>'\n",
              "\twith 285882 stored elements in Compressed Sparse Row format>"
            ]
          },
          "metadata": {},
          "execution_count": 150
        }
      ],
      "source": [
        "bow_data"
      ]
    },
    {
      "source": [
        "#### After bag of words is prepared, \n",
        "#### the dataset will be divided into training and test sets:"
      ],
      "cell_type": "markdown",
      "metadata": {}
    },
    {
      "cell_type": "code",
      "execution_count": 151,
      "metadata": {},
      "outputs": [],
      "source": [
        "X_train_bow, X_test_bow, y_train_bow, y_test_bow = train_test_split(bow_data, df['sentiment'], test_size = 0.3, random_state = 42)"
      ]
    },
    {
      "cell_type": "code",
      "execution_count": 152,
      "metadata": {},
      "outputs": [
        {
          "output_type": "execute_result",
          "data": {
            "text/plain": [
              "1    2304\n",
              "0     438\n",
              "Name: sentiment, dtype: int64"
            ]
          },
          "metadata": {},
          "execution_count": 152
        }
      ],
      "source": [
        "y_test_bow.value_counts()"
      ]
    },
    {
      "source": [
        "### Observations\n",
        "- This data is highly imbalanced\n",
        "- Need to apply oversampling or undersampling or SMOTE techniques"
      ],
      "cell_type": "markdown",
      "metadata": {}
    },
    {
      "source": [
        "### Observations\n",
        "- https://machinelearningmastery.com/random-oversampling-and-undersampling-for-imbalanced-classification/\n",
        "- https://machinelearningmastery.com/smote-oversampling-for-imbalanced-classification/"
      ],
      "cell_type": "markdown",
      "metadata": {}
    },
    {
      "source": [
        "### Applying Logistic Regression"
      ],
      "cell_type": "markdown",
      "metadata": {}
    },
    {
      "cell_type": "code",
      "execution_count": 153,
      "metadata": {},
      "outputs": [
        {
          "output_type": "stream",
          "name": "stdout",
          "text": [
            "F1 score:  0.9410267288926603\n"
          ]
        }
      ],
      "source": [
        "lr_bow = LogisticRegression()\n",
        "lr_bow.fit(X_train_bow, y_train_bow)\n",
        "\n",
        "test_pred_lr_bow = lr_bow.predict(X_test_bow)\n",
        "\n",
        "# Save the model\n",
        "mod_file = 'lr_bow.model'\n",
        "pickle.dump(lr_bow, open(mod_file, 'wb'))\n",
        "\n",
        "## Calculate key performance metrics\n",
        "print(\"F1 score: \", f1_score(y_test_bow, test_pred_lr_bow))"
      ]
    },
    {
      "source": [
        "### NGRAM changing from 1 to 4, to check if score increases"
      ],
      "cell_type": "markdown",
      "metadata": {}
    },
    {
      "cell_type": "code",
      "execution_count": 97,
      "metadata": {},
      "outputs": [],
      "source": [
        "# bow_counts_more = CountVectorizer(tokenizer= word_tokenize, stop_words=stop_words, ngram_range=(1,4))\n",
        "\n",
        "# bow_data_more = bow_counts_more.fit_transform(df.Text)"
      ]
    },
    {
      "cell_type": "code",
      "execution_count": 98,
      "metadata": {},
      "outputs": [
        {
          "output_type": "execute_result",
          "data": {
            "text/plain": [
              "<9138x810334 sparse matrix of type '<class 'numpy.int64'>'\n",
              "\twith 1228826 stored elements in Compressed Sparse Row format>"
            ]
          },
          "metadata": {},
          "execution_count": 98
        }
      ],
      "source": [
        "# bow_data_more"
      ]
    },
    {
      "cell_type": "code",
      "execution_count": 99,
      "metadata": {},
      "outputs": [],
      "source": [
        "# X_train_bow, X_test_bow, y_train_bow, y_test_bow = train_test_split(bow_data_more, df['sentiment'], test_size = 0.3, random_state = 42)"
      ]
    },
    {
      "cell_type": "code",
      "execution_count": 100,
      "metadata": {},
      "outputs": [
        {
          "output_type": "stream",
          "name": "stdout",
          "text": [
            "F1 score:  0.9370225067107165\n"
          ]
        }
      ],
      "source": [
        "# lr_bow_more = LogisticRegression()\n",
        "# lr_bow_more.fit(X_train_bow, y_train_bow)\n",
        "\n",
        "# test_pred_lr_bow_more = lr_bow_more.predict(X_test_bow)\n",
        "\n",
        "# ## Calculate key performance metrics\n",
        "# print(\"F1 score: \", f1_score(y_test_bow, test_pred_lr_bow_more))"
      ]
    },
    {
      "source": [
        "#### Observation\n",
        "- F1 Score slightly decreased from 0.941026 to 0.937022"
      ],
      "cell_type": "markdown",
      "metadata": {}
    },
    {
      "source": [
        "## Applying TFIDF"
      ],
      "cell_type": "markdown",
      "metadata": {}
    },
    {
      "cell_type": "code",
      "execution_count": 154,
      "metadata": {},
      "outputs": [],
      "source": [
        "from sklearn.feature_extraction.text import TfidfVectorizer\n",
        "\n",
        "tfidf_counts = TfidfVectorizer(tokenizer= word_tokenize,stop_words=stop_words, ngram_range=(1,1))\n",
        "\n",
        "tfidf_data = tfidf_counts.fit_transform(df['Text'])\n",
        "\n",
        "# Save the vectorizer\n",
        "vec_file = 'tfidf_counts.pickle'\n",
        "pickle.dump(tfidf_counts, open(vec_file, 'wb'))"
      ]
    },
    {
      "cell_type": "code",
      "execution_count": 155,
      "metadata": {},
      "outputs": [
        {
          "output_type": "execute_result",
          "data": {
            "text/plain": [
              "<9138x17479 sparse matrix of type '<class 'numpy.float64'>'\n",
              "\twith 285882 stored elements in Compressed Sparse Row format>"
            ]
          },
          "metadata": {},
          "execution_count": 155
        }
      ],
      "source": [
        "tfidf_data"
      ]
    },
    {
      "cell_type": "code",
      "execution_count": 156,
      "metadata": {},
      "outputs": [],
      "source": [
        "X_train_tfidf, X_test_tfidf, y_train_tfidf, y_test_tfidf = train_test_split(tfidf_data, df['sentiment'], test_size = 0.3,random_state = 42)"
      ]
    },
    {
      "source": [
        "### Applying Logistic Regression to TFIDF"
      ],
      "cell_type": "markdown",
      "metadata": {}
    },
    {
      "cell_type": "code",
      "execution_count": 157,
      "metadata": {},
      "outputs": [
        {
          "output_type": "stream",
          "name": "stdout",
          "text": [
            "F1 score:  0.9292071197411004\n"
          ]
        }
      ],
      "source": [
        "lr_tf_idf = LogisticRegression()\n",
        "\n",
        "lr_tf_idf.fit(X_train_tfidf,y_train_tfidf)\n",
        "\n",
        "test_pred_lr_tf_idf = lr_tf_idf.predict(X_test_tfidf)\n",
        "\n",
        "# Save the model\n",
        "mod_file = 'lr_tf_idf.model'\n",
        "pickle.dump(lr_tf_idf, open(mod_file, 'wb'))\n",
        "\n",
        "## Evaluating the model\n",
        "print(\"F1 score: \",f1_score(y_test_bow, test_pred_lr_tf_idf))"
      ]
    },
    {
      "source": [
        "## testing the pickle files"
      ],
      "cell_type": "markdown",
      "metadata": {}
    },
    {
      "cell_type": "code",
      "execution_count": 159,
      "metadata": {},
      "outputs": [
        {
          "output_type": "stream",
          "name": "stdout",
          "text": [
            "[1]\n"
          ]
        }
      ],
      "source": [
        "text='this is fantastic book love it'\n",
        "loaded_vectorizer = pickle.load(open('bow_counts.pickle', 'rb'))\n",
        "\n",
        "# load the model\n",
        "loaded_model = pickle.load(open('lr_bow.model', 'rb'))\n",
        "\n",
        "# make a prediction\n",
        "print(loaded_model.predict(loaded_vectorizer.transform([text])))"
      ]
    },
    {
      "source": [
        "## testing the pickle files"
      ],
      "cell_type": "markdown",
      "metadata": {}
    },
    {
      "cell_type": "code",
      "execution_count": 162,
      "metadata": {},
      "outputs": [
        {
          "output_type": "stream",
          "name": "stdout",
          "text": [
            "[1]\n"
          ]
        }
      ],
      "source": [
        "text='this is fantastic book love it'\n",
        "loaded_vectorizer = pickle.load(open('tfidf_counts.pickle', 'rb'))\n",
        "\n",
        "# load the model\n",
        "loaded_model = pickle.load(open('lr_tf_idf.model', 'rb'))\n",
        "\n",
        "# make a prediction\n",
        "print(loaded_model.predict(loaded_vectorizer.transform([text])))"
      ]
    },
    {
      "cell_type": "code",
      "execution_count": 169,
      "metadata": {},
      "outputs": [],
      "source": [
        "def predictText(text):\n",
        "    lrbow = -1\n",
        "    lrtfidf = -1\n",
        "\n",
        "    #load vectorizer\n",
        "    loaded_bow = pickle.load(open('bow_counts.pickle', 'rb'))\n",
        "    # load the model\n",
        "    loaded_model_bow = pickle.load(open('lr_bow.model', 'rb'))\n",
        "    # make a prediction\n",
        "    lrbow = int(loaded_model_bow.predict(loaded_bow.transform([text])))\n",
        "\n",
        "    # load vectorizer\n",
        "    loaded_tfidf = pickle.load(open('tfidf_counts.pickle', 'rb'))\n",
        "    # load the model\n",
        "    loaded_model_tfidf = pickle.load(open('lr_tf_idf.model', 'rb'))\n",
        "\n",
        "    # make a prediction\n",
        "    lrtfidf = int(loaded_model_tfidf.predict(loaded_tfidf.transform([text])))\n",
        "\n",
        "    return lrbow, lrtfidf\n"
      ]
    },
    {
      "cell_type": "code",
      "execution_count": 179,
      "metadata": {},
      "outputs": [
        {
          "output_type": "stream",
          "name": "stdout",
          "text": [
            "1\n1\n"
          ]
        }
      ],
      "source": [
        "text='love'\n",
        "lrbow, lrtfidf = predictText(text)\n",
        "print(lrbow)\n",
        "print(lrtfidf)"
      ]
    },
    {
      "cell_type": "code",
      "execution_count": null,
      "metadata": {},
      "outputs": [],
      "source": []
    }
  ]
}